{
  "cells": [
    {
      "cell_type": "markdown",
      "metadata": {
        "id": "view-in-github",
        "colab_type": "text"
      },
      "source": [
        "<a href=\"https://colab.research.google.com/github/alex-morozov-98/Thesis/blob/main/Search_for_miRNAs.ipynb\" target=\"_parent\"><img src=\"https://colab.research.google.com/assets/colab-badge.svg\" alt=\"Open In Colab\"/></a>"
      ]
    },
    {
      "cell_type": "markdown",
      "metadata": {
        "id": "K67Ln_VDkapi"
      },
      "source": [
        "# Settings"
      ]
    },
    {
      "cell_type": "code",
      "execution_count": null,
      "metadata": {
        "id": "K5F63mR35lbk"
      },
      "outputs": [],
      "source": [
        "import scipy\n",
        "import numpy as np \n",
        "import pandas as pd\n",
        "\n",
        "import itertools\n",
        "import matplotlib.pyplot as plt\n",
        "import seaborn as sn"
      ]
    },
    {
      "cell_type": "code",
      "execution_count": null,
      "metadata": {
        "colab": {
          "base_uri": "https://localhost:8080/"
        },
        "id": "1NZLsOVN6IJS",
        "outputId": "f0871e9a-63e2-45c6-beae-0fd5be69ab87"
      },
      "outputs": [
        {
          "output_type": "stream",
          "name": "stdout",
          "text": [
            "Drive already mounted at /content/drive; to attempt to forcibly remount, call drive.mount(\"/content/drive\", force_remount=True).\n"
          ]
        }
      ],
      "source": [
        "### grant access to your google drive\n",
        "from google.colab import drive\n",
        "drive.mount('/content/drive')"
      ]
    },
    {
      "cell_type": "code",
      "execution_count": null,
      "metadata": {
        "id": "_d1nye3obI74"
      },
      "outputs": [],
      "source": [
        "### set the number of dataframe rows you would like to display\n",
        "pd.options.display.max_rows = 10"
      ]
    },
    {
      "cell_type": "code",
      "execution_count": null,
      "metadata": {
        "colab": {
          "base_uri": "https://localhost:8080/"
        },
        "id": "Vi2k2Wzh9f1J",
        "outputId": "5daeecd6-3021-44c2-946b-a4b0ec85b404"
      },
      "outputs": [
        {
          "output_type": "stream",
          "name": "stdout",
          "text": [
            "Collecting gprofiler-official\n",
            "  Downloading gprofiler_official-1.0.0-py3-none-any.whl (9.3 kB)\n",
            "Requirement already satisfied: requests in /usr/local/lib/python3.7/dist-packages (from gprofiler-official) (2.23.0)\n",
            "Requirement already satisfied: idna<3,>=2.5 in /usr/local/lib/python3.7/dist-packages (from requests->gprofiler-official) (2.10)\n",
            "Requirement already satisfied: chardet<4,>=3.0.2 in /usr/local/lib/python3.7/dist-packages (from requests->gprofiler-official) (3.0.4)\n",
            "Requirement already satisfied: urllib3!=1.25.0,!=1.25.1,<1.26,>=1.21.1 in /usr/local/lib/python3.7/dist-packages (from requests->gprofiler-official) (1.24.3)\n",
            "Requirement already satisfied: certifi>=2017.4.17 in /usr/local/lib/python3.7/dist-packages (from requests->gprofiler-official) (2021.10.8)\n",
            "Installing collected packages: gprofiler-official\n",
            "Successfully installed gprofiler-official-1.0.0\n"
          ]
        }
      ],
      "source": [
        "### install GProfiler\n",
        "!pip install gprofiler-official"
      ]
    },
    {
      "cell_type": "code",
      "source": [
        "from gprofiler import GProfiler"
      ],
      "metadata": {
        "id": "jQ8hGfIDEhES"
      },
      "execution_count": null,
      "outputs": []
    },
    {
      "cell_type": "markdown",
      "metadata": {
        "id": "vcqUTo2MkjlT"
      },
      "source": [
        "# Get the enriched lists of differentially expressed genes"
      ]
    },
    {
      "cell_type": "markdown",
      "metadata": {
        "id": "QAn3_vplk7rX"
      },
      "source": [
        "You should upload csv files obtained during semantic analysis in R to your Google Drive. Please, add the pathways to these files to variable \"files\". Please, list GO, KEGG, Reactome and DO terms of your interest or substrings (key words) of these terms in the variable \"terms\".\n",
        "NB! It is highly recommended that you use files obtained right after the R packages procession. If you read and process these files in Excel before uploading them to Google drive please make sure not to resave them in Excel because Excel saves some data in the date format which can't be processed by pandas causing errors."
      ]
    },
    {
      "cell_type": "code",
      "execution_count": null,
      "metadata": {
        "colab": {
          "base_uri": "https://localhost:8080/"
        },
        "id": "gTMfO-aN9FDH",
        "outputId": "e992180d-0ed8-4b87-bdd0-419ffd8b80e2"
      },
      "outputs": [
        {
          "output_type": "stream",
          "name": "stdout",
          "text": [
            "['CSRP1', 'PPP1R14A', 'POSTN', 'MYLK', 'CNN1', 'CD36', 'COL4A1', 'MYL9', 'CSRP2', 'ACTG2', 'ACTA2', 'MYH11', 'ITGA1', 'COL4A2', 'CALD1', 'CAV1']\n",
            "Number of genes selected: 16\n"
          ]
        }
      ],
      "source": [
        "### select downregulated genes\n",
        "files = ['/content/drive/MyDrive/Colab Notebooks/EGO_DO_down.csv',\n",
        "         '/content/drive/MyDrive/Colab Notebooks/EGO_GO_down.csv',\n",
        "         '/content/drive/MyDrive/Colab Notebooks/EGO_KEGG_down.csv',\n",
        "         '/content/drive/MyDrive/Colab Notebooks/Reactome_down.csv']\n",
        "\n",
        "terms = ['cellular', 'stem', 'fibrosis', 'wound', 'differentitation', \n",
        "         'actin', 'matrix', 'fibroblast', 'myofibroblast', 'myofibril',\n",
        "         'wounding', 'muscle', 'extracellular', 'encapsulating', \n",
        "         'mesenchymal', 'collagen', 'contraction', 'ECM', 'Matrix Metalloproteinases']\n",
        "down = []\n",
        "\n",
        "for f in files:        \n",
        "    genf = pd.read_csv(f, sep=',')\n",
        "    interest = genf.loc[genf['Description'].apply(lambda x: any( word in x for word in terms))]\n",
        "    down_inter = []\n",
        "    for i in interest['geneID']:\n",
        "        a = list(i.split(\"/\"))\n",
        "        down_inter = down_inter + a\n",
        "    uni = set(down_inter)\n",
        "    down_inter = list(uni)\n",
        "    down = down + down_inter\n",
        "unid = set(down)\n",
        "down = list(unid)\n",
        "print(down)\n",
        "print(\"Number of genes selected:\", len(down))"
      ]
    },
    {
      "cell_type": "code",
      "source": [
        "### select upregulated genes\n",
        "files = ['/content/drive/MyDrive/Colab Notebooks/EGO_DO_up.csv',\n",
        "         '/content/drive/MyDrive/Colab Notebooks/EGO_GO_up.csv',\n",
        "         '/content/drive/MyDrive/Colab Notebooks/EGO_KEGG_up.csv',\n",
        "         '/content/drive/MyDrive/Colab Notebooks/Reactome_up.csv']\n",
        "\n",
        "terms = ['cellular', 'stem', 'fibrosis', 'wound', 'differentitation', \n",
        "         'actin', 'matrix', 'fibroblast', 'myofibroblast', 'myofibril',\n",
        "         'wounding', 'muscle', 'extracellular', 'encapsulating', \n",
        "         'mesenchymal', 'collagen', 'contraction', 'ECM', 'Matrix Metalloproteinases']\n",
        "up = []\n",
        "\n",
        "for f in files:        \n",
        "    genf = pd.read_csv(f, sep=',')\n",
        "    interest = genf.loc[genf['Description'].apply(lambda x: any( word in x for word in terms))]\n",
        "    up_inter = []\n",
        "    for i in interest['geneID']:\n",
        "        a = list(i.split(\"/\"))\n",
        "        up_inter = up_inter + a\n",
        "    uni = set(up_inter)\n",
        "    up_inter = list(uni)\n",
        "    up = up + up_inter\n",
        "unid = set(up)\n",
        "up = list(unid)\n",
        "print(up)\n",
        "print(\"Number of genes selected:\", len(up))"
      ],
      "metadata": {
        "colab": {
          "base_uri": "https://localhost:8080/"
        },
        "id": "NsI4qY2XhFSZ",
        "outputId": "041cc84c-c1c3-4124-f1fa-1886da869ba1"
      },
      "execution_count": null,
      "outputs": [
        {
          "output_type": "stream",
          "name": "stdout",
          "text": [
            "['DCN', 'VCAN', 'HMOX1', 'MMP2', 'DPT', 'CLU', 'SFRP2', 'LUM', 'TIMP1']\n",
            "Number of genes selected: 9\n"
          ]
        }
      ]
    },
    {
      "cell_type": "markdown",
      "metadata": {
        "id": "HVMoNeLs3Xsg"
      },
      "source": [
        "#Preprocessing of Mirnet database"
      ]
    },
    {
      "cell_type": "code",
      "execution_count": null,
      "metadata": {
        "id": "SnkVWt1W9_Tn"
      },
      "outputs": [],
      "source": [
        "### upload mirnet database\n",
        "mirnet = pd.read_csv(\"/content/drive/MyDrive/Colab Notebooks/Data/mirnet.csv\")\n"
      ]
    },
    {
      "cell_type": "code",
      "execution_count": null,
      "metadata": {
        "colab": {
          "base_uri": "https://localhost:8080/"
        },
        "id": "tMnyzKEfnxjQ",
        "outputId": "049be49c-c1f8-4404-f3aa-0f92d133c129"
      },
      "outputs": [
        {
          "output_type": "execute_result",
          "data": {
            "text/plain": [
              "         mirnet         mir_id       mir_acc  symbol             embl  entrez  \\\n",
              "0  mirnet-hsa-1  hsa-let-7a-5p  MIMAT0000062   ACTA1  ENSG00000143632      58   \n",
              "1  mirnet-hsa-2  hsa-let-7a-5p  MIMAT0000062    ACTB  ENSG00000075624      60   \n",
              "2  mirnet-hsa-3  hsa-let-7a-5p  MIMAT0000062  ACVR1B  ENSG00000135503      91   \n",
              "3  mirnet-hsa-4  hsa-let-7a-5p  MIMAT0000062    ADH5  ENSG00000197894     128   \n",
              "4  mirnet-hsa-5  hsa-let-7a-5p  MIMAT0000062   PARP1  ENSG00000143799     142   \n",
              "\n",
              "                                         experiment  \\\n",
              "0                                          PAR-CLIP   \n",
              "1                                             CLASH   \n",
              "2                                             CLASH   \n",
              "3                               HITS-CLIP//PAR-CLIP   \n",
              "4  Luciferase reporter assay//qRT-PCR//Western blot   \n",
              "\n",
              "                         pmid  \n",
              "0                    21572407  \n",
              "1                    23622248  \n",
              "2                    23622248  \n",
              "3  23313552|26701625|27292025  \n",
              "4                    28031413  "
            ],
            "text/html": [
              "\n",
              "  <div id=\"df-02a3fc97-904c-4588-b76a-9f73882b13da\">\n",
              "    <div class=\"colab-df-container\">\n",
              "      <div>\n",
              "<style scoped>\n",
              "    .dataframe tbody tr th:only-of-type {\n",
              "        vertical-align: middle;\n",
              "    }\n",
              "\n",
              "    .dataframe tbody tr th {\n",
              "        vertical-align: top;\n",
              "    }\n",
              "\n",
              "    .dataframe thead th {\n",
              "        text-align: right;\n",
              "    }\n",
              "</style>\n",
              "<table border=\"1\" class=\"dataframe\">\n",
              "  <thead>\n",
              "    <tr style=\"text-align: right;\">\n",
              "      <th></th>\n",
              "      <th>mirnet</th>\n",
              "      <th>mir_id</th>\n",
              "      <th>mir_acc</th>\n",
              "      <th>symbol</th>\n",
              "      <th>embl</th>\n",
              "      <th>entrez</th>\n",
              "      <th>experiment</th>\n",
              "      <th>pmid</th>\n",
              "    </tr>\n",
              "  </thead>\n",
              "  <tbody>\n",
              "    <tr>\n",
              "      <th>0</th>\n",
              "      <td>mirnet-hsa-1</td>\n",
              "      <td>hsa-let-7a-5p</td>\n",
              "      <td>MIMAT0000062</td>\n",
              "      <td>ACTA1</td>\n",
              "      <td>ENSG00000143632</td>\n",
              "      <td>58</td>\n",
              "      <td>PAR-CLIP</td>\n",
              "      <td>21572407</td>\n",
              "    </tr>\n",
              "    <tr>\n",
              "      <th>1</th>\n",
              "      <td>mirnet-hsa-2</td>\n",
              "      <td>hsa-let-7a-5p</td>\n",
              "      <td>MIMAT0000062</td>\n",
              "      <td>ACTB</td>\n",
              "      <td>ENSG00000075624</td>\n",
              "      <td>60</td>\n",
              "      <td>CLASH</td>\n",
              "      <td>23622248</td>\n",
              "    </tr>\n",
              "    <tr>\n",
              "      <th>2</th>\n",
              "      <td>mirnet-hsa-3</td>\n",
              "      <td>hsa-let-7a-5p</td>\n",
              "      <td>MIMAT0000062</td>\n",
              "      <td>ACVR1B</td>\n",
              "      <td>ENSG00000135503</td>\n",
              "      <td>91</td>\n",
              "      <td>CLASH</td>\n",
              "      <td>23622248</td>\n",
              "    </tr>\n",
              "    <tr>\n",
              "      <th>3</th>\n",
              "      <td>mirnet-hsa-4</td>\n",
              "      <td>hsa-let-7a-5p</td>\n",
              "      <td>MIMAT0000062</td>\n",
              "      <td>ADH5</td>\n",
              "      <td>ENSG00000197894</td>\n",
              "      <td>128</td>\n",
              "      <td>HITS-CLIP//PAR-CLIP</td>\n",
              "      <td>23313552|26701625|27292025</td>\n",
              "    </tr>\n",
              "    <tr>\n",
              "      <th>4</th>\n",
              "      <td>mirnet-hsa-5</td>\n",
              "      <td>hsa-let-7a-5p</td>\n",
              "      <td>MIMAT0000062</td>\n",
              "      <td>PARP1</td>\n",
              "      <td>ENSG00000143799</td>\n",
              "      <td>142</td>\n",
              "      <td>Luciferase reporter assay//qRT-PCR//Western blot</td>\n",
              "      <td>28031413</td>\n",
              "    </tr>\n",
              "  </tbody>\n",
              "</table>\n",
              "</div>\n",
              "      <button class=\"colab-df-convert\" onclick=\"convertToInteractive('df-02a3fc97-904c-4588-b76a-9f73882b13da')\"\n",
              "              title=\"Convert this dataframe to an interactive table.\"\n",
              "              style=\"display:none;\">\n",
              "        \n",
              "  <svg xmlns=\"http://www.w3.org/2000/svg\" height=\"24px\"viewBox=\"0 0 24 24\"\n",
              "       width=\"24px\">\n",
              "    <path d=\"M0 0h24v24H0V0z\" fill=\"none\"/>\n",
              "    <path d=\"M18.56 5.44l.94 2.06.94-2.06 2.06-.94-2.06-.94-.94-2.06-.94 2.06-2.06.94zm-11 1L8.5 8.5l.94-2.06 2.06-.94-2.06-.94L8.5 2.5l-.94 2.06-2.06.94zm10 10l.94 2.06.94-2.06 2.06-.94-2.06-.94-.94-2.06-.94 2.06-2.06.94z\"/><path d=\"M17.41 7.96l-1.37-1.37c-.4-.4-.92-.59-1.43-.59-.52 0-1.04.2-1.43.59L10.3 9.45l-7.72 7.72c-.78.78-.78 2.05 0 2.83L4 21.41c.39.39.9.59 1.41.59.51 0 1.02-.2 1.41-.59l7.78-7.78 2.81-2.81c.8-.78.8-2.07 0-2.86zM5.41 20L4 18.59l7.72-7.72 1.47 1.35L5.41 20z\"/>\n",
              "  </svg>\n",
              "      </button>\n",
              "      \n",
              "  <style>\n",
              "    .colab-df-container {\n",
              "      display:flex;\n",
              "      flex-wrap:wrap;\n",
              "      gap: 12px;\n",
              "    }\n",
              "\n",
              "    .colab-df-convert {\n",
              "      background-color: #E8F0FE;\n",
              "      border: none;\n",
              "      border-radius: 50%;\n",
              "      cursor: pointer;\n",
              "      display: none;\n",
              "      fill: #1967D2;\n",
              "      height: 32px;\n",
              "      padding: 0 0 0 0;\n",
              "      width: 32px;\n",
              "    }\n",
              "\n",
              "    .colab-df-convert:hover {\n",
              "      background-color: #E2EBFA;\n",
              "      box-shadow: 0px 1px 2px rgba(60, 64, 67, 0.3), 0px 1px 3px 1px rgba(60, 64, 67, 0.15);\n",
              "      fill: #174EA6;\n",
              "    }\n",
              "\n",
              "    [theme=dark] .colab-df-convert {\n",
              "      background-color: #3B4455;\n",
              "      fill: #D2E3FC;\n",
              "    }\n",
              "\n",
              "    [theme=dark] .colab-df-convert:hover {\n",
              "      background-color: #434B5C;\n",
              "      box-shadow: 0px 1px 3px 1px rgba(0, 0, 0, 0.15);\n",
              "      filter: drop-shadow(0px 1px 2px rgba(0, 0, 0, 0.3));\n",
              "      fill: #FFFFFF;\n",
              "    }\n",
              "  </style>\n",
              "\n",
              "      <script>\n",
              "        const buttonEl =\n",
              "          document.querySelector('#df-02a3fc97-904c-4588-b76a-9f73882b13da button.colab-df-convert');\n",
              "        buttonEl.style.display =\n",
              "          google.colab.kernel.accessAllowed ? 'block' : 'none';\n",
              "\n",
              "        async function convertToInteractive(key) {\n",
              "          const element = document.querySelector('#df-02a3fc97-904c-4588-b76a-9f73882b13da');\n",
              "          const dataTable =\n",
              "            await google.colab.kernel.invokeFunction('convertToInteractive',\n",
              "                                                     [key], {});\n",
              "          if (!dataTable) return;\n",
              "\n",
              "          const docLinkHtml = 'Like what you see? Visit the ' +\n",
              "            '<a target=\"_blank\" href=https://colab.research.google.com/notebooks/data_table.ipynb>data table notebook</a>'\n",
              "            + ' to learn more about interactive tables.';\n",
              "          element.innerHTML = '';\n",
              "          dataTable['output_type'] = 'display_data';\n",
              "          await google.colab.output.renderOutput(dataTable, element);\n",
              "          const docLink = document.createElement('div');\n",
              "          docLink.innerHTML = docLinkHtml;\n",
              "          element.appendChild(docLink);\n",
              "        }\n",
              "      </script>\n",
              "    </div>\n",
              "  </div>\n",
              "  "
            ]
          },
          "metadata": {},
          "execution_count": 9
        }
      ],
      "source": [
        "mirnet[0:5]"
      ]
    },
    {
      "cell_type": "code",
      "execution_count": null,
      "metadata": {
        "id": "nV4PKmtcEAmm"
      },
      "outputs": [],
      "source": [
        "### mirnet db to search for micrornas against genes in question\n",
        "gmirnet = mirnet.set_index(\"symbol\")\n",
        "gmirnet[0:5]\n",
        "gmirind = list(gmirnet.index)"
      ]
    },
    {
      "cell_type": "code",
      "execution_count": null,
      "metadata": {
        "id": "K6XRfkqFGlfn"
      },
      "outputs": [],
      "source": [
        "### mirnet db to search for target genes of mirnas in question\n",
        "mmirnet = mirnet.set_index(\"mir_id\")\n",
        "mmirnet[0:5]\n",
        "mmirind = list(mmirnet.index)"
      ]
    },
    {
      "cell_type": "markdown",
      "metadata": {
        "id": "iuitLsWu31tT"
      },
      "source": [
        "#Get microRNAs "
      ]
    },
    {
      "cell_type": "markdown",
      "metadata": {
        "id": "eClkm6GF4Bd2"
      },
      "source": [
        "###Downregulated"
      ]
    },
    {
      "cell_type": "code",
      "execution_count": null,
      "metadata": {
        "colab": {
          "base_uri": "https://localhost:8080/"
        },
        "id": "wEmfoCC4ZEoA",
        "outputId": "909b8f47-913f-43a9-bd31-21858523d5ac"
      },
      "outputs": [
        {
          "output_type": "execute_result",
          "data": {
            "text/plain": [
              "321"
            ]
          },
          "metadata": {},
          "execution_count": 12
        }
      ],
      "source": [
        "### search for mirnas against downregulated genes\n",
        "dmir = []\n",
        "for i in down:\n",
        "    if i not in gmirind:\n",
        "      next\n",
        "    else:\n",
        "      a = list(gmirnet.loc[i, \"mir_id\"])\n",
        "      dmir = dmir + a\n",
        "\n",
        "dmir = set(dmir)\n",
        "dmir = list(dmir)\n",
        "len(dmir)"
      ]
    },
    {
      "cell_type": "code",
      "execution_count": null,
      "metadata": {
        "id": "G1mY4xRNYs3j"
      },
      "outputs": [],
      "source": [
        "### get all targets of mirnas against downregulated genes\n",
        "dtargets = {}\n",
        "for i in dmir:\n",
        "    if i not in mmirind:\n",
        "      next\n",
        "    else:\n",
        "      a = list(mmirnet.loc[i, \"symbol\"])\n",
        "      dtargets[i] = a\n",
        "dtg = pd.Series(dtargets).to_frame('all targets')"
      ]
    },
    {
      "cell_type": "code",
      "execution_count": null,
      "metadata": {
        "colab": {
          "base_uri": "https://localhost:8080/",
          "height": 763
        },
        "id": "RXvX8QhQZWbo",
        "outputId": "d0431d7c-95bc-48ae-8de7-c7779ffd4f14"
      },
      "outputs": [
        {
          "output_type": "execute_result",
          "data": {
            "text/plain": [
              "                                                       all targets  \\\n",
              "hsa-mir-140-3p   [ABL2, ACVR2B, ADARB1, AHCY, AMFR, BCAT1, KLF9...   \n",
              "hsa-mir-4430     [ABCF1, ABL2, ADAR, ADCY2, ANG, XIAP, BIRC5, A...   \n",
              "hsa-mir-4482-3p  [MAPK14, CSRP1, DSPP, EEF1A1, GABRB1, GALNT1, ...   \n",
              "hsa-mir-8052     [APBA1, ATP1B3, C3, CAPNS1, CAPZA2, CAV2, CEAC...   \n",
              "hsa-mir-519d-5p  [ARL4D, ATP1B3, SERPING1, CACNA1A, CCNF, CDK9,...   \n",
              "...                                                            ...   \n",
              "hsa-mir-7159-3p  [MAPK14, CSRP1, DSPP, EEF1A1, GABRB1, GABRG2, ...   \n",
              "hsa-mir-8070     [ALDH9A1, ATM, ZFP36L1, CD81, COL4A1, COL19A1,...   \n",
              "hsa-mir-574-5p   [ACVR2B, GRK3, AMD1, ANG, APBA1, ARRB1, ASNA1,...   \n",
              "hsa-mir-8485     [ABL2, ACVR1B, ADCYAP1R1, ADRB3, GRK3, ALDH1A3...   \n",
              "hsa-mir-4791     [ADCY9, BLMH, CA8, CAV1, CDC25B, DNASE2, ELAVL...   \n",
              "\n",
              "                 downregulated  number of all targets  \\\n",
              "hsa-mir-140-3p        [COL4A1]                    224   \n",
              "hsa-mir-4430           [MYH11]                    397   \n",
              "hsa-mir-4482-3p        [CSRP1]                     93   \n",
              "hsa-mir-8052           [CSRP1]                    138   \n",
              "hsa-mir-519d-5p        [CSRP1]                    141   \n",
              "...                        ...                    ...   \n",
              "hsa-mir-7159-3p        [CSRP1]                     86   \n",
              "hsa-mir-8070          [COL4A1]                     73   \n",
              "hsa-mir-574-5p         [ITGA1]                    415   \n",
              "hsa-mir-8485     [CD36, ITGA1]                    877   \n",
              "hsa-mir-4791            [CAV1]                     38   \n",
              "\n",
              "                 number of downregulated targets  \\\n",
              "hsa-mir-140-3p                                 1   \n",
              "hsa-mir-4430                                   1   \n",
              "hsa-mir-4482-3p                                1   \n",
              "hsa-mir-8052                                   1   \n",
              "hsa-mir-519d-5p                                1   \n",
              "...                                          ...   \n",
              "hsa-mir-7159-3p                                1   \n",
              "hsa-mir-8070                                   1   \n",
              "hsa-mir-574-5p                                 1   \n",
              "hsa-mir-8485                                   2   \n",
              "hsa-mir-4791                                   1   \n",
              "\n",
              "                 percent of downregulated among all, %  \n",
              "hsa-mir-140-3p                                0.446429  \n",
              "hsa-mir-4430                                  0.251889  \n",
              "hsa-mir-4482-3p                               1.075269  \n",
              "hsa-mir-8052                                  0.724638  \n",
              "hsa-mir-519d-5p                               0.709220  \n",
              "...                                                ...  \n",
              "hsa-mir-7159-3p                               1.162791  \n",
              "hsa-mir-8070                                  1.369863  \n",
              "hsa-mir-574-5p                                0.240964  \n",
              "hsa-mir-8485                                  0.228050  \n",
              "hsa-mir-4791                                  2.631579  \n",
              "\n",
              "[305 rows x 5 columns]"
            ],
            "text/html": [
              "\n",
              "  <div id=\"df-504eeee0-2b5b-478d-8698-d0632182624f\">\n",
              "    <div class=\"colab-df-container\">\n",
              "      <div>\n",
              "<style scoped>\n",
              "    .dataframe tbody tr th:only-of-type {\n",
              "        vertical-align: middle;\n",
              "    }\n",
              "\n",
              "    .dataframe tbody tr th {\n",
              "        vertical-align: top;\n",
              "    }\n",
              "\n",
              "    .dataframe thead th {\n",
              "        text-align: right;\n",
              "    }\n",
              "</style>\n",
              "<table border=\"1\" class=\"dataframe\">\n",
              "  <thead>\n",
              "    <tr style=\"text-align: right;\">\n",
              "      <th></th>\n",
              "      <th>all targets</th>\n",
              "      <th>downregulated</th>\n",
              "      <th>number of all targets</th>\n",
              "      <th>number of downregulated targets</th>\n",
              "      <th>percent of downregulated among all, %</th>\n",
              "    </tr>\n",
              "  </thead>\n",
              "  <tbody>\n",
              "    <tr>\n",
              "      <th>hsa-mir-140-3p</th>\n",
              "      <td>[ABL2, ACVR2B, ADARB1, AHCY, AMFR, BCAT1, KLF9...</td>\n",
              "      <td>[COL4A1]</td>\n",
              "      <td>224</td>\n",
              "      <td>1</td>\n",
              "      <td>0.446429</td>\n",
              "    </tr>\n",
              "    <tr>\n",
              "      <th>hsa-mir-4430</th>\n",
              "      <td>[ABCF1, ABL2, ADAR, ADCY2, ANG, XIAP, BIRC5, A...</td>\n",
              "      <td>[MYH11]</td>\n",
              "      <td>397</td>\n",
              "      <td>1</td>\n",
              "      <td>0.251889</td>\n",
              "    </tr>\n",
              "    <tr>\n",
              "      <th>hsa-mir-4482-3p</th>\n",
              "      <td>[MAPK14, CSRP1, DSPP, EEF1A1, GABRB1, GALNT1, ...</td>\n",
              "      <td>[CSRP1]</td>\n",
              "      <td>93</td>\n",
              "      <td>1</td>\n",
              "      <td>1.075269</td>\n",
              "    </tr>\n",
              "    <tr>\n",
              "      <th>hsa-mir-8052</th>\n",
              "      <td>[APBA1, ATP1B3, C3, CAPNS1, CAPZA2, CAV2, CEAC...</td>\n",
              "      <td>[CSRP1]</td>\n",
              "      <td>138</td>\n",
              "      <td>1</td>\n",
              "      <td>0.724638</td>\n",
              "    </tr>\n",
              "    <tr>\n",
              "      <th>hsa-mir-519d-5p</th>\n",
              "      <td>[ARL4D, ATP1B3, SERPING1, CACNA1A, CCNF, CDK9,...</td>\n",
              "      <td>[CSRP1]</td>\n",
              "      <td>141</td>\n",
              "      <td>1</td>\n",
              "      <td>0.709220</td>\n",
              "    </tr>\n",
              "    <tr>\n",
              "      <th>...</th>\n",
              "      <td>...</td>\n",
              "      <td>...</td>\n",
              "      <td>...</td>\n",
              "      <td>...</td>\n",
              "      <td>...</td>\n",
              "    </tr>\n",
              "    <tr>\n",
              "      <th>hsa-mir-7159-3p</th>\n",
              "      <td>[MAPK14, CSRP1, DSPP, EEF1A1, GABRB1, GABRG2, ...</td>\n",
              "      <td>[CSRP1]</td>\n",
              "      <td>86</td>\n",
              "      <td>1</td>\n",
              "      <td>1.162791</td>\n",
              "    </tr>\n",
              "    <tr>\n",
              "      <th>hsa-mir-8070</th>\n",
              "      <td>[ALDH9A1, ATM, ZFP36L1, CD81, COL4A1, COL19A1,...</td>\n",
              "      <td>[COL4A1]</td>\n",
              "      <td>73</td>\n",
              "      <td>1</td>\n",
              "      <td>1.369863</td>\n",
              "    </tr>\n",
              "    <tr>\n",
              "      <th>hsa-mir-574-5p</th>\n",
              "      <td>[ACVR2B, GRK3, AMD1, ANG, APBA1, ARRB1, ASNA1,...</td>\n",
              "      <td>[ITGA1]</td>\n",
              "      <td>415</td>\n",
              "      <td>1</td>\n",
              "      <td>0.240964</td>\n",
              "    </tr>\n",
              "    <tr>\n",
              "      <th>hsa-mir-8485</th>\n",
              "      <td>[ABL2, ACVR1B, ADCYAP1R1, ADRB3, GRK3, ALDH1A3...</td>\n",
              "      <td>[CD36, ITGA1]</td>\n",
              "      <td>877</td>\n",
              "      <td>2</td>\n",
              "      <td>0.228050</td>\n",
              "    </tr>\n",
              "    <tr>\n",
              "      <th>hsa-mir-4791</th>\n",
              "      <td>[ADCY9, BLMH, CA8, CAV1, CDC25B, DNASE2, ELAVL...</td>\n",
              "      <td>[CAV1]</td>\n",
              "      <td>38</td>\n",
              "      <td>1</td>\n",
              "      <td>2.631579</td>\n",
              "    </tr>\n",
              "  </tbody>\n",
              "</table>\n",
              "<p>305 rows × 5 columns</p>\n",
              "</div>\n",
              "      <button class=\"colab-df-convert\" onclick=\"convertToInteractive('df-504eeee0-2b5b-478d-8698-d0632182624f')\"\n",
              "              title=\"Convert this dataframe to an interactive table.\"\n",
              "              style=\"display:none;\">\n",
              "        \n",
              "  <svg xmlns=\"http://www.w3.org/2000/svg\" height=\"24px\"viewBox=\"0 0 24 24\"\n",
              "       width=\"24px\">\n",
              "    <path d=\"M0 0h24v24H0V0z\" fill=\"none\"/>\n",
              "    <path d=\"M18.56 5.44l.94 2.06.94-2.06 2.06-.94-2.06-.94-.94-2.06-.94 2.06-2.06.94zm-11 1L8.5 8.5l.94-2.06 2.06-.94-2.06-.94L8.5 2.5l-.94 2.06-2.06.94zm10 10l.94 2.06.94-2.06 2.06-.94-2.06-.94-.94-2.06-.94 2.06-2.06.94z\"/><path d=\"M17.41 7.96l-1.37-1.37c-.4-.4-.92-.59-1.43-.59-.52 0-1.04.2-1.43.59L10.3 9.45l-7.72 7.72c-.78.78-.78 2.05 0 2.83L4 21.41c.39.39.9.59 1.41.59.51 0 1.02-.2 1.41-.59l7.78-7.78 2.81-2.81c.8-.78.8-2.07 0-2.86zM5.41 20L4 18.59l7.72-7.72 1.47 1.35L5.41 20z\"/>\n",
              "  </svg>\n",
              "      </button>\n",
              "      \n",
              "  <style>\n",
              "    .colab-df-container {\n",
              "      display:flex;\n",
              "      flex-wrap:wrap;\n",
              "      gap: 12px;\n",
              "    }\n",
              "\n",
              "    .colab-df-convert {\n",
              "      background-color: #E8F0FE;\n",
              "      border: none;\n",
              "      border-radius: 50%;\n",
              "      cursor: pointer;\n",
              "      display: none;\n",
              "      fill: #1967D2;\n",
              "      height: 32px;\n",
              "      padding: 0 0 0 0;\n",
              "      width: 32px;\n",
              "    }\n",
              "\n",
              "    .colab-df-convert:hover {\n",
              "      background-color: #E2EBFA;\n",
              "      box-shadow: 0px 1px 2px rgba(60, 64, 67, 0.3), 0px 1px 3px 1px rgba(60, 64, 67, 0.15);\n",
              "      fill: #174EA6;\n",
              "    }\n",
              "\n",
              "    [theme=dark] .colab-df-convert {\n",
              "      background-color: #3B4455;\n",
              "      fill: #D2E3FC;\n",
              "    }\n",
              "\n",
              "    [theme=dark] .colab-df-convert:hover {\n",
              "      background-color: #434B5C;\n",
              "      box-shadow: 0px 1px 3px 1px rgba(0, 0, 0, 0.15);\n",
              "      filter: drop-shadow(0px 1px 2px rgba(0, 0, 0, 0.3));\n",
              "      fill: #FFFFFF;\n",
              "    }\n",
              "  </style>\n",
              "\n",
              "      <script>\n",
              "        const buttonEl =\n",
              "          document.querySelector('#df-504eeee0-2b5b-478d-8698-d0632182624f button.colab-df-convert');\n",
              "        buttonEl.style.display =\n",
              "          google.colab.kernel.accessAllowed ? 'block' : 'none';\n",
              "\n",
              "        async function convertToInteractive(key) {\n",
              "          const element = document.querySelector('#df-504eeee0-2b5b-478d-8698-d0632182624f');\n",
              "          const dataTable =\n",
              "            await google.colab.kernel.invokeFunction('convertToInteractive',\n",
              "                                                     [key], {});\n",
              "          if (!dataTable) return;\n",
              "\n",
              "          const docLinkHtml = 'Like what you see? Visit the ' +\n",
              "            '<a target=\"_blank\" href=https://colab.research.google.com/notebooks/data_table.ipynb>data table notebook</a>'\n",
              "            + ' to learn more about interactive tables.';\n",
              "          element.innerHTML = '';\n",
              "          dataTable['output_type'] = 'display_data';\n",
              "          await google.colab.output.renderOutput(dataTable, element);\n",
              "          const docLink = document.createElement('div');\n",
              "          docLink.innerHTML = docLinkHtml;\n",
              "          element.appendChild(docLink);\n",
              "        }\n",
              "      </script>\n",
              "    </div>\n",
              "  </div>\n",
              "  "
            ]
          },
          "metadata": {},
          "execution_count": 14
        }
      ],
      "source": [
        "### count downregulated genes among all targets of a particular microrna\n",
        "dtgind = list(dtg.index)\n",
        "dpercent = {}\n",
        "dcross = {}\n",
        "dallnum = {}\n",
        "dcrossnum = {}\n",
        "for i in dtgind:\n",
        "  allgenes = list(dtg.loc[i])[0]\n",
        "  dallnum[i] = len(allgenes)\n",
        "  cross = [x for x in allgenes if x in down]\n",
        "  dcross[i] = cross\n",
        "  dcrossnum[i] = len(cross)\n",
        "  percent = (len(cross)/len(allgenes)) * 100\n",
        "  dpercent[i] = percent\n",
        "\n",
        "dprc = pd.Series(dpercent).to_frame('percent of downregulated among all, %')\n",
        "dcr = pd.Series(dcross).to_frame('downregulated')\n",
        "dan = pd.Series(dallnum).to_frame('number of all targets')\n",
        "dcn = pd.Series(dcrossnum).to_frame('number of downregulated targets')\n",
        "dfinal = pd.concat([dtg, dcr, dan, dcn, dprc], axis=1)\n",
        "dfinal"
      ]
    },
    {
      "cell_type": "markdown",
      "metadata": {
        "id": "9GxnPzaZ5ctm"
      },
      "source": [
        "###Upregulated"
      ]
    },
    {
      "cell_type": "code",
      "execution_count": null,
      "metadata": {
        "colab": {
          "base_uri": "https://localhost:8080/"
        },
        "id": "LbCEutG-546Z",
        "outputId": "cc45db8f-5735-48c7-ff53-5ccb8c2423b1"
      },
      "outputs": [
        {
          "output_type": "execute_result",
          "data": {
            "text/plain": [
              "191"
            ]
          },
          "metadata": {},
          "execution_count": 15
        }
      ],
      "source": [
        "### search for mirnas against upregulated genes\n",
        "umir = []\n",
        "for i in up:\n",
        "    if i not in gmirind:\n",
        "      next\n",
        "    else:\n",
        "      a = list(gmirnet.loc[i, \"mir_id\"])\n",
        "      umir = umir + a\n",
        "\n",
        "umir = set(umir)\n",
        "umir = list(umir)\n",
        "len(umir)"
      ]
    },
    {
      "cell_type": "code",
      "execution_count": null,
      "metadata": {
        "id": "tMTt2YRf6MOF"
      },
      "outputs": [],
      "source": [
        "### get all targets of mirnas against upregulated genes\n",
        "utargets = {}\n",
        "for i in umir:\n",
        "    if i not in mmirind:\n",
        "      next\n",
        "    else:\n",
        "      a = list(mmirnet.loc[i, \"symbol\"])\n",
        "      utargets[i] = a\n",
        "utg = pd.Series(utargets).to_frame('all targets')"
      ]
    },
    {
      "cell_type": "code",
      "execution_count": null,
      "metadata": {
        "colab": {
          "base_uri": "https://localhost:8080/",
          "height": 693
        },
        "id": "79ZNK-jo6fPn",
        "outputId": "33172b7b-d706-4746-da81-28f6fd691cb5"
      },
      "outputs": [
        {
          "output_type": "execute_result",
          "data": {
            "text/plain": [
              "                                                       all targets  \\\n",
              "hsa-mir-4430     [ABCF1, ABL2, ADAR, ADCY2, ANG, XIAP, BIRC5, A...   \n",
              "hsa-mir-571      [CCNF, CLU, CREBBP, GPR183, CELSR3, EREG, G6PD...   \n",
              "hsa-mir-3612     [ABCF1, ACOX1, ADD2, GRK2, ALDOA, AR, ARHGDIA,...   \n",
              "hsa-mir-544a     [ACACB, ACTB, ADM, ALDOA, ATP6V1B2, BCL6, BMI1...   \n",
              "hsa-mir-15a-5p   [ABL2, ACOX1, ACVR1B, ACVR2A, ADORA3, ADRA2B, ...   \n",
              "...                                                            ...   \n",
              "hsa-mir-8085     [ABCB7, AMD1, XIAP, AQP2, AR, ASPH, ATP2A3, AT...   \n",
              "hsa-mir-4492     [ABL1, CACNA1C, SERPINH1, CCNF, CDK2, COL1A1, ...   \n",
              "hsa-mir-545-3p   [ZFHX3, ATP5G3, CCND1, DST, CDK4, COL12A1, CSN...   \n",
              "hsa-mir-23b-3p   [ABCF1, ACAT1, ACTN4, ACVR2B, ADD3, GRK2, ALDO...   \n",
              "hsa-mir-4691-5p  [ADD1, ADRA2B, SLC25A4, XIAP, BIRC5, ARF6, ATP...   \n",
              "\n",
              "                   upregulated  number of all targets  \\\n",
              "hsa-mir-4430           [HMOX1]                    397   \n",
              "hsa-mir-571              [CLU]                     75   \n",
              "hsa-mir-3612      [CLU, HMOX1]                    424   \n",
              "hsa-mir-544a            [MMP2]                    151   \n",
              "hsa-mir-15a-5p           [CLU]                    717   \n",
              "...                        ...                    ...   \n",
              "hsa-mir-8085             [CLU]                    356   \n",
              "hsa-mir-4492           [HMOX1]                    119   \n",
              "hsa-mir-545-3p          [VCAN]                    165   \n",
              "hsa-mir-23b-3p          [VCAN]                    322   \n",
              "hsa-mir-4691-5p  [HMOX1, MMP2]                    231   \n",
              "\n",
              "                 number of upregulated targets  \\\n",
              "hsa-mir-4430                                 1   \n",
              "hsa-mir-571                                  1   \n",
              "hsa-mir-3612                                 2   \n",
              "hsa-mir-544a                                 1   \n",
              "hsa-mir-15a-5p                               1   \n",
              "...                                        ...   \n",
              "hsa-mir-8085                                 1   \n",
              "hsa-mir-4492                                 1   \n",
              "hsa-mir-545-3p                               1   \n",
              "hsa-mir-23b-3p                               1   \n",
              "hsa-mir-4691-5p                              2   \n",
              "\n",
              "                 percent of upregulated among all, %  \n",
              "hsa-mir-4430                                0.251889  \n",
              "hsa-mir-571                                 1.333333  \n",
              "hsa-mir-3612                                0.471698  \n",
              "hsa-mir-544a                                0.662252  \n",
              "hsa-mir-15a-5p                              0.139470  \n",
              "...                                              ...  \n",
              "hsa-mir-8085                                0.280899  \n",
              "hsa-mir-4492                                0.840336  \n",
              "hsa-mir-545-3p                              0.606061  \n",
              "hsa-mir-23b-3p                              0.310559  \n",
              "hsa-mir-4691-5p                             0.865801  \n",
              "\n",
              "[178 rows x 5 columns]"
            ],
            "text/html": [
              "\n",
              "  <div id=\"df-84d7c752-548d-4936-8913-8d65826ac41b\">\n",
              "    <div class=\"colab-df-container\">\n",
              "      <div>\n",
              "<style scoped>\n",
              "    .dataframe tbody tr th:only-of-type {\n",
              "        vertical-align: middle;\n",
              "    }\n",
              "\n",
              "    .dataframe tbody tr th {\n",
              "        vertical-align: top;\n",
              "    }\n",
              "\n",
              "    .dataframe thead th {\n",
              "        text-align: right;\n",
              "    }\n",
              "</style>\n",
              "<table border=\"1\" class=\"dataframe\">\n",
              "  <thead>\n",
              "    <tr style=\"text-align: right;\">\n",
              "      <th></th>\n",
              "      <th>all targets</th>\n",
              "      <th>upregulated</th>\n",
              "      <th>number of all targets</th>\n",
              "      <th>number of upregulated targets</th>\n",
              "      <th>percent of upregulated among all, %</th>\n",
              "    </tr>\n",
              "  </thead>\n",
              "  <tbody>\n",
              "    <tr>\n",
              "      <th>hsa-mir-4430</th>\n",
              "      <td>[ABCF1, ABL2, ADAR, ADCY2, ANG, XIAP, BIRC5, A...</td>\n",
              "      <td>[HMOX1]</td>\n",
              "      <td>397</td>\n",
              "      <td>1</td>\n",
              "      <td>0.251889</td>\n",
              "    </tr>\n",
              "    <tr>\n",
              "      <th>hsa-mir-571</th>\n",
              "      <td>[CCNF, CLU, CREBBP, GPR183, CELSR3, EREG, G6PD...</td>\n",
              "      <td>[CLU]</td>\n",
              "      <td>75</td>\n",
              "      <td>1</td>\n",
              "      <td>1.333333</td>\n",
              "    </tr>\n",
              "    <tr>\n",
              "      <th>hsa-mir-3612</th>\n",
              "      <td>[ABCF1, ACOX1, ADD2, GRK2, ALDOA, AR, ARHGDIA,...</td>\n",
              "      <td>[CLU, HMOX1]</td>\n",
              "      <td>424</td>\n",
              "      <td>2</td>\n",
              "      <td>0.471698</td>\n",
              "    </tr>\n",
              "    <tr>\n",
              "      <th>hsa-mir-544a</th>\n",
              "      <td>[ACACB, ACTB, ADM, ALDOA, ATP6V1B2, BCL6, BMI1...</td>\n",
              "      <td>[MMP2]</td>\n",
              "      <td>151</td>\n",
              "      <td>1</td>\n",
              "      <td>0.662252</td>\n",
              "    </tr>\n",
              "    <tr>\n",
              "      <th>hsa-mir-15a-5p</th>\n",
              "      <td>[ABL2, ACOX1, ACVR1B, ACVR2A, ADORA3, ADRA2B, ...</td>\n",
              "      <td>[CLU]</td>\n",
              "      <td>717</td>\n",
              "      <td>1</td>\n",
              "      <td>0.139470</td>\n",
              "    </tr>\n",
              "    <tr>\n",
              "      <th>...</th>\n",
              "      <td>...</td>\n",
              "      <td>...</td>\n",
              "      <td>...</td>\n",
              "      <td>...</td>\n",
              "      <td>...</td>\n",
              "    </tr>\n",
              "    <tr>\n",
              "      <th>hsa-mir-8085</th>\n",
              "      <td>[ABCB7, AMD1, XIAP, AQP2, AR, ASPH, ATP2A3, AT...</td>\n",
              "      <td>[CLU]</td>\n",
              "      <td>356</td>\n",
              "      <td>1</td>\n",
              "      <td>0.280899</td>\n",
              "    </tr>\n",
              "    <tr>\n",
              "      <th>hsa-mir-4492</th>\n",
              "      <td>[ABL1, CACNA1C, SERPINH1, CCNF, CDK2, COL1A1, ...</td>\n",
              "      <td>[HMOX1]</td>\n",
              "      <td>119</td>\n",
              "      <td>1</td>\n",
              "      <td>0.840336</td>\n",
              "    </tr>\n",
              "    <tr>\n",
              "      <th>hsa-mir-545-3p</th>\n",
              "      <td>[ZFHX3, ATP5G3, CCND1, DST, CDK4, COL12A1, CSN...</td>\n",
              "      <td>[VCAN]</td>\n",
              "      <td>165</td>\n",
              "      <td>1</td>\n",
              "      <td>0.606061</td>\n",
              "    </tr>\n",
              "    <tr>\n",
              "      <th>hsa-mir-23b-3p</th>\n",
              "      <td>[ABCF1, ACAT1, ACTN4, ACVR2B, ADD3, GRK2, ALDO...</td>\n",
              "      <td>[VCAN]</td>\n",
              "      <td>322</td>\n",
              "      <td>1</td>\n",
              "      <td>0.310559</td>\n",
              "    </tr>\n",
              "    <tr>\n",
              "      <th>hsa-mir-4691-5p</th>\n",
              "      <td>[ADD1, ADRA2B, SLC25A4, XIAP, BIRC5, ARF6, ATP...</td>\n",
              "      <td>[HMOX1, MMP2]</td>\n",
              "      <td>231</td>\n",
              "      <td>2</td>\n",
              "      <td>0.865801</td>\n",
              "    </tr>\n",
              "  </tbody>\n",
              "</table>\n",
              "<p>178 rows × 5 columns</p>\n",
              "</div>\n",
              "      <button class=\"colab-df-convert\" onclick=\"convertToInteractive('df-84d7c752-548d-4936-8913-8d65826ac41b')\"\n",
              "              title=\"Convert this dataframe to an interactive table.\"\n",
              "              style=\"display:none;\">\n",
              "        \n",
              "  <svg xmlns=\"http://www.w3.org/2000/svg\" height=\"24px\"viewBox=\"0 0 24 24\"\n",
              "       width=\"24px\">\n",
              "    <path d=\"M0 0h24v24H0V0z\" fill=\"none\"/>\n",
              "    <path d=\"M18.56 5.44l.94 2.06.94-2.06 2.06-.94-2.06-.94-.94-2.06-.94 2.06-2.06.94zm-11 1L8.5 8.5l.94-2.06 2.06-.94-2.06-.94L8.5 2.5l-.94 2.06-2.06.94zm10 10l.94 2.06.94-2.06 2.06-.94-2.06-.94-.94-2.06-.94 2.06-2.06.94z\"/><path d=\"M17.41 7.96l-1.37-1.37c-.4-.4-.92-.59-1.43-.59-.52 0-1.04.2-1.43.59L10.3 9.45l-7.72 7.72c-.78.78-.78 2.05 0 2.83L4 21.41c.39.39.9.59 1.41.59.51 0 1.02-.2 1.41-.59l7.78-7.78 2.81-2.81c.8-.78.8-2.07 0-2.86zM5.41 20L4 18.59l7.72-7.72 1.47 1.35L5.41 20z\"/>\n",
              "  </svg>\n",
              "      </button>\n",
              "      \n",
              "  <style>\n",
              "    .colab-df-container {\n",
              "      display:flex;\n",
              "      flex-wrap:wrap;\n",
              "      gap: 12px;\n",
              "    }\n",
              "\n",
              "    .colab-df-convert {\n",
              "      background-color: #E8F0FE;\n",
              "      border: none;\n",
              "      border-radius: 50%;\n",
              "      cursor: pointer;\n",
              "      display: none;\n",
              "      fill: #1967D2;\n",
              "      height: 32px;\n",
              "      padding: 0 0 0 0;\n",
              "      width: 32px;\n",
              "    }\n",
              "\n",
              "    .colab-df-convert:hover {\n",
              "      background-color: #E2EBFA;\n",
              "      box-shadow: 0px 1px 2px rgba(60, 64, 67, 0.3), 0px 1px 3px 1px rgba(60, 64, 67, 0.15);\n",
              "      fill: #174EA6;\n",
              "    }\n",
              "\n",
              "    [theme=dark] .colab-df-convert {\n",
              "      background-color: #3B4455;\n",
              "      fill: #D2E3FC;\n",
              "    }\n",
              "\n",
              "    [theme=dark] .colab-df-convert:hover {\n",
              "      background-color: #434B5C;\n",
              "      box-shadow: 0px 1px 3px 1px rgba(0, 0, 0, 0.15);\n",
              "      filter: drop-shadow(0px 1px 2px rgba(0, 0, 0, 0.3));\n",
              "      fill: #FFFFFF;\n",
              "    }\n",
              "  </style>\n",
              "\n",
              "      <script>\n",
              "        const buttonEl =\n",
              "          document.querySelector('#df-84d7c752-548d-4936-8913-8d65826ac41b button.colab-df-convert');\n",
              "        buttonEl.style.display =\n",
              "          google.colab.kernel.accessAllowed ? 'block' : 'none';\n",
              "\n",
              "        async function convertToInteractive(key) {\n",
              "          const element = document.querySelector('#df-84d7c752-548d-4936-8913-8d65826ac41b');\n",
              "          const dataTable =\n",
              "            await google.colab.kernel.invokeFunction('convertToInteractive',\n",
              "                                                     [key], {});\n",
              "          if (!dataTable) return;\n",
              "\n",
              "          const docLinkHtml = 'Like what you see? Visit the ' +\n",
              "            '<a target=\"_blank\" href=https://colab.research.google.com/notebooks/data_table.ipynb>data table notebook</a>'\n",
              "            + ' to learn more about interactive tables.';\n",
              "          element.innerHTML = '';\n",
              "          dataTable['output_type'] = 'display_data';\n",
              "          await google.colab.output.renderOutput(dataTable, element);\n",
              "          const docLink = document.createElement('div');\n",
              "          docLink.innerHTML = docLinkHtml;\n",
              "          element.appendChild(docLink);\n",
              "        }\n",
              "      </script>\n",
              "    </div>\n",
              "  </div>\n",
              "  "
            ]
          },
          "metadata": {},
          "execution_count": 17
        }
      ],
      "source": [
        "### count upregulated genes among all targets of a particular microrna\n",
        "utgind = list(utg.index)\n",
        "upercent = {}\n",
        "ucross = {}\n",
        "uallnum = {}\n",
        "ucrossnum = {}\n",
        "for i in utgind:\n",
        "  allgenes = list(utg.loc[i])[0]\n",
        "  uallnum[i] = len(allgenes)\n",
        "  cross = [x for x in allgenes if x in up]\n",
        "  ucross[i] = cross\n",
        "  ucrossnum[i] = len(cross)\n",
        "  percent = (len(cross)/len(allgenes)) * 100\n",
        "  upercent[i] = percent\n",
        "\n",
        "uprc = pd.Series(upercent).to_frame('percent of upregulated among all, %')\n",
        "ucr = pd.Series(ucross).to_frame('upregulated')\n",
        "uan = pd.Series(uallnum).to_frame('number of all targets')\n",
        "ucn = pd.Series(ucrossnum).to_frame('number of upregulated targets')\n",
        "ufinal = pd.concat([utg, ucr, uan, ucn, uprc], axis=1)\n",
        "ufinal"
      ]
    },
    {
      "cell_type": "markdown",
      "metadata": {
        "id": "jaDL50lh7MG8"
      },
      "source": [
        "###Overlapping and unique microRNAs"
      ]
    },
    {
      "cell_type": "code",
      "execution_count": null,
      "metadata": {
        "colab": {
          "base_uri": "https://localhost:8080/"
        },
        "id": "nBp7dRsk7VcY",
        "outputId": "bfacf6ad-fee4-4e24-9db4-14f3583071c9"
      },
      "outputs": [
        {
          "output_type": "stream",
          "name": "stdout",
          "text": [
            "51\n"
          ]
        }
      ],
      "source": [
        "### from table above we'll find out which mirnas target only up or downregulated genes, \n",
        "### and which have targets in both lists\n",
        "\n",
        "cross = [x for x in dmir if x in umir and x in mmirind]\n",
        "print(len(cross))\n",
        "ucross = ufinal.loc[cross]\n",
        "dcross = dfinal.loc[cross].drop([\"all targets\", 'number of all targets'], axis=1)\n",
        "crossfinal = pd.concat([ucross, dcross], axis=1)\n",
        "\n",
        "unique_dfinal = dfinal.drop(cross)\n",
        "unique_ufinal = ufinal.drop(cross)"
      ]
    },
    {
      "cell_type": "code",
      "execution_count": null,
      "metadata": {
        "colab": {
          "base_uri": "https://localhost:8080/",
          "height": 17
        },
        "id": "nW7gC4r0Cas1",
        "outputId": "11f9e7f2-07a6-4d36-e577-3ad52c522995"
      },
      "outputs": [
        {
          "output_type": "display_data",
          "data": {
            "text/plain": [
              "<IPython.core.display.Javascript object>"
            ],
            "application/javascript": [
              "\n",
              "    async function download(id, filename, size) {\n",
              "      if (!google.colab.kernel.accessAllowed) {\n",
              "        return;\n",
              "      }\n",
              "      const div = document.createElement('div');\n",
              "      const label = document.createElement('label');\n",
              "      label.textContent = `Downloading \"${filename}\": `;\n",
              "      div.appendChild(label);\n",
              "      const progress = document.createElement('progress');\n",
              "      progress.max = size;\n",
              "      div.appendChild(progress);\n",
              "      document.body.appendChild(div);\n",
              "\n",
              "      const buffers = [];\n",
              "      let downloaded = 0;\n",
              "\n",
              "      const channel = await google.colab.kernel.comms.open(id);\n",
              "      // Send a message to notify the kernel that we're ready.\n",
              "      channel.send({})\n",
              "\n",
              "      for await (const message of channel.messages) {\n",
              "        // Send a message to notify the kernel that we're ready.\n",
              "        channel.send({})\n",
              "        if (message.buffers) {\n",
              "          for (const buffer of message.buffers) {\n",
              "            buffers.push(buffer);\n",
              "            downloaded += buffer.byteLength;\n",
              "            progress.value = downloaded;\n",
              "          }\n",
              "        }\n",
              "      }\n",
              "      const blob = new Blob(buffers, {type: 'application/binary'});\n",
              "      const a = document.createElement('a');\n",
              "      a.href = window.URL.createObjectURL(blob);\n",
              "      a.download = filename;\n",
              "      div.appendChild(a);\n",
              "      a.click();\n",
              "      div.remove();\n",
              "    }\n",
              "  "
            ]
          },
          "metadata": {}
        },
        {
          "output_type": "display_data",
          "data": {
            "text/plain": [
              "<IPython.core.display.Javascript object>"
            ],
            "application/javascript": [
              "download(\"download_e531c465-2b03-4996-aa3b-8bfcff235a5a\", \"mirnas_targets_enrichment.xlsx\", 379251)"
            ]
          },
          "metadata": {}
        }
      ],
      "source": [
        "### write all the three tables in one excel file\n",
        "\n",
        "with pd.ExcelWriter('mirnas_targets_enrichment.xlsx') as writer:  \n",
        "    unique_ufinal.to_excel(writer, sheet_name='Upregulated')\n",
        "    unique_dfinal.to_excel(writer, sheet_name='Downregulated')\n",
        "    crossfinal.to_excel(writer, sheet_name='Overlapping')\n",
        "\n",
        "from google.colab import files\n",
        "files.download('mirnas_targets_enrichment.xlsx')"
      ]
    },
    {
      "cell_type": "code",
      "source": [
        "### Draw the boxplot of microRNAs specificity\n",
        "\n",
        "u = {'Specificity, %': list(unique_ufinal['percent of upregulated among all, %']),\n",
        "      'Group': ['Upregulared']*unique_ufinal.shape[0]}\n",
        "udf = pd.DataFrame(data=u)\n",
        "d = {'Specificity, %': list(unique_dfinal['percent of downregulated among all, %']),\n",
        "      'Group': ['Downregulared']*unique_dfinal.shape[0]}\n",
        "ddf = pd.DataFrame(data=d)\n",
        "ou = {'Specificity, %': list(crossfinal['percent of upregulated among all, %']),\n",
        "      'Group': ['Overlapped-upregulated']*crossfinal.shape[0]}\n",
        "oudf = pd.DataFrame(data=ou)\n",
        "od = {'Specificity, %': list(crossfinal['percent of downregulated among all, %']),\n",
        "      'Group': ['Downregulated-upregulated']*crossfinal.shape[0]}\n",
        "oddf = pd.DataFrame(data=od)\n",
        "\n",
        "f = pd.concat([udf, ddf, oudf, oddf])\n",
        "group = f['Group']\n",
        "spec = f['Specificity, %']\n",
        "boxplot = sn.boxplot(x=group, y=spec)\n",
        "plt.setp(boxplot.get_xticklabels(), rotation=90)\n",
        "fig = boxplot.get_figure()\n",
        "fig.savefig(\"specificity_boxplot.png\", bbox_inches='tight')\n",
        "from google.colab import files\n",
        "files.download('specificity_boxplot.png')"
      ],
      "metadata": {
        "colab": {
          "base_uri": "https://localhost:8080/",
          "height": 410
        },
        "id": "OXwdiL4uqc5J",
        "outputId": "7027def0-ea60-40c3-9d18-df520be9d3fa"
      },
      "execution_count": null,
      "outputs": [
        {
          "output_type": "display_data",
          "data": {
            "text/plain": [
              "<IPython.core.display.Javascript object>"
            ],
            "application/javascript": [
              "\n",
              "    async function download(id, filename, size) {\n",
              "      if (!google.colab.kernel.accessAllowed) {\n",
              "        return;\n",
              "      }\n",
              "      const div = document.createElement('div');\n",
              "      const label = document.createElement('label');\n",
              "      label.textContent = `Downloading \"${filename}\": `;\n",
              "      div.appendChild(label);\n",
              "      const progress = document.createElement('progress');\n",
              "      progress.max = size;\n",
              "      div.appendChild(progress);\n",
              "      document.body.appendChild(div);\n",
              "\n",
              "      const buffers = [];\n",
              "      let downloaded = 0;\n",
              "\n",
              "      const channel = await google.colab.kernel.comms.open(id);\n",
              "      // Send a message to notify the kernel that we're ready.\n",
              "      channel.send({})\n",
              "\n",
              "      for await (const message of channel.messages) {\n",
              "        // Send a message to notify the kernel that we're ready.\n",
              "        channel.send({})\n",
              "        if (message.buffers) {\n",
              "          for (const buffer of message.buffers) {\n",
              "            buffers.push(buffer);\n",
              "            downloaded += buffer.byteLength;\n",
              "            progress.value = downloaded;\n",
              "          }\n",
              "        }\n",
              "      }\n",
              "      const blob = new Blob(buffers, {type: 'application/binary'});\n",
              "      const a = document.createElement('a');\n",
              "      a.href = window.URL.createObjectURL(blob);\n",
              "      a.download = filename;\n",
              "      div.appendChild(a);\n",
              "      a.click();\n",
              "      div.remove();\n",
              "    }\n",
              "  "
            ]
          },
          "metadata": {}
        },
        {
          "output_type": "display_data",
          "data": {
            "text/plain": [
              "<IPython.core.display.Javascript object>"
            ],
            "application/javascript": [
              "download(\"download_a9849a2c-23cf-4ec7-80ef-08209de4f33f\", \"specificity_boxplot.png\", 13606)"
            ]
          },
          "metadata": {}
        },
        {
          "output_type": "display_data",
          "data": {
            "text/plain": [
              "<Figure size 432x288 with 1 Axes>"
            ],
            "image/png": "[encoded data removed]"
          },
          "metadata": {
            "needs_background": "light"
          }
        }
      ]
    },
    {
      "cell_type": "code",
      "source": [
        "### Draw the boxplot of all microRNAs gene targets number\n",
        "\n",
        "u = {'Number of all targets': list(unique_ufinal['number of all targets']),\n",
        "      'Group': ['Upregulared']*unique_ufinal.shape[0]}\n",
        "udf = pd.DataFrame(data=u)\n",
        "d = {'Number of all targets': list(unique_dfinal['number of all targets']),\n",
        "      'Group': ['Downregulared']*unique_dfinal.shape[0]}\n",
        "ddf = pd.DataFrame(data=d)\n",
        "o = {'Number of all targets': list(crossfinal['number of all targets']),\n",
        "      'Group': ['Overlapped']*crossfinal.shape[0]}\n",
        "odf = pd.DataFrame(data=o)\n",
        "\n",
        "\n",
        "f = pd.concat([udf, ddf, odf])\n",
        "group = f['Group']\n",
        "spec = f['Number of all targets']\n",
        "boxplot = sn.boxplot(x=group, y=spec)\n",
        "plt.setp(boxplot.get_xticklabels(), rotation=90)\n",
        "fig = boxplot.get_figure()\n",
        "fig.savefig(\"number_of_targets_boxplot.png\", bbox_inches='tight')\n",
        "from google.colab import files\n",
        "files.download('number_of_targets_boxplot.png')"
      ],
      "metadata": {
        "colab": {
          "base_uri": "https://localhost:8080/",
          "height": 346
        },
        "id": "XSCQ0n7Q04Z3",
        "outputId": "ac36e50b-3f31-4ed2-cadc-e7eb92ff1026"
      },
      "execution_count": null,
      "outputs": [
        {
          "output_type": "display_data",
          "data": {
            "text/plain": [
              "<IPython.core.display.Javascript object>"
            ],
            "application/javascript": [
              "\n",
              "    async function download(id, filename, size) {\n",
              "      if (!google.colab.kernel.accessAllowed) {\n",
              "        return;\n",
              "      }\n",
              "      const div = document.createElement('div');\n",
              "      const label = document.createElement('label');\n",
              "      label.textContent = `Downloading \"${filename}\": `;\n",
              "      div.appendChild(label);\n",
              "      const progress = document.createElement('progress');\n",
              "      progress.max = size;\n",
              "      div.appendChild(progress);\n",
              "      document.body.appendChild(div);\n",
              "\n",
              "      const buffers = [];\n",
              "      let downloaded = 0;\n",
              "\n",
              "      const channel = await google.colab.kernel.comms.open(id);\n",
              "      // Send a message to notify the kernel that we're ready.\n",
              "      channel.send({})\n",
              "\n",
              "      for await (const message of channel.messages) {\n",
              "        // Send a message to notify the kernel that we're ready.\n",
              "        channel.send({})\n",
              "        if (message.buffers) {\n",
              "          for (const buffer of message.buffers) {\n",
              "            buffers.push(buffer);\n",
              "            downloaded += buffer.byteLength;\n",
              "            progress.value = downloaded;\n",
              "          }\n",
              "        }\n",
              "      }\n",
              "      const blob = new Blob(buffers, {type: 'application/binary'});\n",
              "      const a = document.createElement('a');\n",
              "      a.href = window.URL.createObjectURL(blob);\n",
              "      a.download = filename;\n",
              "      div.appendChild(a);\n",
              "      a.click();\n",
              "      div.remove();\n",
              "    }\n",
              "  "
            ]
          },
          "metadata": {}
        },
        {
          "output_type": "display_data",
          "data": {
            "text/plain": [
              "<IPython.core.display.Javascript object>"
            ],
            "application/javascript": [
              "download(\"download_3e205bd4-7f79-4af0-ba28-6bfe4ed10a0f\", \"number_of_targets_boxplot.png\", 12937)"
            ]
          },
          "metadata": {}
        },
        {
          "output_type": "display_data",
          "data": {
            "text/plain": [
              "<Figure size 432x288 with 1 Axes>"
            ],
            "image/png": "[encoded data removed]"
          },
          "metadata": {
            "needs_background": "light"
          }
        }
      ]
    },
    {
      "cell_type": "markdown",
      "metadata": {
        "id": "Pm-M3Zol3Cwv"
      },
      "source": [
        "#PCR array validation filter (optional)"
      ]
    },
    {
      "cell_type": "markdown",
      "source": [
        "NB! Before uploading pcr array file, make sure that microRNAs there are named in the following format: hsa-mir-@-@ or hsa-let-@-@. If it lacks hsa-, for example, or have r written as capital letter R, it will cause mistakes"
      ],
      "metadata": {
        "id": "pGwtnx8Mts3f"
      }
    },
    {
      "cell_type": "code",
      "execution_count": null,
      "metadata": {
        "colab": {
          "base_uri": "https://localhost:8080/"
        },
        "id": "NCzc1GcN3EBe",
        "outputId": "60029912-18b6-42a5-fa82-84bb82cae752"
      },
      "outputs": [
        {
          "output_type": "execute_result",
          "data": {
            "text/plain": [
              "['hsa-mir-194-5p',\n",
              " 'hsa-mir-378a-3p',\n",
              " 'hsa-mir-192-5p',\n",
              " 'hsa-mir-148a-3p',\n",
              " 'hsa-mir-449a',\n",
              " 'hsa-mir-146a-5p',\n",
              " 'hsa-mir-503-5p',\n",
              " 'hsa-mir-874-3p',\n",
              " 'hsa-mir-10a-5p']"
            ]
          },
          "metadata": {},
          "execution_count": 30
        }
      ],
      "source": [
        "### upload file with selected from PCR array microRNAs\n",
        "pcrar = pd.read_csv(\"/content/drive/MyDrive/Colab Notebooks/pcr_array_fibrotic.csv\", header=None)\n",
        "pcrar = list(pcrar[0])\n",
        "pcrar[0:9]"
      ]
    },
    {
      "cell_type": "code",
      "execution_count": null,
      "metadata": {
        "id": "vXOZmGik4Ups"
      },
      "outputs": [],
      "source": [
        "dmirlst = list(unique_dfinal.index)\n",
        "umirlst = list(unique_ufinal.index)\n",
        "omirlst = list(crossfinal.index)"
      ]
    },
    {
      "cell_type": "code",
      "execution_count": null,
      "metadata": {
        "colab": {
          "base_uri": "https://localhost:8080/"
        },
        "id": "9KcWV2gO3a_B",
        "outputId": "06f48698-0c56-4a58-e10e-1def1dda6108"
      },
      "outputs": [
        {
          "output_type": "stream",
          "name": "stdout",
          "text": [
            "13\n",
            "6\n",
            "7\n"
          ]
        }
      ],
      "source": [
        "### validate microRNAs for downregulated genes:\n",
        "dpcrar = [x for x in dmirlst if x in pcrar]\n",
        "print(len(dpcrar))\n",
        "\n",
        "### validate microRNAs for upregulated genes:\n",
        "upcrar = [x for x in umirlst if x in pcrar]\n",
        "print(len(upcrar))\n",
        "\n",
        "### validate microRNAs for overlapped genes:\n",
        "opcrar = [x for x in omirlst if x in pcrar]\n",
        "print(len(opcrar))"
      ]
    },
    {
      "cell_type": "code",
      "execution_count": null,
      "metadata": {
        "colab": {
          "base_uri": "https://localhost:8080/"
        },
        "id": "TEKjAN2D5NTI",
        "outputId": "847d499d-1120-489c-ac3c-79eb43efccf9"
      },
      "outputs": [
        {
          "output_type": "stream",
          "name": "stdout",
          "text": [
            "Downregulated: ['hsa-mir-92a-3p', 'hsa-mir-194-5p', 'hsa-mir-10a-5p', 'hsa-mir-27a-3p', 'hsa-mir-34a-5p', 'hsa-mir-27b-3p', 'hsa-mir-663a', 'hsa-mir-199a-5p', 'hsa-mir-20a-5p', 'hsa-mir-146a-5p', 'hsa-mir-5011-5p', 'hsa-mir-18a-5p', 'hsa-mir-192-5p']\n",
            "Upregulated: ['hsa-mir-129-5p', 'hsa-mir-195-5p', 'hsa-mir-125b-5p', 'hsa-mir-143-3p', 'hsa-mir-451a', 'hsa-mir-377-3p']\n",
            "Overlapped: ['hsa-mir-29c-3p', 'hsa-mir-29a-3p', 'hsa-mir-335-5p', 'hsa-mir-107', 'hsa-mir-29b-3p', 'hsa-mir-21-5p', 'hsa-mir-16-5p']\n"
          ]
        }
      ],
      "source": [
        "print(\"Downregulated:\", dpcrar)\n",
        "print(\"Upregulated:\", upcrar)\n",
        "print(\"Overlapped:\", opcrar)"
      ]
    },
    {
      "cell_type": "code",
      "source": [
        ""
      ],
      "metadata": {
        "id": "TO5HLv-WxRep"
      },
      "execution_count": null,
      "outputs": []
    },
    {
      "cell_type": "markdown",
      "metadata": {
        "id": "H9ca2tQ69NaR"
      },
      "source": [
        "#GO and KEGG annotation of miRNAs gene targets"
      ]
    },
    {
      "cell_type": "markdown",
      "source": [
        "## Downregulated annotation\n"
      ],
      "metadata": {
        "id": "IHkO0nP0VQnx"
      }
    },
    {
      "cell_type": "code",
      "source": [
        "### GO\n",
        "\n",
        "dmirtgfun = {}\n",
        "for i in dpcrar:\n",
        "    targets = unique_dfinal.loc[i, \"all targets\"]\n",
        "    gp = GProfiler(return_dataframe=True)\n",
        "    gpdf = gp.profile(organism='hsapiens',\n",
        "                      query=targets,\n",
        "                      no_evidences=False,\n",
        "                      sources = [\"GO:BP\"])\n",
        "    fun = list(gpdf[\"name\"])\n",
        "    dmirtgfun[i] = fun\n",
        "dtargfgo = pd.Series(dmirtgfun).to_frame('Target functions')"
      ],
      "metadata": {
        "id": "t3-j67YpNHyp"
      },
      "execution_count": null,
      "outputs": []
    },
    {
      "cell_type": "code",
      "source": [
        "dtargfgo"
      ],
      "metadata": {
        "id": "mRSLgFPlN5D-"
      },
      "execution_count": null,
      "outputs": []
    },
    {
      "cell_type": "code",
      "source": [
        "### KEGG\n",
        "dmirtgfun = {}\n",
        "for i in dpcrar:\n",
        "    targets = unique_dfinal.loc[i, \"all targets\"]\n",
        "    gp = GProfiler(return_dataframe=True)\n",
        "    gpdf = gp.profile(organism='hsapiens',\n",
        "                      query=targets,\n",
        "                      no_evidences=False,\n",
        "                      sources = [\"KEGG\"])\n",
        "    fun = list(gpdf[\"name\"])\n",
        "    dmirtgfun[i] = fun\n",
        "dtargfkegg = pd.Series(dmirtgfun).to_frame('Target functions')"
      ],
      "metadata": {
        "id": "We5p-MRjOwK_"
      },
      "execution_count": null,
      "outputs": []
    },
    {
      "cell_type": "code",
      "source": [
        "dtargfkegg"
      ],
      "metadata": {
        "id": "BXqQpGGJO7Pi"
      },
      "execution_count": null,
      "outputs": []
    },
    {
      "cell_type": "code",
      "source": [
        "### Save to excel file\n",
        "with pd.ExcelWriter('downregulated_targets_GO_KEGG.xlsx') as writer:  \n",
        "    dtargfgo.to_excel(writer, sheet_name='GO')\n",
        "    dtargfkegg.to_excel(writer, sheet_name='KEGG')\n",
        "\n",
        "from google.colab import files\n",
        "files.download('downregulated_targets_GO_KEGG.xlsx')"
      ],
      "metadata": {
        "id": "rBRWT8XZPS_I"
      },
      "execution_count": null,
      "outputs": []
    },
    {
      "cell_type": "markdown",
      "source": [
        "##Upregulated annotation"
      ],
      "metadata": {
        "id": "XcWjJZ2HVXh9"
      }
    },
    {
      "cell_type": "code",
      "source": [
        "### GO\n",
        "umirtgfun = {}\n",
        "for i in upcrar:\n",
        "    targets = unique_ufinal.loc[i, \"all targets\"]\n",
        "    gp = GProfiler(return_dataframe=True)\n",
        "    gpdf = gp.profile(organism='hsapiens',\n",
        "                      query=targets,\n",
        "                      no_evidences=False,\n",
        "                      sources = [\"GO:BP\"])\n",
        "    fun = list(gpdf[\"name\"])\n",
        "    umirtgfun[i] = fun\n",
        "utargfgo = pd.Series(umirtgfun).to_frame('Target functions')"
      ],
      "metadata": {
        "id": "L20d4B2FVkey"
      },
      "execution_count": null,
      "outputs": []
    },
    {
      "cell_type": "code",
      "source": [
        "### KEGG\n",
        "umirtgfun = {}\n",
        "for i in upcrar:\n",
        "    targets = unique_ufinal.loc[i, \"all targets\"]\n",
        "    gp = GProfiler(return_dataframe=True)\n",
        "    gpdf = gp.profile(organism='hsapiens',\n",
        "                      query=targets,\n",
        "                      no_evidences=False,\n",
        "                      sources = [\"KEGG\"])\n",
        "    fun = list(gpdf[\"name\"])\n",
        "    umirtgfun[i] = fun\n",
        "utargfkegg = pd.Series(umirtgfun).to_frame('Target functions')"
      ],
      "metadata": {
        "id": "gTUTOceBV14D"
      },
      "execution_count": null,
      "outputs": []
    },
    {
      "cell_type": "code",
      "source": [
        "### Save to excel file\n",
        "with pd.ExcelWriter('upregulated_targets_GO_KEGG.xlsx') as writer:  \n",
        "    utargfgo.to_excel(writer, sheet_name='GO')\n",
        "    utargfkegg.to_excel(writer, sheet_name='KEGG')\n",
        "\n",
        "from google.colab import files\n",
        "files.download('upregulated_targets_GO_KEGG.xlsx')"
      ],
      "metadata": {
        "colab": {
          "base_uri": "https://localhost:8080/",
          "height": 17
        },
        "id": "BV6hyWreWWJL",
        "outputId": "6c0b3b9a-8ddb-46d3-eced-cba9970a1c1b"
      },
      "execution_count": null,
      "outputs": [
        {
          "output_type": "display_data",
          "data": {
            "text/plain": [
              "<IPython.core.display.Javascript object>"
            ],
            "application/javascript": [
              "\n",
              "    async function download(id, filename, size) {\n",
              "      if (!google.colab.kernel.accessAllowed) {\n",
              "        return;\n",
              "      }\n",
              "      const div = document.createElement('div');\n",
              "      const label = document.createElement('label');\n",
              "      label.textContent = `Downloading \"${filename}\": `;\n",
              "      div.appendChild(label);\n",
              "      const progress = document.createElement('progress');\n",
              "      progress.max = size;\n",
              "      div.appendChild(progress);\n",
              "      document.body.appendChild(div);\n",
              "\n",
              "      const buffers = [];\n",
              "      let downloaded = 0;\n",
              "\n",
              "      const channel = await google.colab.kernel.comms.open(id);\n",
              "      // Send a message to notify the kernel that we're ready.\n",
              "      channel.send({})\n",
              "\n",
              "      for await (const message of channel.messages) {\n",
              "        // Send a message to notify the kernel that we're ready.\n",
              "        channel.send({})\n",
              "        if (message.buffers) {\n",
              "          for (const buffer of message.buffers) {\n",
              "            buffers.push(buffer);\n",
              "            downloaded += buffer.byteLength;\n",
              "            progress.value = downloaded;\n",
              "          }\n",
              "        }\n",
              "      }\n",
              "      const blob = new Blob(buffers, {type: 'application/binary'});\n",
              "      const a = document.createElement('a');\n",
              "      a.href = window.URL.createObjectURL(blob);\n",
              "      a.download = filename;\n",
              "      div.appendChild(a);\n",
              "      a.click();\n",
              "      div.remove();\n",
              "    }\n",
              "  "
            ]
          },
          "metadata": {}
        },
        {
          "output_type": "display_data",
          "data": {
            "text/plain": [
              "<IPython.core.display.Javascript object>"
            ],
            "application/javascript": [
              "download(\"download_9e1e929c-33c7-4c39-8273-e30fdd76de28\", \"upregulated_targets_GO_KEGG.xlsx\", 10707)"
            ]
          },
          "metadata": {}
        }
      ]
    },
    {
      "cell_type": "markdown",
      "source": [
        "##Overlapped"
      ],
      "metadata": {
        "id": "7_kRMEJBZlfS"
      }
    },
    {
      "cell_type": "code",
      "source": [
        "### GO f\n",
        "omirtgfun = {}\n",
        "for i in opcrar:\n",
        "    targets = crossfinal.loc[i, \"all targets\"]\n",
        "    gp = GProfiler(return_dataframe=True)\n",
        "    gpdf = gp.profile(organism='hsapiens',\n",
        "                      query=targets,\n",
        "                      no_evidences=False,\n",
        "                      sources = [\"GO:BP\"])\n",
        "    fun = list(gpdf[\"name\"])\n",
        "    omirtgfun[i] = fun\n",
        "otargfgo = pd.Series(omirtgfun).to_frame('Target functions')"
      ],
      "metadata": {
        "id": "5zEMJqWUZnqw"
      },
      "execution_count": null,
      "outputs": []
    },
    {
      "cell_type": "code",
      "source": [
        "### KEGG \n",
        "omirtgfun = {}\n",
        "for i in opcrar:\n",
        "    targets = crossfinal.loc[i, \"all targets\"]\n",
        "    gp = GProfiler(return_dataframe=True)\n",
        "    gpdf = gp.profile(organism='hsapiens',\n",
        "                      query=targets,\n",
        "                      no_evidences=False,\n",
        "                      sources = [\"KEGG\"])\n",
        "    fun = list(gpdf[\"name\"])\n",
        "    omirtgfun[i] = fun\n",
        "otargfkegg = pd.Series(omirtgfun).to_frame('Target functions')"
      ],
      "metadata": {
        "id": "f5oAVjtgbEUT"
      },
      "execution_count": null,
      "outputs": []
    },
    {
      "cell_type": "code",
      "source": [
        "### Save to excel file\n",
        "with pd.ExcelWriter('overlapped_targets_GO_KEGG.xlsx') as writer:  \n",
        "    otargfgo.to_excel(writer, sheet_name='GO')\n",
        "    otargfkegg.to_excel(writer, sheet_name='KEGG')\n",
        "\n",
        "from google.colab import files\n",
        "files.download('overlapped_targets_GO_KEGG.xlsx')"
      ],
      "metadata": {
        "colab": {
          "base_uri": "https://localhost:8080/",
          "height": 17
        },
        "id": "pSQreWWPbsuw",
        "outputId": "fa3e1fb7-85fd-4ce9-8df2-506b72a21438"
      },
      "execution_count": null,
      "outputs": [
        {
          "output_type": "display_data",
          "data": {
            "text/plain": [
              "<IPython.core.display.Javascript object>"
            ],
            "application/javascript": [
              "\n",
              "    async function download(id, filename, size) {\n",
              "      if (!google.colab.kernel.accessAllowed) {\n",
              "        return;\n",
              "      }\n",
              "      const div = document.createElement('div');\n",
              "      const label = document.createElement('label');\n",
              "      label.textContent = `Downloading \"${filename}\": `;\n",
              "      div.appendChild(label);\n",
              "      const progress = document.createElement('progress');\n",
              "      progress.max = size;\n",
              "      div.appendChild(progress);\n",
              "      document.body.appendChild(div);\n",
              "\n",
              "      const buffers = [];\n",
              "      let downloaded = 0;\n",
              "\n",
              "      const channel = await google.colab.kernel.comms.open(id);\n",
              "      // Send a message to notify the kernel that we're ready.\n",
              "      channel.send({})\n",
              "\n",
              "      for await (const message of channel.messages) {\n",
              "        // Send a message to notify the kernel that we're ready.\n",
              "        channel.send({})\n",
              "        if (message.buffers) {\n",
              "          for (const buffer of message.buffers) {\n",
              "            buffers.push(buffer);\n",
              "            downloaded += buffer.byteLength;\n",
              "            progress.value = downloaded;\n",
              "          }\n",
              "        }\n",
              "      }\n",
              "      const blob = new Blob(buffers, {type: 'application/binary'});\n",
              "      const a = document.createElement('a');\n",
              "      a.href = window.URL.createObjectURL(blob);\n",
              "      a.download = filename;\n",
              "      div.appendChild(a);\n",
              "      a.click();\n",
              "      div.remove();\n",
              "    }\n",
              "  "
            ]
          },
          "metadata": {}
        },
        {
          "output_type": "display_data",
          "data": {
            "text/plain": [
              "<IPython.core.display.Javascript object>"
            ],
            "application/javascript": [
              "download(\"download_657cd439-5c45-44f7-b6df-f92d92e65ef1\", \"overlapped_targets_GO_KEGG.xlsx\", 21444)"
            ]
          },
          "metadata": {}
        }
      ]
    },
    {
      "cell_type": "markdown",
      "source": [
        "## Term enrichment"
      ],
      "metadata": {
        "id": "vhbyqDJOf9Jy"
      }
    },
    {
      "cell_type": "code",
      "source": [
        "### GO\n",
        "terms = [' stem', \"fibrosis\", 'wound', 'differentitation', \n",
        "         'actin', 'matrix', 'fibroblast', 'myofibroblast',\n",
        "         'aging', 'senescence', 'apoptosis', 'wounding',\n",
        "         'muscle', 'programmed', 'extracellular', 'encapsulating',\n",
        "         'proliferation', 'mesenchymal']\n",
        "enrich_terms = {}\n",
        "for mir in list(otargfgo.index):\n",
        "    group = otargfgo.loc[mir, \"Target functions\"]\n",
        "    lst = []\n",
        "    for t in terms:\n",
        "      for name in group:\n",
        "        if t in name:\n",
        "          lst.append(name)\n",
        "    enrich_terms[mir] = lst\n",
        "enrichgo = pd.Series(enrich_terms).to_frame('Enriched functions')"
      ],
      "metadata": {
        "id": "k3ikGODngBW8"
      },
      "execution_count": null,
      "outputs": []
    },
    {
      "cell_type": "code",
      "source": [
        "### KEGG\n",
        "terms = [' stem', 'fibrosis', 'wound', 'differentitation', \n",
        "         'actin', 'matrix', 'fibroblast', 'myofibroblast',\n",
        "         'aging', 'senescence', 'apoptosis', 'wounding',\n",
        "         'muscle', 'programmed', 'extracellular', 'encapsulating',\n",
        "         'proliferation', 'mesenchymal']\n",
        "enrich_terms = {}\n",
        "for mir in list(otargfkegg.index):\n",
        "    group = otargfkegg.loc[mir, \"Target functions\"]\n",
        "    lst = []\n",
        "    for t in terms:\n",
        "      for name in group:\n",
        "        if t in name:\n",
        "          lst.append(name)\n",
        "    enrich_terms[mir] = lst\n",
        "enrichkegg = pd.Series(enrich_terms).to_frame('Enriched functions')"
      ],
      "metadata": {
        "id": "j3H0dTl96YdI"
      },
      "execution_count": null,
      "outputs": []
    },
    {
      "cell_type": "code",
      "source": [
        "with pd.ExcelWriter('overlapped_enriched_terms_GO_KEGG.xlsx') as writer:  \n",
        "    enrichgo.to_excel(writer, sheet_name='GO')\n",
        "    enrichkegg.to_excel(writer, sheet_name='KEGG')\n",
        "\n",
        "from google.colab import files\n",
        "files.download('overlapped_enriched_terms_GO_KEGG.xlsx')"
      ],
      "metadata": {
        "colab": {
          "base_uri": "https://localhost:8080/",
          "height": 17
        },
        "id": "kRj9n0RC31ce",
        "outputId": "c5882bd6-c41c-48e3-ac9e-177cce21d215"
      },
      "execution_count": null,
      "outputs": [
        {
          "output_type": "display_data",
          "data": {
            "text/plain": [
              "<IPython.core.display.Javascript object>"
            ],
            "application/javascript": [
              "\n",
              "    async function download(id, filename, size) {\n",
              "      if (!google.colab.kernel.accessAllowed) {\n",
              "        return;\n",
              "      }\n",
              "      const div = document.createElement('div');\n",
              "      const label = document.createElement('label');\n",
              "      label.textContent = `Downloading \"${filename}\": `;\n",
              "      div.appendChild(label);\n",
              "      const progress = document.createElement('progress');\n",
              "      progress.max = size;\n",
              "      div.appendChild(progress);\n",
              "      document.body.appendChild(div);\n",
              "\n",
              "      const buffers = [];\n",
              "      let downloaded = 0;\n",
              "\n",
              "      const channel = await google.colab.kernel.comms.open(id);\n",
              "      // Send a message to notify the kernel that we're ready.\n",
              "      channel.send({})\n",
              "\n",
              "      for await (const message of channel.messages) {\n",
              "        // Send a message to notify the kernel that we're ready.\n",
              "        channel.send({})\n",
              "        if (message.buffers) {\n",
              "          for (const buffer of message.buffers) {\n",
              "            buffers.push(buffer);\n",
              "            downloaded += buffer.byteLength;\n",
              "            progress.value = downloaded;\n",
              "          }\n",
              "        }\n",
              "      }\n",
              "      const blob = new Blob(buffers, {type: 'application/binary'});\n",
              "      const a = document.createElement('a');\n",
              "      a.href = window.URL.createObjectURL(blob);\n",
              "      a.download = filename;\n",
              "      div.appendChild(a);\n",
              "      a.click();\n",
              "      div.remove();\n",
              "    }\n",
              "  "
            ]
          },
          "metadata": {}
        },
        {
          "output_type": "display_data",
          "data": {
            "text/plain": [
              "<IPython.core.display.Javascript object>"
            ],
            "application/javascript": [
              "download(\"download_73db8845-fd41-440f-b056-6db204c71501\", \"overlapped_enriched_terms_GO_KEGG.xlsx\", 6602)"
            ]
          },
          "metadata": {}
        }
      ]
    }
  ],
  "metadata": {
    "colab": {
      "name": "Search for miRNAs.ipynb",
      "toc_visible": true,
      "provenance": [],
      "mount_file_id": "1V-baXbnLa888wqU1WRHKsa2-ZsCjaJQV",
      "authorship_tag": "ABX9TyO0QSAP/O8PQ8HhJHZ55eDJ",
      "include_colab_link": true
    },
    "kernelspec": {
      "display_name": "Python 3",
      "name": "python3"
    },
    "language_info": {
      "name": "python"
    }
  },
  "nbformat": 4,
  "nbformat_minor": 0
}