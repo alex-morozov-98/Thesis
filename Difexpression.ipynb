{
  "cells": [
    {
      "cell_type": "markdown",
      "metadata": {
        "id": "view-in-github",
        "colab_type": "text"
      },
      "source": [
        "<a href=\"https://colab.research.google.com/github/alex-morozov-98/Thesis/blob/main/Difexpression.ipynb\" target=\"_parent\"><img src=\"https://colab.research.google.com/assets/colab-badge.svg\" alt=\"Open In Colab\"/></a>"
      ]
    },
    {
      "cell_type": "markdown",
      "metadata": {
        "id": "K67Ln_VDkapi"
      },
      "source": [
        "# Settings"
      ]
    },
    {
      "cell_type": "code",
      "execution_count": 1,
      "metadata": {
        "id": "K5F63mR35lbk"
      },
      "outputs": [],
      "source": [
        "import scipy\n",
        "import numpy as np \n",
        "import pandas as pd\n",
        "\n",
        "import itertools\n",
        "import matplotlib.pyplot as plt\n",
        "import seaborn as sn"
      ]
    },
    {
      "cell_type": "code",
      "execution_count": 2,
      "metadata": {
        "colab": {
          "base_uri": "https://localhost:8080/"
        },
        "id": "1NZLsOVN6IJS",
        "outputId": "08ed4063-5f39-42b9-cf83-76afcb00c639"
      },
      "outputs": [
        {
          "output_type": "stream",
          "name": "stdout",
          "text": [
            "Drive already mounted at /content/drive; to attempt to forcibly remount, call drive.mount(\"/content/drive\", force_remount=True).\n"
          ]
        }
      ],
      "source": [
        "### grant access to your google drive\n",
        "from google.colab import drive\n",
        "drive.mount('/content/drive')"
      ]
    },
    {
      "cell_type": "code",
      "execution_count": null,
      "metadata": {
        "id": "_d1nye3obI74"
      },
      "outputs": [],
      "source": [
        "### set the number of dataframe rows you would like to display\n",
        "pd.options.display.max_rows = 10"
      ]
    },
    {
      "cell_type": "code",
      "execution_count": null,
      "metadata": {
        "colab": {
          "base_uri": "https://localhost:8080/"
        },
        "id": "Vi2k2Wzh9f1J",
        "outputId": "0d745d40-c3ff-4162-97d3-c23af7cadbd3"
      },
      "outputs": [
        {
          "output_type": "stream",
          "name": "stdout",
          "text": [
            "Collecting gprofiler-official\n",
            "  Downloading gprofiler_official-1.0.0-py3-none-any.whl (9.3 kB)\n",
            "Requirement already satisfied: requests in /usr/local/lib/python3.7/dist-packages (from gprofiler-official) (2.23.0)\n",
            "Requirement already satisfied: urllib3!=1.25.0,!=1.25.1,<1.26,>=1.21.1 in /usr/local/lib/python3.7/dist-packages (from requests->gprofiler-official) (1.24.3)\n",
            "Requirement already satisfied: chardet<4,>=3.0.2 in /usr/local/lib/python3.7/dist-packages (from requests->gprofiler-official) (3.0.4)\n",
            "Requirement already satisfied: certifi>=2017.4.17 in /usr/local/lib/python3.7/dist-packages (from requests->gprofiler-official) (2021.10.8)\n",
            "Requirement already satisfied: idna<3,>=2.5 in /usr/local/lib/python3.7/dist-packages (from requests->gprofiler-official) (2.10)\n",
            "Installing collected packages: gprofiler-official\n",
            "Successfully installed gprofiler-official-1.0.0\n"
          ]
        }
      ],
      "source": [
        "### install GProfiler\n",
        "!pip install gprofiler-official"
      ]
    },
    {
      "cell_type": "code",
      "source": [
        "from gprofiler import GProfiler"
      ],
      "metadata": {
        "id": "jQ8hGfIDEhES"
      },
      "execution_count": null,
      "outputs": []
    },
    {
      "cell_type": "markdown",
      "metadata": {
        "id": "vcqUTo2MkjlT"
      },
      "source": [
        "# Get the lists of differentially expressed genes"
      ]
    },
    {
      "cell_type": "markdown",
      "metadata": {
        "id": "QAn3_vplk7rX"
      },
      "source": [
        "The up and down regulated genes were selected using volcano plot"
      ]
    },
    {
      "cell_type": "code",
      "execution_count": 5,
      "metadata": {
        "colab": {
          "base_uri": "https://localhost:8080/",
          "height": 1000
        },
        "id": "gTMfO-aN9FDH",
        "outputId": "0f9f7211-aa9b-4c15-a6b1-2c92ba327157"
      },
      "outputs": [
        {
          "output_type": "execute_result",
          "data": {
            "text/plain": [
              "      Unnamed: 0            ID                                Description  \\\n",
              "0   DOID:0060084  DOID:0060084                  cell type benign neoplasm   \n",
              "1     DOID:10591    DOID:10591                              pre-eclampsia   \n",
              "2       DOID:657      DOID:657                                    adenoma   \n",
              "3       DOID:201      DOID:201                   connective tissue cancer   \n",
              "4     DOID:13001    DOID:13001                           carotid stenosis   \n",
              "5      DOID:3347     DOID:3347                               osteosarcoma   \n",
              "6     DOID:10762    DOID:10762                        portal hypertension   \n",
              "7     DOID:10941    DOID:10941                      intracranial aneurysm   \n",
              "8   DOID:0060100  DOID:0060100              musculoskeletal system cancer   \n",
              "9       DOID:184      DOID:184                                bone cancer   \n",
              "10     DOID:3407     DOID:3407                     carotid artery disease   \n",
              "11    DOID:13089    DOID:13089              intracranial arterial disease   \n",
              "12     DOID:3527     DOID:3527                  cerebral arterial disease   \n",
              "13    DOID:11723    DOID:11723                Duchenne muscular dystrophy   \n",
              "14      DOID:272      DOID:272                   hepatic vascular disease   \n",
              "15    DOID:10825    DOID:10825                     essential hypertension   \n",
              "16    DOID:11612    DOID:11612                  polycystic ovary syndrome   \n",
              "17  DOID:0060095  DOID:0060095                    uterine benign neoplasm   \n",
              "18    DOID:13223    DOID:13223                            uterine fibroid   \n",
              "19  DOID:0060086  DOID:0060086  female reproductive organ benign neoplasm   \n",
              "20    DOID:11830    DOID:11830                                     myopia   \n",
              "21  DOID:0050622  DOID:0050622         reproductive organ benign neoplasm   \n",
              "22     DOID:7693     DOID:7693                  abdominal aortic aneurysm   \n",
              "23     DOID:3963     DOID:3963                          thyroid carcinoma   \n",
              "24      DOID:854      DOID:854                           collagen disease   \n",
              "25     DOID:3962     DOID:3962               follicular thyroid carcinoma   \n",
              "26     DOID:1781     DOID:1781                             thyroid cancer   \n",
              "27     DOID:3627     DOID:3627                            aortic aneurysm   \n",
              "28      DOID:520      DOID:520                             aortic disease   \n",
              "29    DOID:13580    DOID:13580                                cholestasis   \n",
              "30      DOID:557      DOID:557                             kidney disease   \n",
              "31       DOID:18       DOID:18                     urinary system disease   \n",
              "32     DOID:9835     DOID:9835                           refractive error   \n",
              "\n",
              "    GeneRatio   BgRatio    pvalue  p.adjust    qvalue  \\\n",
              "0       44901  475/8007  0.000029  0.004748  0.002291   \n",
              "1       44900  278/8007  0.000032  0.004748  0.002291   \n",
              "2       44900  340/8007  0.000083  0.008323  0.004017   \n",
              "3       44900  370/8007  0.000124  0.009302  0.004489   \n",
              "4       44897   14/8007  0.000186  0.009302  0.004489   \n",
              "5       44899  215/8007  0.000211  0.009302  0.004489   \n",
              "6       44897   17/8007  0.000277  0.009302  0.004489   \n",
              "7       44897   17/8007  0.000277  0.009302  0.004489   \n",
              "8       44900  439/8007  0.000278  0.009302  0.004489   \n",
              "9       44899  243/8007  0.000338  0.009500  0.004585   \n",
              "10      44897   19/8007  0.000347  0.009500  0.004585   \n",
              "11      44897   22/8007  0.000468  0.010831  0.005227   \n",
              "12      44897   22/8007  0.000468  0.010831  0.005227   \n",
              "13      44897   23/8007  0.000512  0.011007  0.005312   \n",
              "14      44897   24/8007  0.000558  0.011197  0.005404   \n",
              "15      44898  122/8007  0.000687  0.012919  0.006235   \n",
              "16      44898  166/8007  0.001678  0.028191  0.013605   \n",
              "17      44897   43/8007  0.001797  0.028191  0.013605   \n",
              "18      44897   43/8007  0.001797  0.028191  0.013605   \n",
              "19      44897   45/8007  0.001967  0.028191  0.013605   \n",
              "20      44897   45/8007  0.001967  0.028191  0.013605   \n",
              "21      44897   47/8007  0.002144  0.029335  0.014157   \n",
              "22      44897   49/8007  0.002329  0.030474  0.014707   \n",
              "23      44898  200/8007  0.002859  0.034916  0.016851   \n",
              "24      44898  201/8007  0.002900  0.034916  0.016851   \n",
              "25      44897   56/8007  0.003032  0.035097  0.016938   \n",
              "26      44898  213/8007  0.003419  0.035980  0.017364   \n",
              "27      44897   60/8007  0.003473  0.035980  0.017364   \n",
              "28      44897   61/8007  0.003588  0.035980  0.017364   \n",
              "29      44897   62/8007  0.003704  0.035980  0.017364   \n",
              "30      44899  461/8007  0.003706  0.035980  0.017364   \n",
              "31      44899  478/8007  0.004225  0.039745  0.019181   \n",
              "32      44897   71/8007  0.004831  0.044067  0.021267   \n",
              "\n",
              "                                 geneID  Count  \n",
              "0   CLU, SFRP2, VCAN, HMOX1, MEG3, MMP2      6  \n",
              "1           CLU, DCN, VCAN, HMOX1, MMP2      5  \n",
              "2         CLU, SFRP2, HMOX1, MEG3, MMP2      5  \n",
              "3            CLU, DCN, LUM, TIMP1, MMP2      5  \n",
              "4                           TIMP1, MMP2      2  \n",
              "5                 DCN, LUM, TIMP1, MMP2      4  \n",
              "6                          HMOX1, TIMP1      2  \n",
              "7                           TIMP1, MMP2      2  \n",
              "8            CLU, DCN, LUM, TIMP1, MMP2      5  \n",
              "9                 DCN, LUM, TIMP1, MMP2      4  \n",
              "10                          TIMP1, MMP2      2  \n",
              "11                          TIMP1, MMP2      2  \n",
              "12                          TIMP1, MMP2      2  \n",
              "13                          TIMP1, MMP2      2  \n",
              "14                         HMOX1, TIMP1      2  \n",
              "15                     CLU, HMOX1, MMP2      3  \n",
              "16                   HMOX1, TIMP1, MMP2      3  \n",
              "17                           VCAN, MMP2      2  \n",
              "18                           VCAN, MMP2      2  \n",
              "19                           VCAN, MMP2      2  \n",
              "20                            LUM, MMP2      2  \n",
              "21                           VCAN, MMP2      2  \n",
              "22                          TIMP1, MMP2      2  \n",
              "23                     DCN, TIMP1, MMP2      3  \n",
              "24                     DCN, TIMP1, MMP2      3  \n",
              "25                          TIMP1, MMP2      2  \n",
              "26                     DCN, TIMP1, MMP2      3  \n",
              "27                          TIMP1, MMP2      2  \n",
              "28                          TIMP1, MMP2      2  \n",
              "29                         HMOX1, TIMP1      2  \n",
              "30              CLU, HMOX1, TIMP1, MMP2      4  \n",
              "31              CLU, HMOX1, TIMP1, MMP2      4  \n",
              "32                            LUM, MMP2      2  "
            ],
            "text/html": [
              "\n",
              "  <div id=\"df-ab8b1c23-0f6c-4c1a-8450-c7e6dbe6e144\">\n",
              "    <div class=\"colab-df-container\">\n",
              "      <div>\n",
              "<style scoped>\n",
              "    .dataframe tbody tr th:only-of-type {\n",
              "        vertical-align: middle;\n",
              "    }\n",
              "\n",
              "    .dataframe tbody tr th {\n",
              "        vertical-align: top;\n",
              "    }\n",
              "\n",
              "    .dataframe thead th {\n",
              "        text-align: right;\n",
              "    }\n",
              "</style>\n",
              "<table border=\"1\" class=\"dataframe\">\n",
              "  <thead>\n",
              "    <tr style=\"text-align: right;\">\n",
              "      <th></th>\n",
              "      <th>Unnamed: 0</th>\n",
              "      <th>ID</th>\n",
              "      <th>Description</th>\n",
              "      <th>GeneRatio</th>\n",
              "      <th>BgRatio</th>\n",
              "      <th>pvalue</th>\n",
              "      <th>p.adjust</th>\n",
              "      <th>qvalue</th>\n",
              "      <th>geneID</th>\n",
              "      <th>Count</th>\n",
              "    </tr>\n",
              "  </thead>\n",
              "  <tbody>\n",
              "    <tr>\n",
              "      <th>0</th>\n",
              "      <td>DOID:0060084</td>\n",
              "      <td>DOID:0060084</td>\n",
              "      <td>cell type benign neoplasm</td>\n",
              "      <td>44901</td>\n",
              "      <td>475/8007</td>\n",
              "      <td>0.000029</td>\n",
              "      <td>0.004748</td>\n",
              "      <td>0.002291</td>\n",
              "      <td>CLU, SFRP2, VCAN, HMOX1, MEG3, MMP2</td>\n",
              "      <td>6</td>\n",
              "    </tr>\n",
              "    <tr>\n",
              "      <th>1</th>\n",
              "      <td>DOID:10591</td>\n",
              "      <td>DOID:10591</td>\n",
              "      <td>pre-eclampsia</td>\n",
              "      <td>44900</td>\n",
              "      <td>278/8007</td>\n",
              "      <td>0.000032</td>\n",
              "      <td>0.004748</td>\n",
              "      <td>0.002291</td>\n",
              "      <td>CLU, DCN, VCAN, HMOX1, MMP2</td>\n",
              "      <td>5</td>\n",
              "    </tr>\n",
              "    <tr>\n",
              "      <th>2</th>\n",
              "      <td>DOID:657</td>\n",
              "      <td>DOID:657</td>\n",
              "      <td>adenoma</td>\n",
              "      <td>44900</td>\n",
              "      <td>340/8007</td>\n",
              "      <td>0.000083</td>\n",
              "      <td>0.008323</td>\n",
              "      <td>0.004017</td>\n",
              "      <td>CLU, SFRP2, HMOX1, MEG3, MMP2</td>\n",
              "      <td>5</td>\n",
              "    </tr>\n",
              "    <tr>\n",
              "      <th>3</th>\n",
              "      <td>DOID:201</td>\n",
              "      <td>DOID:201</td>\n",
              "      <td>connective tissue cancer</td>\n",
              "      <td>44900</td>\n",
              "      <td>370/8007</td>\n",
              "      <td>0.000124</td>\n",
              "      <td>0.009302</td>\n",
              "      <td>0.004489</td>\n",
              "      <td>CLU, DCN, LUM, TIMP1, MMP2</td>\n",
              "      <td>5</td>\n",
              "    </tr>\n",
              "    <tr>\n",
              "      <th>4</th>\n",
              "      <td>DOID:13001</td>\n",
              "      <td>DOID:13001</td>\n",
              "      <td>carotid stenosis</td>\n",
              "      <td>44897</td>\n",
              "      <td>14/8007</td>\n",
              "      <td>0.000186</td>\n",
              "      <td>0.009302</td>\n",
              "      <td>0.004489</td>\n",
              "      <td>TIMP1, MMP2</td>\n",
              "      <td>2</td>\n",
              "    </tr>\n",
              "    <tr>\n",
              "      <th>5</th>\n",
              "      <td>DOID:3347</td>\n",
              "      <td>DOID:3347</td>\n",
              "      <td>osteosarcoma</td>\n",
              "      <td>44899</td>\n",
              "      <td>215/8007</td>\n",
              "      <td>0.000211</td>\n",
              "      <td>0.009302</td>\n",
              "      <td>0.004489</td>\n",
              "      <td>DCN, LUM, TIMP1, MMP2</td>\n",
              "      <td>4</td>\n",
              "    </tr>\n",
              "    <tr>\n",
              "      <th>6</th>\n",
              "      <td>DOID:10762</td>\n",
              "      <td>DOID:10762</td>\n",
              "      <td>portal hypertension</td>\n",
              "      <td>44897</td>\n",
              "      <td>17/8007</td>\n",
              "      <td>0.000277</td>\n",
              "      <td>0.009302</td>\n",
              "      <td>0.004489</td>\n",
              "      <td>HMOX1, TIMP1</td>\n",
              "      <td>2</td>\n",
              "    </tr>\n",
              "    <tr>\n",
              "      <th>7</th>\n",
              "      <td>DOID:10941</td>\n",
              "      <td>DOID:10941</td>\n",
              "      <td>intracranial aneurysm</td>\n",
              "      <td>44897</td>\n",
              "      <td>17/8007</td>\n",
              "      <td>0.000277</td>\n",
              "      <td>0.009302</td>\n",
              "      <td>0.004489</td>\n",
              "      <td>TIMP1, MMP2</td>\n",
              "      <td>2</td>\n",
              "    </tr>\n",
              "    <tr>\n",
              "      <th>8</th>\n",
              "      <td>DOID:0060100</td>\n",
              "      <td>DOID:0060100</td>\n",
              "      <td>musculoskeletal system cancer</td>\n",
              "      <td>44900</td>\n",
              "      <td>439/8007</td>\n",
              "      <td>0.000278</td>\n",
              "      <td>0.009302</td>\n",
              "      <td>0.004489</td>\n",
              "      <td>CLU, DCN, LUM, TIMP1, MMP2</td>\n",
              "      <td>5</td>\n",
              "    </tr>\n",
              "    <tr>\n",
              "      <th>9</th>\n",
              "      <td>DOID:184</td>\n",
              "      <td>DOID:184</td>\n",
              "      <td>bone cancer</td>\n",
              "      <td>44899</td>\n",
              "      <td>243/8007</td>\n",
              "      <td>0.000338</td>\n",
              "      <td>0.009500</td>\n",
              "      <td>0.004585</td>\n",
              "      <td>DCN, LUM, TIMP1, MMP2</td>\n",
              "      <td>4</td>\n",
              "    </tr>\n",
              "    <tr>\n",
              "      <th>10</th>\n",
              "      <td>DOID:3407</td>\n",
              "      <td>DOID:3407</td>\n",
              "      <td>carotid artery disease</td>\n",
              "      <td>44897</td>\n",
              "      <td>19/8007</td>\n",
              "      <td>0.000347</td>\n",
              "      <td>0.009500</td>\n",
              "      <td>0.004585</td>\n",
              "      <td>TIMP1, MMP2</td>\n",
              "      <td>2</td>\n",
              "    </tr>\n",
              "    <tr>\n",
              "      <th>11</th>\n",
              "      <td>DOID:13089</td>\n",
              "      <td>DOID:13089</td>\n",
              "      <td>intracranial arterial disease</td>\n",
              "      <td>44897</td>\n",
              "      <td>22/8007</td>\n",
              "      <td>0.000468</td>\n",
              "      <td>0.010831</td>\n",
              "      <td>0.005227</td>\n",
              "      <td>TIMP1, MMP2</td>\n",
              "      <td>2</td>\n",
              "    </tr>\n",
              "    <tr>\n",
              "      <th>12</th>\n",
              "      <td>DOID:3527</td>\n",
              "      <td>DOID:3527</td>\n",
              "      <td>cerebral arterial disease</td>\n",
              "      <td>44897</td>\n",
              "      <td>22/8007</td>\n",
              "      <td>0.000468</td>\n",
              "      <td>0.010831</td>\n",
              "      <td>0.005227</td>\n",
              "      <td>TIMP1, MMP2</td>\n",
              "      <td>2</td>\n",
              "    </tr>\n",
              "    <tr>\n",
              "      <th>13</th>\n",
              "      <td>DOID:11723</td>\n",
              "      <td>DOID:11723</td>\n",
              "      <td>Duchenne muscular dystrophy</td>\n",
              "      <td>44897</td>\n",
              "      <td>23/8007</td>\n",
              "      <td>0.000512</td>\n",
              "      <td>0.011007</td>\n",
              "      <td>0.005312</td>\n",
              "      <td>TIMP1, MMP2</td>\n",
              "      <td>2</td>\n",
              "    </tr>\n",
              "    <tr>\n",
              "      <th>14</th>\n",
              "      <td>DOID:272</td>\n",
              "      <td>DOID:272</td>\n",
              "      <td>hepatic vascular disease</td>\n",
              "      <td>44897</td>\n",
              "      <td>24/8007</td>\n",
              "      <td>0.000558</td>\n",
              "      <td>0.011197</td>\n",
              "      <td>0.005404</td>\n",
              "      <td>HMOX1, TIMP1</td>\n",
              "      <td>2</td>\n",
              "    </tr>\n",
              "    <tr>\n",
              "      <th>15</th>\n",
              "      <td>DOID:10825</td>\n",
              "      <td>DOID:10825</td>\n",
              "      <td>essential hypertension</td>\n",
              "      <td>44898</td>\n",
              "      <td>122/8007</td>\n",
              "      <td>0.000687</td>\n",
              "      <td>0.012919</td>\n",
              "      <td>0.006235</td>\n",
              "      <td>CLU, HMOX1, MMP2</td>\n",
              "      <td>3</td>\n",
              "    </tr>\n",
              "    <tr>\n",
              "      <th>16</th>\n",
              "      <td>DOID:11612</td>\n",
              "      <td>DOID:11612</td>\n",
              "      <td>polycystic ovary syndrome</td>\n",
              "      <td>44898</td>\n",
              "      <td>166/8007</td>\n",
              "      <td>0.001678</td>\n",
              "      <td>0.028191</td>\n",
              "      <td>0.013605</td>\n",
              "      <td>HMOX1, TIMP1, MMP2</td>\n",
              "      <td>3</td>\n",
              "    </tr>\n",
              "    <tr>\n",
              "      <th>17</th>\n",
              "      <td>DOID:0060095</td>\n",
              "      <td>DOID:0060095</td>\n",
              "      <td>uterine benign neoplasm</td>\n",
              "      <td>44897</td>\n",
              "      <td>43/8007</td>\n",
              "      <td>0.001797</td>\n",
              "      <td>0.028191</td>\n",
              "      <td>0.013605</td>\n",
              "      <td>VCAN, MMP2</td>\n",
              "      <td>2</td>\n",
              "    </tr>\n",
              "    <tr>\n",
              "      <th>18</th>\n",
              "      <td>DOID:13223</td>\n",
              "      <td>DOID:13223</td>\n",
              "      <td>uterine fibroid</td>\n",
              "      <td>44897</td>\n",
              "      <td>43/8007</td>\n",
              "      <td>0.001797</td>\n",
              "      <td>0.028191</td>\n",
              "      <td>0.013605</td>\n",
              "      <td>VCAN, MMP2</td>\n",
              "      <td>2</td>\n",
              "    </tr>\n",
              "    <tr>\n",
              "      <th>19</th>\n",
              "      <td>DOID:0060086</td>\n",
              "      <td>DOID:0060086</td>\n",
              "      <td>female reproductive organ benign neoplasm</td>\n",
              "      <td>44897</td>\n",
              "      <td>45/8007</td>\n",
              "      <td>0.001967</td>\n",
              "      <td>0.028191</td>\n",
              "      <td>0.013605</td>\n",
              "      <td>VCAN, MMP2</td>\n",
              "      <td>2</td>\n",
              "    </tr>\n",
              "    <tr>\n",
              "      <th>20</th>\n",
              "      <td>DOID:11830</td>\n",
              "      <td>DOID:11830</td>\n",
              "      <td>myopia</td>\n",
              "      <td>44897</td>\n",
              "      <td>45/8007</td>\n",
              "      <td>0.001967</td>\n",
              "      <td>0.028191</td>\n",
              "      <td>0.013605</td>\n",
              "      <td>LUM, MMP2</td>\n",
              "      <td>2</td>\n",
              "    </tr>\n",
              "    <tr>\n",
              "      <th>21</th>\n",
              "      <td>DOID:0050622</td>\n",
              "      <td>DOID:0050622</td>\n",
              "      <td>reproductive organ benign neoplasm</td>\n",
              "      <td>44897</td>\n",
              "      <td>47/8007</td>\n",
              "      <td>0.002144</td>\n",
              "      <td>0.029335</td>\n",
              "      <td>0.014157</td>\n",
              "      <td>VCAN, MMP2</td>\n",
              "      <td>2</td>\n",
              "    </tr>\n",
              "    <tr>\n",
              "      <th>22</th>\n",
              "      <td>DOID:7693</td>\n",
              "      <td>DOID:7693</td>\n",
              "      <td>abdominal aortic aneurysm</td>\n",
              "      <td>44897</td>\n",
              "      <td>49/8007</td>\n",
              "      <td>0.002329</td>\n",
              "      <td>0.030474</td>\n",
              "      <td>0.014707</td>\n",
              "      <td>TIMP1, MMP2</td>\n",
              "      <td>2</td>\n",
              "    </tr>\n",
              "    <tr>\n",
              "      <th>23</th>\n",
              "      <td>DOID:3963</td>\n",
              "      <td>DOID:3963</td>\n",
              "      <td>thyroid carcinoma</td>\n",
              "      <td>44898</td>\n",
              "      <td>200/8007</td>\n",
              "      <td>0.002859</td>\n",
              "      <td>0.034916</td>\n",
              "      <td>0.016851</td>\n",
              "      <td>DCN, TIMP1, MMP2</td>\n",
              "      <td>3</td>\n",
              "    </tr>\n",
              "    <tr>\n",
              "      <th>24</th>\n",
              "      <td>DOID:854</td>\n",
              "      <td>DOID:854</td>\n",
              "      <td>collagen disease</td>\n",
              "      <td>44898</td>\n",
              "      <td>201/8007</td>\n",
              "      <td>0.002900</td>\n",
              "      <td>0.034916</td>\n",
              "      <td>0.016851</td>\n",
              "      <td>DCN, TIMP1, MMP2</td>\n",
              "      <td>3</td>\n",
              "    </tr>\n",
              "    <tr>\n",
              "      <th>25</th>\n",
              "      <td>DOID:3962</td>\n",
              "      <td>DOID:3962</td>\n",
              "      <td>follicular thyroid carcinoma</td>\n",
              "      <td>44897</td>\n",
              "      <td>56/8007</td>\n",
              "      <td>0.003032</td>\n",
              "      <td>0.035097</td>\n",
              "      <td>0.016938</td>\n",
              "      <td>TIMP1, MMP2</td>\n",
              "      <td>2</td>\n",
              "    </tr>\n",
              "    <tr>\n",
              "      <th>26</th>\n",
              "      <td>DOID:1781</td>\n",
              "      <td>DOID:1781</td>\n",
              "      <td>thyroid cancer</td>\n",
              "      <td>44898</td>\n",
              "      <td>213/8007</td>\n",
              "      <td>0.003419</td>\n",
              "      <td>0.035980</td>\n",
              "      <td>0.017364</td>\n",
              "      <td>DCN, TIMP1, MMP2</td>\n",
              "      <td>3</td>\n",
              "    </tr>\n",
              "    <tr>\n",
              "      <th>27</th>\n",
              "      <td>DOID:3627</td>\n",
              "      <td>DOID:3627</td>\n",
              "      <td>aortic aneurysm</td>\n",
              "      <td>44897</td>\n",
              "      <td>60/8007</td>\n",
              "      <td>0.003473</td>\n",
              "      <td>0.035980</td>\n",
              "      <td>0.017364</td>\n",
              "      <td>TIMP1, MMP2</td>\n",
              "      <td>2</td>\n",
              "    </tr>\n",
              "    <tr>\n",
              "      <th>28</th>\n",
              "      <td>DOID:520</td>\n",
              "      <td>DOID:520</td>\n",
              "      <td>aortic disease</td>\n",
              "      <td>44897</td>\n",
              "      <td>61/8007</td>\n",
              "      <td>0.003588</td>\n",
              "      <td>0.035980</td>\n",
              "      <td>0.017364</td>\n",
              "      <td>TIMP1, MMP2</td>\n",
              "      <td>2</td>\n",
              "    </tr>\n",
              "    <tr>\n",
              "      <th>29</th>\n",
              "      <td>DOID:13580</td>\n",
              "      <td>DOID:13580</td>\n",
              "      <td>cholestasis</td>\n",
              "      <td>44897</td>\n",
              "      <td>62/8007</td>\n",
              "      <td>0.003704</td>\n",
              "      <td>0.035980</td>\n",
              "      <td>0.017364</td>\n",
              "      <td>HMOX1, TIMP1</td>\n",
              "      <td>2</td>\n",
              "    </tr>\n",
              "    <tr>\n",
              "      <th>30</th>\n",
              "      <td>DOID:557</td>\n",
              "      <td>DOID:557</td>\n",
              "      <td>kidney disease</td>\n",
              "      <td>44899</td>\n",
              "      <td>461/8007</td>\n",
              "      <td>0.003706</td>\n",
              "      <td>0.035980</td>\n",
              "      <td>0.017364</td>\n",
              "      <td>CLU, HMOX1, TIMP1, MMP2</td>\n",
              "      <td>4</td>\n",
              "    </tr>\n",
              "    <tr>\n",
              "      <th>31</th>\n",
              "      <td>DOID:18</td>\n",
              "      <td>DOID:18</td>\n",
              "      <td>urinary system disease</td>\n",
              "      <td>44899</td>\n",
              "      <td>478/8007</td>\n",
              "      <td>0.004225</td>\n",
              "      <td>0.039745</td>\n",
              "      <td>0.019181</td>\n",
              "      <td>CLU, HMOX1, TIMP1, MMP2</td>\n",
              "      <td>4</td>\n",
              "    </tr>\n",
              "    <tr>\n",
              "      <th>32</th>\n",
              "      <td>DOID:9835</td>\n",
              "      <td>DOID:9835</td>\n",
              "      <td>refractive error</td>\n",
              "      <td>44897</td>\n",
              "      <td>71/8007</td>\n",
              "      <td>0.004831</td>\n",
              "      <td>0.044067</td>\n",
              "      <td>0.021267</td>\n",
              "      <td>LUM, MMP2</td>\n",
              "      <td>2</td>\n",
              "    </tr>\n",
              "  </tbody>\n",
              "</table>\n",
              "</div>\n",
              "      <button class=\"colab-df-convert\" onclick=\"convertToInteractive('df-ab8b1c23-0f6c-4c1a-8450-c7e6dbe6e144')\"\n",
              "              title=\"Convert this dataframe to an interactive table.\"\n",
              "              style=\"display:none;\">\n",
              "        \n",
              "  <svg xmlns=\"http://www.w3.org/2000/svg\" height=\"24px\"viewBox=\"0 0 24 24\"\n",
              "       width=\"24px\">\n",
              "    <path d=\"M0 0h24v24H0V0z\" fill=\"none\"/>\n",
              "    <path d=\"M18.56 5.44l.94 2.06.94-2.06 2.06-.94-2.06-.94-.94-2.06-.94 2.06-2.06.94zm-11 1L8.5 8.5l.94-2.06 2.06-.94-2.06-.94L8.5 2.5l-.94 2.06-2.06.94zm10 10l.94 2.06.94-2.06 2.06-.94-2.06-.94-.94-2.06-.94 2.06-2.06.94z\"/><path d=\"M17.41 7.96l-1.37-1.37c-.4-.4-.92-.59-1.43-.59-.52 0-1.04.2-1.43.59L10.3 9.45l-7.72 7.72c-.78.78-.78 2.05 0 2.83L4 21.41c.39.39.9.59 1.41.59.51 0 1.02-.2 1.41-.59l7.78-7.78 2.81-2.81c.8-.78.8-2.07 0-2.86zM5.41 20L4 18.59l7.72-7.72 1.47 1.35L5.41 20z\"/>\n",
              "  </svg>\n",
              "      </button>\n",
              "      \n",
              "  <style>\n",
              "    .colab-df-container {\n",
              "      display:flex;\n",
              "      flex-wrap:wrap;\n",
              "      gap: 12px;\n",
              "    }\n",
              "\n",
              "    .colab-df-convert {\n",
              "      background-color: #E8F0FE;\n",
              "      border: none;\n",
              "      border-radius: 50%;\n",
              "      cursor: pointer;\n",
              "      display: none;\n",
              "      fill: #1967D2;\n",
              "      height: 32px;\n",
              "      padding: 0 0 0 0;\n",
              "      width: 32px;\n",
              "    }\n",
              "\n",
              "    .colab-df-convert:hover {\n",
              "      background-color: #E2EBFA;\n",
              "      box-shadow: 0px 1px 2px rgba(60, 64, 67, 0.3), 0px 1px 3px 1px rgba(60, 64, 67, 0.15);\n",
              "      fill: #174EA6;\n",
              "    }\n",
              "\n",
              "    [theme=dark] .colab-df-convert {\n",
              "      background-color: #3B4455;\n",
              "      fill: #D2E3FC;\n",
              "    }\n",
              "\n",
              "    [theme=dark] .colab-df-convert:hover {\n",
              "      background-color: #434B5C;\n",
              "      box-shadow: 0px 1px 3px 1px rgba(0, 0, 0, 0.15);\n",
              "      filter: drop-shadow(0px 1px 2px rgba(0, 0, 0, 0.3));\n",
              "      fill: #FFFFFF;\n",
              "    }\n",
              "  </style>\n",
              "\n",
              "      <script>\n",
              "        const buttonEl =\n",
              "          document.querySelector('#df-ab8b1c23-0f6c-4c1a-8450-c7e6dbe6e144 button.colab-df-convert');\n",
              "        buttonEl.style.display =\n",
              "          google.colab.kernel.accessAllowed ? 'block' : 'none';\n",
              "\n",
              "        async function convertToInteractive(key) {\n",
              "          const element = document.querySelector('#df-ab8b1c23-0f6c-4c1a-8450-c7e6dbe6e144');\n",
              "          const dataTable =\n",
              "            await google.colab.kernel.invokeFunction('convertToInteractive',\n",
              "                                                     [key], {});\n",
              "          if (!dataTable) return;\n",
              "\n",
              "          const docLinkHtml = 'Like what you see? Visit the ' +\n",
              "            '<a target=\"_blank\" href=https://colab.research.google.com/notebooks/data_table.ipynb>data table notebook</a>'\n",
              "            + ' to learn more about interactive tables.';\n",
              "          element.innerHTML = '';\n",
              "          dataTable['output_type'] = 'display_data';\n",
              "          await google.colab.output.renderOutput(dataTable, element);\n",
              "          const docLink = document.createElement('div');\n",
              "          docLink.innerHTML = docLinkHtml;\n",
              "          element.appendChild(docLink);\n",
              "        }\n",
              "      </script>\n",
              "    </div>\n",
              "  </div>\n",
              "  "
            ]
          },
          "metadata": {},
          "execution_count": 5
        }
      ],
      "source": [
        "### log2foldchange file\n",
        "genf = pd.read_csv(\"/content/drive/MyDrive/Colab Notebooks/EGO_DO.csv\", sep=';')\n",
        "#gef = genf.set_index('FeatureName')\n",
        "genf"
      ]
    },
    {
      "cell_type": "code",
      "source": [
        ""
      ],
      "metadata": {
        "id": "gw0P0hgiplla"
      },
      "execution_count": null,
      "outputs": []
    },
    {
      "cell_type": "code",
      "execution_count": null,
      "metadata": {
        "colab": {
          "base_uri": "https://localhost:8080/"
        },
        "id": "vgBZOh5P9lbi",
        "outputId": "4f93a556-fdd9-478d-b4f1-812da00b82f7"
      },
      "outputs": [
        {
          "output_type": "execute_result",
          "data": {
            "text/plain": [
              "                    p_val  avg_log2FC\n",
              "FeatureName                          \n",
              "COL4A1       3.900000e-55   -3.623729\n",
              "ACTA2        1.700000e-50   -3.623253\n",
              "PPP1R14A     1.300000e-86   -3.619964\n",
              "COL4A2       6.190000e-55   -3.093046\n",
              "SYNPO2       2.790000e-78   -2.668703\n",
              "...                   ...         ...\n",
              "CALD1        6.060000e-37   -1.585714\n",
              "C9orf3       9.770000e-53   -1.585234\n",
              "ACTG2        5.650000e-55   -1.559760\n",
              "CRIM1        2.080000e-40   -1.558270\n",
              "ITGA1        4.920000e-47   -1.526533\n",
              "\n",
              "[25 rows x 2 columns]"
            ],
            "text/html": [
              "\n",
              "  <div id=\"df-8a88a4a8-9689-45ce-a525-11f7c25d894b\">\n",
              "    <div class=\"colab-df-container\">\n",
              "      <div>\n",
              "<style scoped>\n",
              "    .dataframe tbody tr th:only-of-type {\n",
              "        vertical-align: middle;\n",
              "    }\n",
              "\n",
              "    .dataframe tbody tr th {\n",
              "        vertical-align: top;\n",
              "    }\n",
              "\n",
              "    .dataframe thead th {\n",
              "        text-align: right;\n",
              "    }\n",
              "</style>\n",
              "<table border=\"1\" class=\"dataframe\">\n",
              "  <thead>\n",
              "    <tr style=\"text-align: right;\">\n",
              "      <th></th>\n",
              "      <th>p_val</th>\n",
              "      <th>avg_log2FC</th>\n",
              "    </tr>\n",
              "    <tr>\n",
              "      <th>FeatureName</th>\n",
              "      <th></th>\n",
              "      <th></th>\n",
              "    </tr>\n",
              "  </thead>\n",
              "  <tbody>\n",
              "    <tr>\n",
              "      <th>COL4A1</th>\n",
              "      <td>3.900000e-55</td>\n",
              "      <td>-3.623729</td>\n",
              "    </tr>\n",
              "    <tr>\n",
              "      <th>ACTA2</th>\n",
              "      <td>1.700000e-50</td>\n",
              "      <td>-3.623253</td>\n",
              "    </tr>\n",
              "    <tr>\n",
              "      <th>PPP1R14A</th>\n",
              "      <td>1.300000e-86</td>\n",
              "      <td>-3.619964</td>\n",
              "    </tr>\n",
              "    <tr>\n",
              "      <th>COL4A2</th>\n",
              "      <td>6.190000e-55</td>\n",
              "      <td>-3.093046</td>\n",
              "    </tr>\n",
              "    <tr>\n",
              "      <th>SYNPO2</th>\n",
              "      <td>2.790000e-78</td>\n",
              "      <td>-2.668703</td>\n",
              "    </tr>\n",
              "    <tr>\n",
              "      <th>...</th>\n",
              "      <td>...</td>\n",
              "      <td>...</td>\n",
              "    </tr>\n",
              "    <tr>\n",
              "      <th>CALD1</th>\n",
              "      <td>6.060000e-37</td>\n",
              "      <td>-1.585714</td>\n",
              "    </tr>\n",
              "    <tr>\n",
              "      <th>C9orf3</th>\n",
              "      <td>9.770000e-53</td>\n",
              "      <td>-1.585234</td>\n",
              "    </tr>\n",
              "    <tr>\n",
              "      <th>ACTG2</th>\n",
              "      <td>5.650000e-55</td>\n",
              "      <td>-1.559760</td>\n",
              "    </tr>\n",
              "    <tr>\n",
              "      <th>CRIM1</th>\n",
              "      <td>2.080000e-40</td>\n",
              "      <td>-1.558270</td>\n",
              "    </tr>\n",
              "    <tr>\n",
              "      <th>ITGA1</th>\n",
              "      <td>4.920000e-47</td>\n",
              "      <td>-1.526533</td>\n",
              "    </tr>\n",
              "  </tbody>\n",
              "</table>\n",
              "<p>25 rows × 2 columns</p>\n",
              "</div>\n",
              "      <button class=\"colab-df-convert\" onclick=\"convertToInteractive('df-8a88a4a8-9689-45ce-a525-11f7c25d894b')\"\n",
              "              title=\"Convert this dataframe to an interactive table.\"\n",
              "              style=\"display:none;\">\n",
              "        \n",
              "  <svg xmlns=\"http://www.w3.org/2000/svg\" height=\"24px\"viewBox=\"0 0 24 24\"\n",
              "       width=\"24px\">\n",
              "    <path d=\"M0 0h24v24H0V0z\" fill=\"none\"/>\n",
              "    <path d=\"M18.56 5.44l.94 2.06.94-2.06 2.06-.94-2.06-.94-.94-2.06-.94 2.06-2.06.94zm-11 1L8.5 8.5l.94-2.06 2.06-.94-2.06-.94L8.5 2.5l-.94 2.06-2.06.94zm10 10l.94 2.06.94-2.06 2.06-.94-2.06-.94-.94-2.06-.94 2.06-2.06.94z\"/><path d=\"M17.41 7.96l-1.37-1.37c-.4-.4-.92-.59-1.43-.59-.52 0-1.04.2-1.43.59L10.3 9.45l-7.72 7.72c-.78.78-.78 2.05 0 2.83L4 21.41c.39.39.9.59 1.41.59.51 0 1.02-.2 1.41-.59l7.78-7.78 2.81-2.81c.8-.78.8-2.07 0-2.86zM5.41 20L4 18.59l7.72-7.72 1.47 1.35L5.41 20z\"/>\n",
              "  </svg>\n",
              "      </button>\n",
              "      \n",
              "  <style>\n",
              "    .colab-df-container {\n",
              "      display:flex;\n",
              "      flex-wrap:wrap;\n",
              "      gap: 12px;\n",
              "    }\n",
              "\n",
              "    .colab-df-convert {\n",
              "      background-color: #E8F0FE;\n",
              "      border: none;\n",
              "      border-radius: 50%;\n",
              "      cursor: pointer;\n",
              "      display: none;\n",
              "      fill: #1967D2;\n",
              "      height: 32px;\n",
              "      padding: 0 0 0 0;\n",
              "      width: 32px;\n",
              "    }\n",
              "\n",
              "    .colab-df-convert:hover {\n",
              "      background-color: #E2EBFA;\n",
              "      box-shadow: 0px 1px 2px rgba(60, 64, 67, 0.3), 0px 1px 3px 1px rgba(60, 64, 67, 0.15);\n",
              "      fill: #174EA6;\n",
              "    }\n",
              "\n",
              "    [theme=dark] .colab-df-convert {\n",
              "      background-color: #3B4455;\n",
              "      fill: #D2E3FC;\n",
              "    }\n",
              "\n",
              "    [theme=dark] .colab-df-convert:hover {\n",
              "      background-color: #434B5C;\n",
              "      box-shadow: 0px 1px 3px 1px rgba(0, 0, 0, 0.15);\n",
              "      filter: drop-shadow(0px 1px 2px rgba(0, 0, 0, 0.3));\n",
              "      fill: #FFFFFF;\n",
              "    }\n",
              "  </style>\n",
              "\n",
              "      <script>\n",
              "        const buttonEl =\n",
              "          document.querySelector('#df-8a88a4a8-9689-45ce-a525-11f7c25d894b button.colab-df-convert');\n",
              "        buttonEl.style.display =\n",
              "          google.colab.kernel.accessAllowed ? 'block' : 'none';\n",
              "\n",
              "        async function convertToInteractive(key) {\n",
              "          const element = document.querySelector('#df-8a88a4a8-9689-45ce-a525-11f7c25d894b');\n",
              "          const dataTable =\n",
              "            await google.colab.kernel.invokeFunction('convertToInteractive',\n",
              "                                                     [key], {});\n",
              "          if (!dataTable) return;\n",
              "\n",
              "          const docLinkHtml = 'Like what you see? Visit the ' +\n",
              "            '<a target=\"_blank\" href=https://colab.research.google.com/notebooks/data_table.ipynb>data table notebook</a>'\n",
              "            + ' to learn more about interactive tables.';\n",
              "          element.innerHTML = '';\n",
              "          dataTable['output_type'] = 'display_data';\n",
              "          await google.colab.output.renderOutput(dataTable, element);\n",
              "          const docLink = document.createElement('div');\n",
              "          docLink.innerHTML = docLinkHtml;\n",
              "          element.appendChild(docLink);\n",
              "        }\n",
              "      </script>\n",
              "    </div>\n",
              "  </div>\n",
              "  "
            ]
          },
          "metadata": {},
          "execution_count": 7
        }
      ],
      "source": [
        "### get downregulated genes\n",
        "int = gef.loc[lambda df: df['avg_log2FC'] <= -1.5]\n",
        "down = int.loc[lambda df: df['p_val'] <= 0.05]\n",
        "down = down.drop([\"pct.1\",\t\"pct.2\", \"p_val_adj\"], axis=1)\n",
        "down\n",
        "\n",
        "### save csv file\n",
        "#down.to_csv('downregulated_cluster1_local_vs_cl6.csv', sep=';')\n",
        "#from google.colab import files\n",
        "#files.download('downregulated_cluster1_local_vs_cl6.csv')"
      ]
    },
    {
      "cell_type": "code",
      "execution_count": null,
      "metadata": {
        "colab": {
          "base_uri": "https://localhost:8080/"
        },
        "id": "nCsjMMsg91Dv",
        "outputId": "1be59765-bd4a-497f-a856-3dd0bd111443"
      },
      "outputs": [
        {
          "output_type": "execute_result",
          "data": {
            "text/plain": [
              "                    p_val  avg_log2FC\n",
              "FeatureName                          \n",
              "MMP2         9.630000e-45    1.501670\n",
              "CTHRC1       1.600000e-43    1.525021\n",
              "SPOCK1       4.780000e-43    1.538659\n",
              "S100A16      3.730000e-43    1.600911\n",
              "MEG3         1.210000e-39    1.736052\n",
              "...                   ...         ...\n",
              "SFRP2        8.700000e-21    1.967930\n",
              "DPT          7.670000e-46    2.405194\n",
              "LUM          3.870000e-47    2.410392\n",
              "DCN          1.510000e-49    2.770679\n",
              "CLU          3.920000e-45    3.263195\n",
              "\n",
              "[13 rows x 2 columns]"
            ],
            "text/html": [
              "\n",
              "  <div id=\"df-cb96c2b9-e7a7-49ac-939c-ea68b1f4c8d2\">\n",
              "    <div class=\"colab-df-container\">\n",
              "      <div>\n",
              "<style scoped>\n",
              "    .dataframe tbody tr th:only-of-type {\n",
              "        vertical-align: middle;\n",
              "    }\n",
              "\n",
              "    .dataframe tbody tr th {\n",
              "        vertical-align: top;\n",
              "    }\n",
              "\n",
              "    .dataframe thead th {\n",
              "        text-align: right;\n",
              "    }\n",
              "</style>\n",
              "<table border=\"1\" class=\"dataframe\">\n",
              "  <thead>\n",
              "    <tr style=\"text-align: right;\">\n",
              "      <th></th>\n",
              "      <th>p_val</th>\n",
              "      <th>avg_log2FC</th>\n",
              "    </tr>\n",
              "    <tr>\n",
              "      <th>FeatureName</th>\n",
              "      <th></th>\n",
              "      <th></th>\n",
              "    </tr>\n",
              "  </thead>\n",
              "  <tbody>\n",
              "    <tr>\n",
              "      <th>MMP2</th>\n",
              "      <td>9.630000e-45</td>\n",
              "      <td>1.501670</td>\n",
              "    </tr>\n",
              "    <tr>\n",
              "      <th>CTHRC1</th>\n",
              "      <td>1.600000e-43</td>\n",
              "      <td>1.525021</td>\n",
              "    </tr>\n",
              "    <tr>\n",
              "      <th>SPOCK1</th>\n",
              "      <td>4.780000e-43</td>\n",
              "      <td>1.538659</td>\n",
              "    </tr>\n",
              "    <tr>\n",
              "      <th>S100A16</th>\n",
              "      <td>3.730000e-43</td>\n",
              "      <td>1.600911</td>\n",
              "    </tr>\n",
              "    <tr>\n",
              "      <th>MEG3</th>\n",
              "      <td>1.210000e-39</td>\n",
              "      <td>1.736052</td>\n",
              "    </tr>\n",
              "    <tr>\n",
              "      <th>...</th>\n",
              "      <td>...</td>\n",
              "      <td>...</td>\n",
              "    </tr>\n",
              "    <tr>\n",
              "      <th>SFRP2</th>\n",
              "      <td>8.700000e-21</td>\n",
              "      <td>1.967930</td>\n",
              "    </tr>\n",
              "    <tr>\n",
              "      <th>DPT</th>\n",
              "      <td>7.670000e-46</td>\n",
              "      <td>2.405194</td>\n",
              "    </tr>\n",
              "    <tr>\n",
              "      <th>LUM</th>\n",
              "      <td>3.870000e-47</td>\n",
              "      <td>2.410392</td>\n",
              "    </tr>\n",
              "    <tr>\n",
              "      <th>DCN</th>\n",
              "      <td>1.510000e-49</td>\n",
              "      <td>2.770679</td>\n",
              "    </tr>\n",
              "    <tr>\n",
              "      <th>CLU</th>\n",
              "      <td>3.920000e-45</td>\n",
              "      <td>3.263195</td>\n",
              "    </tr>\n",
              "  </tbody>\n",
              "</table>\n",
              "<p>13 rows × 2 columns</p>\n",
              "</div>\n",
              "      <button class=\"colab-df-convert\" onclick=\"convertToInteractive('df-cb96c2b9-e7a7-49ac-939c-ea68b1f4c8d2')\"\n",
              "              title=\"Convert this dataframe to an interactive table.\"\n",
              "              style=\"display:none;\">\n",
              "        \n",
              "  <svg xmlns=\"http://www.w3.org/2000/svg\" height=\"24px\"viewBox=\"0 0 24 24\"\n",
              "       width=\"24px\">\n",
              "    <path d=\"M0 0h24v24H0V0z\" fill=\"none\"/>\n",
              "    <path d=\"M18.56 5.44l.94 2.06.94-2.06 2.06-.94-2.06-.94-.94-2.06-.94 2.06-2.06.94zm-11 1L8.5 8.5l.94-2.06 2.06-.94-2.06-.94L8.5 2.5l-.94 2.06-2.06.94zm10 10l.94 2.06.94-2.06 2.06-.94-2.06-.94-.94-2.06-.94 2.06-2.06.94z\"/><path d=\"M17.41 7.96l-1.37-1.37c-.4-.4-.92-.59-1.43-.59-.52 0-1.04.2-1.43.59L10.3 9.45l-7.72 7.72c-.78.78-.78 2.05 0 2.83L4 21.41c.39.39.9.59 1.41.59.51 0 1.02-.2 1.41-.59l7.78-7.78 2.81-2.81c.8-.78.8-2.07 0-2.86zM5.41 20L4 18.59l7.72-7.72 1.47 1.35L5.41 20z\"/>\n",
              "  </svg>\n",
              "      </button>\n",
              "      \n",
              "  <style>\n",
              "    .colab-df-container {\n",
              "      display:flex;\n",
              "      flex-wrap:wrap;\n",
              "      gap: 12px;\n",
              "    }\n",
              "\n",
              "    .colab-df-convert {\n",
              "      background-color: #E8F0FE;\n",
              "      border: none;\n",
              "      border-radius: 50%;\n",
              "      cursor: pointer;\n",
              "      display: none;\n",
              "      fill: #1967D2;\n",
              "      height: 32px;\n",
              "      padding: 0 0 0 0;\n",
              "      width: 32px;\n",
              "    }\n",
              "\n",
              "    .colab-df-convert:hover {\n",
              "      background-color: #E2EBFA;\n",
              "      box-shadow: 0px 1px 2px rgba(60, 64, 67, 0.3), 0px 1px 3px 1px rgba(60, 64, 67, 0.15);\n",
              "      fill: #174EA6;\n",
              "    }\n",
              "\n",
              "    [theme=dark] .colab-df-convert {\n",
              "      background-color: #3B4455;\n",
              "      fill: #D2E3FC;\n",
              "    }\n",
              "\n",
              "    [theme=dark] .colab-df-convert:hover {\n",
              "      background-color: #434B5C;\n",
              "      box-shadow: 0px 1px 3px 1px rgba(0, 0, 0, 0.15);\n",
              "      filter: drop-shadow(0px 1px 2px rgba(0, 0, 0, 0.3));\n",
              "      fill: #FFFFFF;\n",
              "    }\n",
              "  </style>\n",
              "\n",
              "      <script>\n",
              "        const buttonEl =\n",
              "          document.querySelector('#df-cb96c2b9-e7a7-49ac-939c-ea68b1f4c8d2 button.colab-df-convert');\n",
              "        buttonEl.style.display =\n",
              "          google.colab.kernel.accessAllowed ? 'block' : 'none';\n",
              "\n",
              "        async function convertToInteractive(key) {\n",
              "          const element = document.querySelector('#df-cb96c2b9-e7a7-49ac-939c-ea68b1f4c8d2');\n",
              "          const dataTable =\n",
              "            await google.colab.kernel.invokeFunction('convertToInteractive',\n",
              "                                                     [key], {});\n",
              "          if (!dataTable) return;\n",
              "\n",
              "          const docLinkHtml = 'Like what you see? Visit the ' +\n",
              "            '<a target=\"_blank\" href=https://colab.research.google.com/notebooks/data_table.ipynb>data table notebook</a>'\n",
              "            + ' to learn more about interactive tables.';\n",
              "          element.innerHTML = '';\n",
              "          dataTable['output_type'] = 'display_data';\n",
              "          await google.colab.output.renderOutput(dataTable, element);\n",
              "          const docLink = document.createElement('div');\n",
              "          docLink.innerHTML = docLinkHtml;\n",
              "          element.appendChild(docLink);\n",
              "        }\n",
              "      </script>\n",
              "    </div>\n",
              "  </div>\n",
              "  "
            ]
          },
          "metadata": {},
          "execution_count": 8
        }
      ],
      "source": [
        "### get upregulated genes\n",
        "int = gef.loc[lambda df: df['avg_log2FC'] >= 1.5]\n",
        "up = int.loc[lambda df: df['p_val'] <= 0.05]\n",
        "up = up.drop([\"pct.1\",\t\"pct.2\", \"p_val_adj\"], axis=1)\n",
        "up\n",
        "\n",
        "### save csv file\n",
        "#up.to_csv('upregulated_cluster1_local_vs_cl6.csv', sep=';')\n",
        "#from google.colab import files\n",
        "#files.download('upregulated_cluster1_local_vs_cl6.csv')"
      ]
    },
    {
      "cell_type": "markdown",
      "metadata": {
        "id": "HVMoNeLs3Xsg"
      },
      "source": [
        "#Preprocessing of Mirnet database"
      ]
    },
    {
      "cell_type": "code",
      "execution_count": null,
      "metadata": {
        "id": "SnkVWt1W9_Tn"
      },
      "outputs": [],
      "source": [
        "### upload mirnet database\n",
        "mirnet = pd.read_csv(\"/content/drive/MyDrive/Colab Notebooks/Data/mirnet.csv\")\n"
      ]
    },
    {
      "cell_type": "code",
      "execution_count": null,
      "metadata": {
        "colab": {
          "base_uri": "https://localhost:8080/"
        },
        "id": "tMnyzKEfnxjQ",
        "outputId": "a4b36241-173c-4cb8-f14d-7118f4c31c7b"
      },
      "outputs": [
        {
          "output_type": "execute_result",
          "data": {
            "text/plain": [
              "         mirnet         mir_id       mir_acc  symbol             embl  entrez  \\\n",
              "0  mirnet-hsa-1  hsa-let-7a-5p  MIMAT0000062   ACTA1  ENSG00000143632      58   \n",
              "1  mirnet-hsa-2  hsa-let-7a-5p  MIMAT0000062    ACTB  ENSG00000075624      60   \n",
              "2  mirnet-hsa-3  hsa-let-7a-5p  MIMAT0000062  ACVR1B  ENSG00000135503      91   \n",
              "3  mirnet-hsa-4  hsa-let-7a-5p  MIMAT0000062    ADH5  ENSG00000197894     128   \n",
              "4  mirnet-hsa-5  hsa-let-7a-5p  MIMAT0000062   PARP1  ENSG00000143799     142   \n",
              "\n",
              "                                         experiment  \\\n",
              "0                                          PAR-CLIP   \n",
              "1                                             CLASH   \n",
              "2                                             CLASH   \n",
              "3                               HITS-CLIP//PAR-CLIP   \n",
              "4  Luciferase reporter assay//qRT-PCR//Western blot   \n",
              "\n",
              "                         pmid  \n",
              "0                    21572407  \n",
              "1                    23622248  \n",
              "2                    23622248  \n",
              "3  23313552|26701625|27292025  \n",
              "4                    28031413  "
            ],
            "text/html": [
              "\n",
              "  <div id=\"df-8dfddc72-550f-4261-8696-b95332bfa6bb\">\n",
              "    <div class=\"colab-df-container\">\n",
              "      <div>\n",
              "<style scoped>\n",
              "    .dataframe tbody tr th:only-of-type {\n",
              "        vertical-align: middle;\n",
              "    }\n",
              "\n",
              "    .dataframe tbody tr th {\n",
              "        vertical-align: top;\n",
              "    }\n",
              "\n",
              "    .dataframe thead th {\n",
              "        text-align: right;\n",
              "    }\n",
              "</style>\n",
              "<table border=\"1\" class=\"dataframe\">\n",
              "  <thead>\n",
              "    <tr style=\"text-align: right;\">\n",
              "      <th></th>\n",
              "      <th>mirnet</th>\n",
              "      <th>mir_id</th>\n",
              "      <th>mir_acc</th>\n",
              "      <th>symbol</th>\n",
              "      <th>embl</th>\n",
              "      <th>entrez</th>\n",
              "      <th>experiment</th>\n",
              "      <th>pmid</th>\n",
              "    </tr>\n",
              "  </thead>\n",
              "  <tbody>\n",
              "    <tr>\n",
              "      <th>0</th>\n",
              "      <td>mirnet-hsa-1</td>\n",
              "      <td>hsa-let-7a-5p</td>\n",
              "      <td>MIMAT0000062</td>\n",
              "      <td>ACTA1</td>\n",
              "      <td>ENSG00000143632</td>\n",
              "      <td>58</td>\n",
              "      <td>PAR-CLIP</td>\n",
              "      <td>21572407</td>\n",
              "    </tr>\n",
              "    <tr>\n",
              "      <th>1</th>\n",
              "      <td>mirnet-hsa-2</td>\n",
              "      <td>hsa-let-7a-5p</td>\n",
              "      <td>MIMAT0000062</td>\n",
              "      <td>ACTB</td>\n",
              "      <td>ENSG00000075624</td>\n",
              "      <td>60</td>\n",
              "      <td>CLASH</td>\n",
              "      <td>23622248</td>\n",
              "    </tr>\n",
              "    <tr>\n",
              "      <th>2</th>\n",
              "      <td>mirnet-hsa-3</td>\n",
              "      <td>hsa-let-7a-5p</td>\n",
              "      <td>MIMAT0000062</td>\n",
              "      <td>ACVR1B</td>\n",
              "      <td>ENSG00000135503</td>\n",
              "      <td>91</td>\n",
              "      <td>CLASH</td>\n",
              "      <td>23622248</td>\n",
              "    </tr>\n",
              "    <tr>\n",
              "      <th>3</th>\n",
              "      <td>mirnet-hsa-4</td>\n",
              "      <td>hsa-let-7a-5p</td>\n",
              "      <td>MIMAT0000062</td>\n",
              "      <td>ADH5</td>\n",
              "      <td>ENSG00000197894</td>\n",
              "      <td>128</td>\n",
              "      <td>HITS-CLIP//PAR-CLIP</td>\n",
              "      <td>23313552|26701625|27292025</td>\n",
              "    </tr>\n",
              "    <tr>\n",
              "      <th>4</th>\n",
              "      <td>mirnet-hsa-5</td>\n",
              "      <td>hsa-let-7a-5p</td>\n",
              "      <td>MIMAT0000062</td>\n",
              "      <td>PARP1</td>\n",
              "      <td>ENSG00000143799</td>\n",
              "      <td>142</td>\n",
              "      <td>Luciferase reporter assay//qRT-PCR//Western blot</td>\n",
              "      <td>28031413</td>\n",
              "    </tr>\n",
              "  </tbody>\n",
              "</table>\n",
              "</div>\n",
              "      <button class=\"colab-df-convert\" onclick=\"convertToInteractive('df-8dfddc72-550f-4261-8696-b95332bfa6bb')\"\n",
              "              title=\"Convert this dataframe to an interactive table.\"\n",
              "              style=\"display:none;\">\n",
              "        \n",
              "  <svg xmlns=\"http://www.w3.org/2000/svg\" height=\"24px\"viewBox=\"0 0 24 24\"\n",
              "       width=\"24px\">\n",
              "    <path d=\"M0 0h24v24H0V0z\" fill=\"none\"/>\n",
              "    <path d=\"M18.56 5.44l.94 2.06.94-2.06 2.06-.94-2.06-.94-.94-2.06-.94 2.06-2.06.94zm-11 1L8.5 8.5l.94-2.06 2.06-.94-2.06-.94L8.5 2.5l-.94 2.06-2.06.94zm10 10l.94 2.06.94-2.06 2.06-.94-2.06-.94-.94-2.06-.94 2.06-2.06.94z\"/><path d=\"M17.41 7.96l-1.37-1.37c-.4-.4-.92-.59-1.43-.59-.52 0-1.04.2-1.43.59L10.3 9.45l-7.72 7.72c-.78.78-.78 2.05 0 2.83L4 21.41c.39.39.9.59 1.41.59.51 0 1.02-.2 1.41-.59l7.78-7.78 2.81-2.81c.8-.78.8-2.07 0-2.86zM5.41 20L4 18.59l7.72-7.72 1.47 1.35L5.41 20z\"/>\n",
              "  </svg>\n",
              "      </button>\n",
              "      \n",
              "  <style>\n",
              "    .colab-df-container {\n",
              "      display:flex;\n",
              "      flex-wrap:wrap;\n",
              "      gap: 12px;\n",
              "    }\n",
              "\n",
              "    .colab-df-convert {\n",
              "      background-color: #E8F0FE;\n",
              "      border: none;\n",
              "      border-radius: 50%;\n",
              "      cursor: pointer;\n",
              "      display: none;\n",
              "      fill: #1967D2;\n",
              "      height: 32px;\n",
              "      padding: 0 0 0 0;\n",
              "      width: 32px;\n",
              "    }\n",
              "\n",
              "    .colab-df-convert:hover {\n",
              "      background-color: #E2EBFA;\n",
              "      box-shadow: 0px 1px 2px rgba(60, 64, 67, 0.3), 0px 1px 3px 1px rgba(60, 64, 67, 0.15);\n",
              "      fill: #174EA6;\n",
              "    }\n",
              "\n",
              "    [theme=dark] .colab-df-convert {\n",
              "      background-color: #3B4455;\n",
              "      fill: #D2E3FC;\n",
              "    }\n",
              "\n",
              "    [theme=dark] .colab-df-convert:hover {\n",
              "      background-color: #434B5C;\n",
              "      box-shadow: 0px 1px 3px 1px rgba(0, 0, 0, 0.15);\n",
              "      filter: drop-shadow(0px 1px 2px rgba(0, 0, 0, 0.3));\n",
              "      fill: #FFFFFF;\n",
              "    }\n",
              "  </style>\n",
              "\n",
              "      <script>\n",
              "        const buttonEl =\n",
              "          document.querySelector('#df-8dfddc72-550f-4261-8696-b95332bfa6bb button.colab-df-convert');\n",
              "        buttonEl.style.display =\n",
              "          google.colab.kernel.accessAllowed ? 'block' : 'none';\n",
              "\n",
              "        async function convertToInteractive(key) {\n",
              "          const element = document.querySelector('#df-8dfddc72-550f-4261-8696-b95332bfa6bb');\n",
              "          const dataTable =\n",
              "            await google.colab.kernel.invokeFunction('convertToInteractive',\n",
              "                                                     [key], {});\n",
              "          if (!dataTable) return;\n",
              "\n",
              "          const docLinkHtml = 'Like what you see? Visit the ' +\n",
              "            '<a target=\"_blank\" href=https://colab.research.google.com/notebooks/data_table.ipynb>data table notebook</a>'\n",
              "            + ' to learn more about interactive tables.';\n",
              "          element.innerHTML = '';\n",
              "          dataTable['output_type'] = 'display_data';\n",
              "          await google.colab.output.renderOutput(dataTable, element);\n",
              "          const docLink = document.createElement('div');\n",
              "          docLink.innerHTML = docLinkHtml;\n",
              "          element.appendChild(docLink);\n",
              "        }\n",
              "      </script>\n",
              "    </div>\n",
              "  </div>\n",
              "  "
            ]
          },
          "metadata": {},
          "execution_count": 10
        }
      ],
      "source": [
        "mirnet[0:5]"
      ]
    },
    {
      "cell_type": "code",
      "execution_count": null,
      "metadata": {
        "id": "nV4PKmtcEAmm"
      },
      "outputs": [],
      "source": [
        "### mirnet db to search for micrornas against genes in question\n",
        "gmirnet = mirnet.set_index(\"symbol\")\n",
        "gmirnet[0:5]\n",
        "gmirind = list(gmirnet.index)"
      ]
    },
    {
      "cell_type": "code",
      "execution_count": null,
      "metadata": {
        "id": "K6XRfkqFGlfn"
      },
      "outputs": [],
      "source": [
        "### mirnet db to search for target genes of mirnas in question\n",
        "mmirnet = mirnet.set_index(\"mir_id\")\n",
        "mmirnet[0:5]\n",
        "mmirind = list(mmirnet.index)"
      ]
    },
    {
      "cell_type": "markdown",
      "metadata": {
        "id": "yTuKZkidAzvc"
      },
      "source": [
        "# No enrichment"
      ]
    },
    {
      "cell_type": "markdown",
      "metadata": {
        "id": "5AJc6sWScadN"
      },
      "source": [
        "## Downregulated genes"
      ]
    },
    {
      "cell_type": "code",
      "execution_count": null,
      "metadata": {
        "id": "4mYbcR0U1oAE"
      },
      "outputs": [],
      "source": [
        ""
      ]
    },
    {
      "cell_type": "code",
      "execution_count": null,
      "metadata": {
        "colab": {
          "base_uri": "https://localhost:8080/"
        },
        "id": "C0qRxFgP-5dp",
        "outputId": "011d8661-a508-4f37-b292-e50e07de3364"
      },
      "outputs": [
        {
          "output_type": "execute_result",
          "data": {
            "text/plain": [
              "467"
            ]
          },
          "metadata": {},
          "execution_count": 13
        }
      ],
      "source": [
        "### search for mirnas against downregulated genes\n",
        "dgenes = list(down.index)\n",
        "dmir = []\n",
        "for i in dgenes:\n",
        "    if i not in gmirind:\n",
        "      next\n",
        "    else:\n",
        "      a = list(gmirnet.loc[i, \"mir_id\"])\n",
        "      dmir = dmir + a\n",
        "\n",
        "dmir = set(dmir)\n",
        "dmir = list(dmir)\n",
        "len(dmir)"
      ]
    },
    {
      "cell_type": "code",
      "execution_count": null,
      "metadata": {
        "id": "fcMl-fHE_OYP"
      },
      "outputs": [],
      "source": [
        "### get all targets of mirnas against downregulated genes\n",
        "dtargets = {}\n",
        "for i in dmir:\n",
        "    if i not in mmirind:\n",
        "      next\n",
        "    else:\n",
        "      a = list(mmirnet.loc[i, \"symbol\"])\n",
        "      dtargets[i] = a\n",
        "dtg = pd.Series(dtargets).to_frame('all targets')"
      ]
    },
    {
      "cell_type": "code",
      "execution_count": null,
      "metadata": {
        "colab": {
          "base_uri": "https://localhost:8080/"
        },
        "id": "sOgUdAopGboy",
        "outputId": "278f9199-52d0-48f2-ce63-7365c2bb0063"
      },
      "outputs": [
        {
          "output_type": "execute_result",
          "data": {
            "text/plain": [
              "                                                       all targets  \\\n",
              "hsa-mir-6820-5p  [NKX2-5, GFRA1, HCFC1, HOXD3, IFNAR1, MCM5, NF...   \n",
              "hsa-mir-136-3p   [POLR3D, CANX, DVL3, G6PC, GABRA4, GTF2F1, HNR...   \n",
              "hsa-mir-497-5p   [ABL2, ACVR2A, ADORA3, ADRA2B, AP2B1, ALDH3B1,...   \n",
              "hsa-mir-6784-5p  [CD4, AP2S1, HPCAL1, NAB2, NARS, NEUROD2, PPIB...   \n",
              "hsa-mir-663a     [ABL1, APC, RHOB, ARHGDIA, CALR, CDK1, CDH7, C...   \n",
              "...                                                            ...   \n",
              "hsa-mir-758-3p   [COL4A1, EIF2S3, HMGA1, CAPRIN1, MDM2, RORA, A...   \n",
              "hsa-mir-455-5p   [APLP2, TRIM23, RHOH, RUNX1T1, CD36, CDKN1B, C...   \n",
              "hsa-mir-214-3p   [ADRA2B, AP2B1, JAG1, BIRC5, ABCC6, ARL2, ATF4...   \n",
              "hsa-mir-142-3p   [ACACA, AGTR2, AK4, ALAD, APC, XIAP, ARF4, ARN...   \n",
              "hsa-mir-26b-5p   [NAT1, ABCA1, ABCF1, ACADM, ACADS, ACADSB, ACV...   \n",
              "\n",
              "                                      downregulated  \\\n",
              "hsa-mir-6820-5p                            [C9orf3]   \n",
              "hsa-mir-136-3p                               [MYLK]   \n",
              "hsa-mir-497-5p                              [CRIM1]   \n",
              "hsa-mir-6784-5p                          [PPP1R14A]   \n",
              "hsa-mir-663a                                 [MYL9]   \n",
              "...                                             ...   \n",
              "hsa-mir-758-3p                             [COL4A1]   \n",
              "hsa-mir-455-5p                               [CD36]   \n",
              "hsa-mir-214-3p                             [C9orf3]   \n",
              "hsa-mir-142-3p                              [CSRP2]   \n",
              "hsa-mir-26b-5p   [CAV1, CD36, COL4A2, TAGLN, CRIM1]   \n",
              "\n",
              "                 percent of downregulated among all, %  \n",
              "hsa-mir-6820-5p                               2.380952  \n",
              "hsa-mir-136-3p                                2.083333  \n",
              "hsa-mir-497-5p                                0.216920  \n",
              "hsa-mir-6784-5p                               2.439024  \n",
              "hsa-mir-663a                                  0.694444  \n",
              "...                                                ...  \n",
              "hsa-mir-758-3p                                1.724138  \n",
              "hsa-mir-455-5p                                1.010101  \n",
              "hsa-mir-214-3p                                0.485437  \n",
              "hsa-mir-142-3p                                0.257069  \n",
              "hsa-mir-26b-5p                                0.266809  \n",
              "\n",
              "[447 rows x 3 columns]"
            ],
            "text/html": [
              "\n",
              "  <div id=\"df-2a9db983-ac63-4c09-a829-58412a0c1f76\">\n",
              "    <div class=\"colab-df-container\">\n",
              "      <div>\n",
              "<style scoped>\n",
              "    .dataframe tbody tr th:only-of-type {\n",
              "        vertical-align: middle;\n",
              "    }\n",
              "\n",
              "    .dataframe tbody tr th {\n",
              "        vertical-align: top;\n",
              "    }\n",
              "\n",
              "    .dataframe thead th {\n",
              "        text-align: right;\n",
              "    }\n",
              "</style>\n",
              "<table border=\"1\" class=\"dataframe\">\n",
              "  <thead>\n",
              "    <tr style=\"text-align: right;\">\n",
              "      <th></th>\n",
              "      <th>all targets</th>\n",
              "      <th>downregulated</th>\n",
              "      <th>percent of downregulated among all, %</th>\n",
              "    </tr>\n",
              "  </thead>\n",
              "  <tbody>\n",
              "    <tr>\n",
              "      <th>hsa-mir-6820-5p</th>\n",
              "      <td>[NKX2-5, GFRA1, HCFC1, HOXD3, IFNAR1, MCM5, NF...</td>\n",
              "      <td>[C9orf3]</td>\n",
              "      <td>2.380952</td>\n",
              "    </tr>\n",
              "    <tr>\n",
              "      <th>hsa-mir-136-3p</th>\n",
              "      <td>[POLR3D, CANX, DVL3, G6PC, GABRA4, GTF2F1, HNR...</td>\n",
              "      <td>[MYLK]</td>\n",
              "      <td>2.083333</td>\n",
              "    </tr>\n",
              "    <tr>\n",
              "      <th>hsa-mir-497-5p</th>\n",
              "      <td>[ABL2, ACVR2A, ADORA3, ADRA2B, AP2B1, ALDH3B1,...</td>\n",
              "      <td>[CRIM1]</td>\n",
              "      <td>0.216920</td>\n",
              "    </tr>\n",
              "    <tr>\n",
              "      <th>hsa-mir-6784-5p</th>\n",
              "      <td>[CD4, AP2S1, HPCAL1, NAB2, NARS, NEUROD2, PPIB...</td>\n",
              "      <td>[PPP1R14A]</td>\n",
              "      <td>2.439024</td>\n",
              "    </tr>\n",
              "    <tr>\n",
              "      <th>hsa-mir-663a</th>\n",
              "      <td>[ABL1, APC, RHOB, ARHGDIA, CALR, CDK1, CDH7, C...</td>\n",
              "      <td>[MYL9]</td>\n",
              "      <td>0.694444</td>\n",
              "    </tr>\n",
              "    <tr>\n",
              "      <th>...</th>\n",
              "      <td>...</td>\n",
              "      <td>...</td>\n",
              "      <td>...</td>\n",
              "    </tr>\n",
              "    <tr>\n",
              "      <th>hsa-mir-758-3p</th>\n",
              "      <td>[COL4A1, EIF2S3, HMGA1, CAPRIN1, MDM2, RORA, A...</td>\n",
              "      <td>[COL4A1]</td>\n",
              "      <td>1.724138</td>\n",
              "    </tr>\n",
              "    <tr>\n",
              "      <th>hsa-mir-455-5p</th>\n",
              "      <td>[APLP2, TRIM23, RHOH, RUNX1T1, CD36, CDKN1B, C...</td>\n",
              "      <td>[CD36]</td>\n",
              "      <td>1.010101</td>\n",
              "    </tr>\n",
              "    <tr>\n",
              "      <th>hsa-mir-214-3p</th>\n",
              "      <td>[ADRA2B, AP2B1, JAG1, BIRC5, ABCC6, ARL2, ATF4...</td>\n",
              "      <td>[C9orf3]</td>\n",
              "      <td>0.485437</td>\n",
              "    </tr>\n",
              "    <tr>\n",
              "      <th>hsa-mir-142-3p</th>\n",
              "      <td>[ACACA, AGTR2, AK4, ALAD, APC, XIAP, ARF4, ARN...</td>\n",
              "      <td>[CSRP2]</td>\n",
              "      <td>0.257069</td>\n",
              "    </tr>\n",
              "    <tr>\n",
              "      <th>hsa-mir-26b-5p</th>\n",
              "      <td>[NAT1, ABCA1, ABCF1, ACADM, ACADS, ACADSB, ACV...</td>\n",
              "      <td>[CAV1, CD36, COL4A2, TAGLN, CRIM1]</td>\n",
              "      <td>0.266809</td>\n",
              "    </tr>\n",
              "  </tbody>\n",
              "</table>\n",
              "<p>447 rows × 3 columns</p>\n",
              "</div>\n",
              "      <button class=\"colab-df-convert\" onclick=\"convertToInteractive('df-2a9db983-ac63-4c09-a829-58412a0c1f76')\"\n",
              "              title=\"Convert this dataframe to an interactive table.\"\n",
              "              style=\"display:none;\">\n",
              "        \n",
              "  <svg xmlns=\"http://www.w3.org/2000/svg\" height=\"24px\"viewBox=\"0 0 24 24\"\n",
              "       width=\"24px\">\n",
              "    <path d=\"M0 0h24v24H0V0z\" fill=\"none\"/>\n",
              "    <path d=\"M18.56 5.44l.94 2.06.94-2.06 2.06-.94-2.06-.94-.94-2.06-.94 2.06-2.06.94zm-11 1L8.5 8.5l.94-2.06 2.06-.94-2.06-.94L8.5 2.5l-.94 2.06-2.06.94zm10 10l.94 2.06.94-2.06 2.06-.94-2.06-.94-.94-2.06-.94 2.06-2.06.94z\"/><path d=\"M17.41 7.96l-1.37-1.37c-.4-.4-.92-.59-1.43-.59-.52 0-1.04.2-1.43.59L10.3 9.45l-7.72 7.72c-.78.78-.78 2.05 0 2.83L4 21.41c.39.39.9.59 1.41.59.51 0 1.02-.2 1.41-.59l7.78-7.78 2.81-2.81c.8-.78.8-2.07 0-2.86zM5.41 20L4 18.59l7.72-7.72 1.47 1.35L5.41 20z\"/>\n",
              "  </svg>\n",
              "      </button>\n",
              "      \n",
              "  <style>\n",
              "    .colab-df-container {\n",
              "      display:flex;\n",
              "      flex-wrap:wrap;\n",
              "      gap: 12px;\n",
              "    }\n",
              "\n",
              "    .colab-df-convert {\n",
              "      background-color: #E8F0FE;\n",
              "      border: none;\n",
              "      border-radius: 50%;\n",
              "      cursor: pointer;\n",
              "      display: none;\n",
              "      fill: #1967D2;\n",
              "      height: 32px;\n",
              "      padding: 0 0 0 0;\n",
              "      width: 32px;\n",
              "    }\n",
              "\n",
              "    .colab-df-convert:hover {\n",
              "      background-color: #E2EBFA;\n",
              "      box-shadow: 0px 1px 2px rgba(60, 64, 67, 0.3), 0px 1px 3px 1px rgba(60, 64, 67, 0.15);\n",
              "      fill: #174EA6;\n",
              "    }\n",
              "\n",
              "    [theme=dark] .colab-df-convert {\n",
              "      background-color: #3B4455;\n",
              "      fill: #D2E3FC;\n",
              "    }\n",
              "\n",
              "    [theme=dark] .colab-df-convert:hover {\n",
              "      background-color: #434B5C;\n",
              "      box-shadow: 0px 1px 3px 1px rgba(0, 0, 0, 0.15);\n",
              "      filter: drop-shadow(0px 1px 2px rgba(0, 0, 0, 0.3));\n",
              "      fill: #FFFFFF;\n",
              "    }\n",
              "  </style>\n",
              "\n",
              "      <script>\n",
              "        const buttonEl =\n",
              "          document.querySelector('#df-2a9db983-ac63-4c09-a829-58412a0c1f76 button.colab-df-convert');\n",
              "        buttonEl.style.display =\n",
              "          google.colab.kernel.accessAllowed ? 'block' : 'none';\n",
              "\n",
              "        async function convertToInteractive(key) {\n",
              "          const element = document.querySelector('#df-2a9db983-ac63-4c09-a829-58412a0c1f76');\n",
              "          const dataTable =\n",
              "            await google.colab.kernel.invokeFunction('convertToInteractive',\n",
              "                                                     [key], {});\n",
              "          if (!dataTable) return;\n",
              "\n",
              "          const docLinkHtml = 'Like what you see? Visit the ' +\n",
              "            '<a target=\"_blank\" href=https://colab.research.google.com/notebooks/data_table.ipynb>data table notebook</a>'\n",
              "            + ' to learn more about interactive tables.';\n",
              "          element.innerHTML = '';\n",
              "          dataTable['output_type'] = 'display_data';\n",
              "          await google.colab.output.renderOutput(dataTable, element);\n",
              "          const docLink = document.createElement('div');\n",
              "          docLink.innerHTML = docLinkHtml;\n",
              "          element.appendChild(docLink);\n",
              "        }\n",
              "      </script>\n",
              "    </div>\n",
              "  </div>\n",
              "  "
            ]
          },
          "metadata": {},
          "execution_count": 15
        }
      ],
      "source": [
        "### count downregulated genes among all targets of a particular microrna\n",
        "dtgind = list(dtg.index)\n",
        "dpercent = {}\n",
        "dcross = {}\n",
        "for i in dtgind:\n",
        "  allgenes = list(dtg.loc[i])[0]\n",
        "  cross = [x for x in allgenes if x in dgenes]\n",
        "  dcross[i] = cross\n",
        "  percent = (len(cross)/len(allgenes)) * 100\n",
        "  dpercent[i] = percent\n",
        "\n",
        "dprc = pd.Series(dpercent).to_frame('percent of downregulated among all, %')\n",
        "dcr = pd.Series(dcross).to_frame('downregulated')\n",
        "dfinal = pd.concat([dtg, dcr, dprc], axis=1)\n",
        "dfinal"
      ]
    },
    {
      "cell_type": "code",
      "execution_count": null,
      "metadata": {
        "colab": {
          "base_uri": "https://localhost:8080/"
        },
        "id": "r3Eo5mZbZ0FY",
        "outputId": "2ec5a3b2-e621-44c3-9607-b34bdf0d93f9"
      },
      "outputs": [
        {
          "output_type": "display_data",
          "data": {
            "text/plain": [
              "<IPython.core.display.Javascript object>"
            ],
            "application/javascript": [
              "\n",
              "    async function download(id, filename, size) {\n",
              "      if (!google.colab.kernel.accessAllowed) {\n",
              "        return;\n",
              "      }\n",
              "      const div = document.createElement('div');\n",
              "      const label = document.createElement('label');\n",
              "      label.textContent = `Downloading \"${filename}\": `;\n",
              "      div.appendChild(label);\n",
              "      const progress = document.createElement('progress');\n",
              "      progress.max = size;\n",
              "      div.appendChild(progress);\n",
              "      document.body.appendChild(div);\n",
              "\n",
              "      const buffers = [];\n",
              "      let downloaded = 0;\n",
              "\n",
              "      const channel = await google.colab.kernel.comms.open(id);\n",
              "      // Send a message to notify the kernel that we're ready.\n",
              "      channel.send({})\n",
              "\n",
              "      for await (const message of channel.messages) {\n",
              "        // Send a message to notify the kernel that we're ready.\n",
              "        channel.send({})\n",
              "        if (message.buffers) {\n",
              "          for (const buffer of message.buffers) {\n",
              "            buffers.push(buffer);\n",
              "            downloaded += buffer.byteLength;\n",
              "            progress.value = downloaded;\n",
              "          }\n",
              "        }\n",
              "      }\n",
              "      const blob = new Blob(buffers, {type: 'application/binary'});\n",
              "      const a = document.createElement('a');\n",
              "      a.href = window.URL.createObjectURL(blob);\n",
              "      a.download = filename;\n",
              "      div.appendChild(a);\n",
              "      a.click();\n",
              "      div.remove();\n",
              "    }\n",
              "  "
            ]
          },
          "metadata": {}
        },
        {
          "output_type": "display_data",
          "data": {
            "text/plain": [
              "<IPython.core.display.Javascript object>"
            ],
            "application/javascript": [
              "download(\"download_e06605f9-8d09-4ff1-863d-b63ffca769a3\", \"downregulated_no_enrichment.csv\", 1124080)"
            ]
          },
          "metadata": {}
        }
      ],
      "source": [
        "### save to csv file\n",
        "dfinal.to_csv('downregulated_no_enrichment.csv', sep=';')\n",
        "from google.colab import files\n",
        "files.download('downregulated_no_enrichment.csv')"
      ]
    },
    {
      "cell_type": "markdown",
      "metadata": {
        "id": "zAHG79Uycgwz"
      },
      "source": [
        "## Upregulated genes"
      ]
    },
    {
      "cell_type": "code",
      "execution_count": null,
      "metadata": {
        "colab": {
          "base_uri": "https://localhost:8080/"
        },
        "id": "a78txujCcj-b",
        "outputId": "9de93544-964e-4ae0-eba6-88e88b9b1038"
      },
      "outputs": [
        {
          "output_type": "execute_result",
          "data": {
            "text/plain": [
              "262"
            ]
          },
          "metadata": {},
          "execution_count": 17
        }
      ],
      "source": [
        "### search for mirnas against upregulated genes\n",
        "ugenes = list(up.index)\n",
        "umir = []\n",
        "for i in ugenes:\n",
        "    if i not in gmirind:\n",
        "      next\n",
        "    else:\n",
        "      a = list(gmirnet.loc[i, \"mir_id\"])\n",
        "      umir = umir + a\n",
        "\n",
        "umir = set(umir)\n",
        "umir = list(umir)\n",
        "len(umir)"
      ]
    },
    {
      "cell_type": "code",
      "execution_count": null,
      "metadata": {
        "id": "4kK76BstfCO1"
      },
      "outputs": [],
      "source": [
        "### get all targets of mirnas against upregulated genes\n",
        "utargets = {}\n",
        "for i in umir:\n",
        "    if i not in mmirind:\n",
        "      next\n",
        "    else:\n",
        "      a = list(mmirnet.loc[i, \"symbol\"])\n",
        "      utargets[i] = a\n",
        "utg = pd.Series(utargets).to_frame('all targets')"
      ]
    },
    {
      "cell_type": "code",
      "execution_count": null,
      "metadata": {
        "colab": {
          "base_uri": "https://localhost:8080/"
        },
        "id": "eBiloXvOfNVk",
        "outputId": "16f78261-c409-40f4-a3b8-d577c6398a70"
      },
      "outputs": [
        {
          "output_type": "execute_result",
          "data": {
            "text/plain": [
              "                                                       all targets  \\\n",
              "hsa-mir-452-5p   [ADORA2B, ATP5G3, BMI1, BMPR2, CDK6, CDKN1B, C...   \n",
              "hsa-mir-6130     [ACTC1, ADD2, AK2, ARF3, ATP2A3, ATP6V1A, ATP6...   \n",
              "hsa-mir-6873-5p  [AK2, AMD1, ATP6V1A, CCND1, BCL2L1, DDR1, CALM...   \n",
              "hsa-mir-130b-3p  [ACVR1, ADAR, ADARB1, ADARB2, PARP1, AHR, ABCD...   \n",
              "hsa-mir-133a-3p  [ALDOC, ANXA2, BCL2L1, BCL3, HCN2, CACNA1C, CA...   \n",
              "...                                                            ...   \n",
              "hsa-mir-6758-5p  [ACACA, ADD2, ARHGAP1, BACH1, BCL2L1, BCL7A, B...   \n",
              "hsa-mir-1-3p     [ABCB7, ACADVL, ACP2, ACTA1, ACTB, ACTC1, ACTN...   \n",
              "hsa-mir-26b-5p   [NAT1, ABCA1, ABCF1, ACADM, ACADS, ACADSB, ACV...   \n",
              "hsa-mir-507      [ACTB, XIAP, ARHGAP1, ZFHX3, AZF1, BACH1, BCL7...   \n",
              "hsa-mir-519d-3p  [ABCA1, ACADSB, ACOX1, ACVR1B, ADAR, ADD1, GRK...   \n",
              "\n",
              "                      upregulated  percent of upregulated among all, %  \n",
              "hsa-mir-452-5p             [MMP2]                             1.333333  \n",
              "hsa-mir-6130            [S100A16]                             0.332226  \n",
              "hsa-mir-6873-5p           [HMOX1]                             0.485437  \n",
              "hsa-mir-130b-3p            [MMP2]                             0.175131  \n",
              "hsa-mir-133a-3p            [MEG3]                             0.763359  \n",
              "...                           ...                                  ...  \n",
              "hsa-mir-6758-5p           [HMOX1]                             0.386100  \n",
              "hsa-mir-1-3p     [HMOX1, S100A16]                             0.217155  \n",
              "hsa-mir-26b-5p     [HMOX1, TIMP1]                             0.106724  \n",
              "hsa-mir-507                [VCAN]                             0.531915  \n",
              "hsa-mir-519d-3p            [MMP2]                             0.110375  \n",
              "\n",
              "[249 rows x 3 columns]"
            ],
            "text/html": [
              "\n",
              "  <div id=\"df-9c028662-7bb1-416f-b2d7-2eed48aab044\">\n",
              "    <div class=\"colab-df-container\">\n",
              "      <div>\n",
              "<style scoped>\n",
              "    .dataframe tbody tr th:only-of-type {\n",
              "        vertical-align: middle;\n",
              "    }\n",
              "\n",
              "    .dataframe tbody tr th {\n",
              "        vertical-align: top;\n",
              "    }\n",
              "\n",
              "    .dataframe thead th {\n",
              "        text-align: right;\n",
              "    }\n",
              "</style>\n",
              "<table border=\"1\" class=\"dataframe\">\n",
              "  <thead>\n",
              "    <tr style=\"text-align: right;\">\n",
              "      <th></th>\n",
              "      <th>all targets</th>\n",
              "      <th>upregulated</th>\n",
              "      <th>percent of upregulated among all, %</th>\n",
              "    </tr>\n",
              "  </thead>\n",
              "  <tbody>\n",
              "    <tr>\n",
              "      <th>hsa-mir-452-5p</th>\n",
              "      <td>[ADORA2B, ATP5G3, BMI1, BMPR2, CDK6, CDKN1B, C...</td>\n",
              "      <td>[MMP2]</td>\n",
              "      <td>1.333333</td>\n",
              "    </tr>\n",
              "    <tr>\n",
              "      <th>hsa-mir-6130</th>\n",
              "      <td>[ACTC1, ADD2, AK2, ARF3, ATP2A3, ATP6V1A, ATP6...</td>\n",
              "      <td>[S100A16]</td>\n",
              "      <td>0.332226</td>\n",
              "    </tr>\n",
              "    <tr>\n",
              "      <th>hsa-mir-6873-5p</th>\n",
              "      <td>[AK2, AMD1, ATP6V1A, CCND1, BCL2L1, DDR1, CALM...</td>\n",
              "      <td>[HMOX1]</td>\n",
              "      <td>0.485437</td>\n",
              "    </tr>\n",
              "    <tr>\n",
              "      <th>hsa-mir-130b-3p</th>\n",
              "      <td>[ACVR1, ADAR, ADARB1, ADARB2, PARP1, AHR, ABCD...</td>\n",
              "      <td>[MMP2]</td>\n",
              "      <td>0.175131</td>\n",
              "    </tr>\n",
              "    <tr>\n",
              "      <th>hsa-mir-133a-3p</th>\n",
              "      <td>[ALDOC, ANXA2, BCL2L1, BCL3, HCN2, CACNA1C, CA...</td>\n",
              "      <td>[MEG3]</td>\n",
              "      <td>0.763359</td>\n",
              "    </tr>\n",
              "    <tr>\n",
              "      <th>...</th>\n",
              "      <td>...</td>\n",
              "      <td>...</td>\n",
              "      <td>...</td>\n",
              "    </tr>\n",
              "    <tr>\n",
              "      <th>hsa-mir-6758-5p</th>\n",
              "      <td>[ACACA, ADD2, ARHGAP1, BACH1, BCL2L1, BCL7A, B...</td>\n",
              "      <td>[HMOX1]</td>\n",
              "      <td>0.386100</td>\n",
              "    </tr>\n",
              "    <tr>\n",
              "      <th>hsa-mir-1-3p</th>\n",
              "      <td>[ABCB7, ACADVL, ACP2, ACTA1, ACTB, ACTC1, ACTN...</td>\n",
              "      <td>[HMOX1, S100A16]</td>\n",
              "      <td>0.217155</td>\n",
              "    </tr>\n",
              "    <tr>\n",
              "      <th>hsa-mir-26b-5p</th>\n",
              "      <td>[NAT1, ABCA1, ABCF1, ACADM, ACADS, ACADSB, ACV...</td>\n",
              "      <td>[HMOX1, TIMP1]</td>\n",
              "      <td>0.106724</td>\n",
              "    </tr>\n",
              "    <tr>\n",
              "      <th>hsa-mir-507</th>\n",
              "      <td>[ACTB, XIAP, ARHGAP1, ZFHX3, AZF1, BACH1, BCL7...</td>\n",
              "      <td>[VCAN]</td>\n",
              "      <td>0.531915</td>\n",
              "    </tr>\n",
              "    <tr>\n",
              "      <th>hsa-mir-519d-3p</th>\n",
              "      <td>[ABCA1, ACADSB, ACOX1, ACVR1B, ADAR, ADD1, GRK...</td>\n",
              "      <td>[MMP2]</td>\n",
              "      <td>0.110375</td>\n",
              "    </tr>\n",
              "  </tbody>\n",
              "</table>\n",
              "<p>249 rows × 3 columns</p>\n",
              "</div>\n",
              "      <button class=\"colab-df-convert\" onclick=\"convertToInteractive('df-9c028662-7bb1-416f-b2d7-2eed48aab044')\"\n",
              "              title=\"Convert this dataframe to an interactive table.\"\n",
              "              style=\"display:none;\">\n",
              "        \n",
              "  <svg xmlns=\"http://www.w3.org/2000/svg\" height=\"24px\"viewBox=\"0 0 24 24\"\n",
              "       width=\"24px\">\n",
              "    <path d=\"M0 0h24v24H0V0z\" fill=\"none\"/>\n",
              "    <path d=\"M18.56 5.44l.94 2.06.94-2.06 2.06-.94-2.06-.94-.94-2.06-.94 2.06-2.06.94zm-11 1L8.5 8.5l.94-2.06 2.06-.94-2.06-.94L8.5 2.5l-.94 2.06-2.06.94zm10 10l.94 2.06.94-2.06 2.06-.94-2.06-.94-.94-2.06-.94 2.06-2.06.94z\"/><path d=\"M17.41 7.96l-1.37-1.37c-.4-.4-.92-.59-1.43-.59-.52 0-1.04.2-1.43.59L10.3 9.45l-7.72 7.72c-.78.78-.78 2.05 0 2.83L4 21.41c.39.39.9.59 1.41.59.51 0 1.02-.2 1.41-.59l7.78-7.78 2.81-2.81c.8-.78.8-2.07 0-2.86zM5.41 20L4 18.59l7.72-7.72 1.47 1.35L5.41 20z\"/>\n",
              "  </svg>\n",
              "      </button>\n",
              "      \n",
              "  <style>\n",
              "    .colab-df-container {\n",
              "      display:flex;\n",
              "      flex-wrap:wrap;\n",
              "      gap: 12px;\n",
              "    }\n",
              "\n",
              "    .colab-df-convert {\n",
              "      background-color: #E8F0FE;\n",
              "      border: none;\n",
              "      border-radius: 50%;\n",
              "      cursor: pointer;\n",
              "      display: none;\n",
              "      fill: #1967D2;\n",
              "      height: 32px;\n",
              "      padding: 0 0 0 0;\n",
              "      width: 32px;\n",
              "    }\n",
              "\n",
              "    .colab-df-convert:hover {\n",
              "      background-color: #E2EBFA;\n",
              "      box-shadow: 0px 1px 2px rgba(60, 64, 67, 0.3), 0px 1px 3px 1px rgba(60, 64, 67, 0.15);\n",
              "      fill: #174EA6;\n",
              "    }\n",
              "\n",
              "    [theme=dark] .colab-df-convert {\n",
              "      background-color: #3B4455;\n",
              "      fill: #D2E3FC;\n",
              "    }\n",
              "\n",
              "    [theme=dark] .colab-df-convert:hover {\n",
              "      background-color: #434B5C;\n",
              "      box-shadow: 0px 1px 3px 1px rgba(0, 0, 0, 0.15);\n",
              "      filter: drop-shadow(0px 1px 2px rgba(0, 0, 0, 0.3));\n",
              "      fill: #FFFFFF;\n",
              "    }\n",
              "  </style>\n",
              "\n",
              "      <script>\n",
              "        const buttonEl =\n",
              "          document.querySelector('#df-9c028662-7bb1-416f-b2d7-2eed48aab044 button.colab-df-convert');\n",
              "        buttonEl.style.display =\n",
              "          google.colab.kernel.accessAllowed ? 'block' : 'none';\n",
              "\n",
              "        async function convertToInteractive(key) {\n",
              "          const element = document.querySelector('#df-9c028662-7bb1-416f-b2d7-2eed48aab044');\n",
              "          const dataTable =\n",
              "            await google.colab.kernel.invokeFunction('convertToInteractive',\n",
              "                                                     [key], {});\n",
              "          if (!dataTable) return;\n",
              "\n",
              "          const docLinkHtml = 'Like what you see? Visit the ' +\n",
              "            '<a target=\"_blank\" href=https://colab.research.google.com/notebooks/data_table.ipynb>data table notebook</a>'\n",
              "            + ' to learn more about interactive tables.';\n",
              "          element.innerHTML = '';\n",
              "          dataTable['output_type'] = 'display_data';\n",
              "          await google.colab.output.renderOutput(dataTable, element);\n",
              "          const docLink = document.createElement('div');\n",
              "          docLink.innerHTML = docLinkHtml;\n",
              "          element.appendChild(docLink);\n",
              "        }\n",
              "      </script>\n",
              "    </div>\n",
              "  </div>\n",
              "  "
            ]
          },
          "metadata": {},
          "execution_count": 19
        }
      ],
      "source": [
        "### count upregulated genes among all targets of a particular microrna\n",
        "utgind = list(utg.index)\n",
        "upercent = {}\n",
        "ucross = {}\n",
        "for i in utgind:\n",
        "  allgenes = list(utg.loc[i])[0]\n",
        "  cross = [x for x in allgenes if x in ugenes]\n",
        "  ucross[i] = cross\n",
        "  percent = (len(cross)/len(allgenes)) * 100\n",
        "  upercent[i] = percent\n",
        "\n",
        "uprc = pd.Series(upercent).to_frame('percent of upregulated among all, %')\n",
        "ucr = pd.Series(ucross).to_frame('upregulated')\n",
        "ufinal = pd.concat([utg, ucr, uprc], axis=1)\n",
        "ufinal"
      ]
    },
    {
      "cell_type": "code",
      "execution_count": null,
      "metadata": {
        "colab": {
          "base_uri": "https://localhost:8080/"
        },
        "id": "cXjpqz0DfmDq",
        "outputId": "d7263363-0ae3-4135-e4b4-4f0289784870"
      },
      "outputs": [
        {
          "output_type": "display_data",
          "data": {
            "text/plain": [
              "<IPython.core.display.Javascript object>"
            ],
            "application/javascript": [
              "\n",
              "    async function download(id, filename, size) {\n",
              "      if (!google.colab.kernel.accessAllowed) {\n",
              "        return;\n",
              "      }\n",
              "      const div = document.createElement('div');\n",
              "      const label = document.createElement('label');\n",
              "      label.textContent = `Downloading \"${filename}\": `;\n",
              "      div.appendChild(label);\n",
              "      const progress = document.createElement('progress');\n",
              "      progress.max = size;\n",
              "      div.appendChild(progress);\n",
              "      document.body.appendChild(div);\n",
              "\n",
              "      const buffers = [];\n",
              "      let downloaded = 0;\n",
              "\n",
              "      const channel = await google.colab.kernel.comms.open(id);\n",
              "      // Send a message to notify the kernel that we're ready.\n",
              "      channel.send({})\n",
              "\n",
              "      for await (const message of channel.messages) {\n",
              "        // Send a message to notify the kernel that we're ready.\n",
              "        channel.send({})\n",
              "        if (message.buffers) {\n",
              "          for (const buffer of message.buffers) {\n",
              "            buffers.push(buffer);\n",
              "            downloaded += buffer.byteLength;\n",
              "            progress.value = downloaded;\n",
              "          }\n",
              "        }\n",
              "      }\n",
              "      const blob = new Blob(buffers, {type: 'application/binary'});\n",
              "      const a = document.createElement('a');\n",
              "      a.href = window.URL.createObjectURL(blob);\n",
              "      a.download = filename;\n",
              "      div.appendChild(a);\n",
              "      a.click();\n",
              "      div.remove();\n",
              "    }\n",
              "  "
            ]
          },
          "metadata": {}
        },
        {
          "output_type": "display_data",
          "data": {
            "text/plain": [
              "<IPython.core.display.Javascript object>"
            ],
            "application/javascript": [
              "download(\"download_52afad75-d3e5-4d0e-900d-2f9e0f0a4d97\", \"upregulated_no_enrichment.csv\", 651600)"
            ]
          },
          "metadata": {}
        }
      ],
      "source": [
        "### save to csv file\n",
        "ufinal.to_csv('upregulated_no_enrichment.csv', sep=';')\n",
        "from google.colab import files\n",
        "files.download('upregulated_no_enrichment.csv')"
      ]
    },
    {
      "cell_type": "markdown",
      "metadata": {
        "id": "WyUDgvAK2O4l"
      },
      "source": [
        "##Unique"
      ]
    },
    {
      "cell_type": "code",
      "execution_count": null,
      "metadata": {
        "colab": {
          "base_uri": "https://localhost:8080/"
        },
        "id": "IS8b8hzR2Q_K",
        "outputId": "751ec939-647b-4bcd-af6a-4312a2b84c94"
      },
      "outputs": [
        {
          "output_type": "stream",
          "name": "stdout",
          "text": [
            "85\n"
          ]
        }
      ],
      "source": [
        "### from table above we'll find out which mirnas target only up or downregulated genes, \n",
        "### and which have targets in both lists\n",
        "\n",
        "cross = [x for x in dmir if x in umir and x in mmirind]\n",
        "print(len(cross))\n",
        "ucross = ufinal.loc[cross]\n",
        "dcross = dfinal.loc[cross].drop(\"all targets\", axis=1)\n",
        "crossfinal = pd.concat([ucross, dcross], axis=1)\n",
        "\n",
        "unique_dfinal = dfinal.drop(cross)\n",
        "unique_ufinal = ufinal.drop(cross)"
      ]
    },
    {
      "cell_type": "code",
      "execution_count": null,
      "metadata": {
        "colab": {
          "base_uri": "https://localhost:8080/"
        },
        "id": "yU2mc-SO2YGw",
        "outputId": "f8871193-ee61-4f50-f923-2c0129f266fd"
      },
      "outputs": [
        {
          "output_type": "display_data",
          "data": {
            "text/plain": [
              "<IPython.core.display.Javascript object>"
            ],
            "application/javascript": [
              "\n",
              "    async function download(id, filename, size) {\n",
              "      if (!google.colab.kernel.accessAllowed) {\n",
              "        return;\n",
              "      }\n",
              "      const div = document.createElement('div');\n",
              "      const label = document.createElement('label');\n",
              "      label.textContent = `Downloading \"${filename}\": `;\n",
              "      div.appendChild(label);\n",
              "      const progress = document.createElement('progress');\n",
              "      progress.max = size;\n",
              "      div.appendChild(progress);\n",
              "      document.body.appendChild(div);\n",
              "\n",
              "      const buffers = [];\n",
              "      let downloaded = 0;\n",
              "\n",
              "      const channel = await google.colab.kernel.comms.open(id);\n",
              "      // Send a message to notify the kernel that we're ready.\n",
              "      channel.send({})\n",
              "\n",
              "      for await (const message of channel.messages) {\n",
              "        // Send a message to notify the kernel that we're ready.\n",
              "        channel.send({})\n",
              "        if (message.buffers) {\n",
              "          for (const buffer of message.buffers) {\n",
              "            buffers.push(buffer);\n",
              "            downloaded += buffer.byteLength;\n",
              "            progress.value = downloaded;\n",
              "          }\n",
              "        }\n",
              "      }\n",
              "      const blob = new Blob(buffers, {type: 'application/binary'});\n",
              "      const a = document.createElement('a');\n",
              "      a.href = window.URL.createObjectURL(blob);\n",
              "      a.download = filename;\n",
              "      div.appendChild(a);\n",
              "      a.click();\n",
              "      div.remove();\n",
              "    }\n",
              "  "
            ]
          },
          "metadata": {}
        },
        {
          "output_type": "display_data",
          "data": {
            "text/plain": [
              "<IPython.core.display.Javascript object>"
            ],
            "application/javascript": [
              "download(\"download_cb39f99b-4e2e-4586-8c84-3105c342e8ac\", \"mirnas_noenrichment.xlsx\", 511279)"
            ]
          },
          "metadata": {}
        }
      ],
      "source": [
        "with pd.ExcelWriter('mirnas_noenrichment.xlsx') as writer:  \n",
        "    unique_ufinal.to_excel(writer, sheet_name='Upregulated')\n",
        "    unique_dfinal.to_excel(writer, sheet_name='Downregulated')\n",
        "    crossfinal.to_excel(writer, sheet_name='Overlapping')\n",
        "\n",
        "from google.colab import files\n",
        "files.download('mirnas_noenrichment.xlsx')"
      ]
    },
    {
      "cell_type": "markdown",
      "metadata": {
        "id": "Pm-M3Zol3Cwv"
      },
      "source": [
        "#PCR array validation"
      ]
    },
    {
      "cell_type": "code",
      "execution_count": null,
      "metadata": {
        "colab": {
          "base_uri": "https://localhost:8080/"
        },
        "id": "NCzc1GcN3EBe",
        "outputId": "71dedbbe-99c2-42cd-d91a-82c66e262949"
      },
      "outputs": [
        {
          "output_type": "execute_result",
          "data": {
            "text/plain": [
              "['hsa-mir-194-5p',\n",
              " 'hsa-mir-378a-3p',\n",
              " 'hsa-mir-192-5p',\n",
              " 'hsa-mir-148a-3p',\n",
              " 'hsa-mir-449a',\n",
              " 'hsa-mir-146a-5p',\n",
              " 'hsa-mir-503-5p',\n",
              " 'hsa-mir-874-3p',\n",
              " 'hsa-mir-10a-5p']"
            ]
          },
          "metadata": {},
          "execution_count": 23
        }
      ],
      "source": [
        "### upload file with selected from PCR array microRNAs (upregulated in profibro, Fold-change > 1,6)\n",
        "pcrar = pd.read_csv(\"/content/drive/MyDrive/Colab Notebooks/pcr_array_fibrotic.csv\", header=None)\n",
        "pcrar = list(pcrar[0])\n",
        "pcrar[0:9]"
      ]
    },
    {
      "cell_type": "code",
      "execution_count": null,
      "metadata": {
        "id": "vXOZmGik4Ups"
      },
      "outputs": [],
      "source": [
        "dmirlst = list(unique_dfinal.index)\n",
        "umirlst = list(unique_ufinal.index)\n",
        "omirlst = list(crossfinal.index)"
      ]
    },
    {
      "cell_type": "code",
      "execution_count": null,
      "metadata": {
        "colab": {
          "base_uri": "https://localhost:8080/"
        },
        "id": "9KcWV2gO3a_B",
        "outputId": "4edfcf86-1885-4142-f6e2-ccc9523438f0"
      },
      "outputs": [
        {
          "output_type": "stream",
          "name": "stdout",
          "text": [
            "15\n",
            "3\n",
            "10\n"
          ]
        }
      ],
      "source": [
        "### validate microRNAs for downregulated genes:\n",
        "dpcrar = [x for x in dmirlst if x in pcrar]\n",
        "print(len(dpcrar))\n",
        "\n",
        "### validate microRNAs for upregulated genes:\n",
        "upcrar = [x for x in umirlst if x in pcrar]\n",
        "print(len(upcrar))\n",
        "\n",
        "### validate microRNAs for overlapped genes:\n",
        "opcrar = [x for x in omirlst if x in pcrar]\n",
        "print(len(opcrar))"
      ]
    },
    {
      "cell_type": "code",
      "execution_count": null,
      "metadata": {
        "colab": {
          "base_uri": "https://localhost:8080/"
        },
        "id": "TEKjAN2D5NTI",
        "outputId": "49ce400f-57ac-4080-9292-24e99ecd6360"
      },
      "outputs": [
        {
          "output_type": "stream",
          "name": "stdout",
          "text": [
            "Downregulated: ['hsa-mir-663a', 'hsa-mir-150-5p', 'hsa-mir-20a-5p', 'hsa-mir-92a-3p', 'hsa-mir-146a-5p', 'hsa-mir-194-5p', 'hsa-mir-18a-5p', 'hsa-mir-34a-5p', 'hsa-mir-27a-3p', 'hsa-mir-192-5p', 'hsa-mir-10a-5p', 'hsa-mir-5011-5p', 'hsa-mir-27b-3p', 'hsa-mir-199a-5p', 'hsa-mir-375']\n",
            "Upregulated: ['hsa-mir-143-3p', 'hsa-mir-125b-5p', 'hsa-mir-451a']\n",
            "Overlapped: ['hsa-mir-335-5p', 'hsa-mir-195-5p', 'hsa-mir-129-5p', 'hsa-mir-21-5p', 'hsa-mir-107', 'hsa-mir-377-3p', 'hsa-mir-29b-3p', 'hsa-mir-16-5p', 'hsa-mir-29a-3p', 'hsa-mir-29c-3p']\n"
          ]
        }
      ],
      "source": [
        "print(\"Downregulated:\", dpcrar)\n",
        "print(\"Upregulated:\", upcrar)\n",
        "print(\"Overlapped:\", opcrar)"
      ]
    },
    {
      "cell_type": "markdown",
      "metadata": {
        "id": "H9ca2tQ69NaR"
      },
      "source": [
        "#GO annotation of miRNAs gene targets"
      ]
    },
    {
      "cell_type": "markdown",
      "source": [
        "## Downregulated annotation\n"
      ],
      "metadata": {
        "id": "IHkO0nP0VQnx"
      }
    },
    {
      "cell_type": "code",
      "source": [
        "### GO\n",
        "\n",
        "dmirtgfun = {}\n",
        "for i in dpcrar:\n",
        "    targets = unique_dfinal.loc[i, \"all targets\"]\n",
        "    gp = GProfiler(return_dataframe=True)\n",
        "    gpdf = gp.profile(organism='hsapiens',\n",
        "                      query=targets,\n",
        "                      no_evidences=False,\n",
        "                      sources = [\"GO:BP\"])\n",
        "    fun = list(gpdf[\"name\"])\n",
        "    dmirtgfun[i] = fun\n",
        "dtargfgo = pd.Series(dmirtgfun).to_frame('Target functions')"
      ],
      "metadata": {
        "id": "t3-j67YpNHyp"
      },
      "execution_count": null,
      "outputs": []
    },
    {
      "cell_type": "code",
      "source": [
        "dtargfgo"
      ],
      "metadata": {
        "id": "mRSLgFPlN5D-"
      },
      "execution_count": null,
      "outputs": []
    },
    {
      "cell_type": "code",
      "source": [
        "### KEGG\n",
        "dmirtgfun = {}\n",
        "for i in dpcrar:\n",
        "    targets = unique_dfinal.loc[i, \"all targets\"]\n",
        "    gp = GProfiler(return_dataframe=True)\n",
        "    gpdf = gp.profile(organism='hsapiens',\n",
        "                      query=targets,\n",
        "                      no_evidences=False,\n",
        "                      sources = [\"KEGG\"])\n",
        "    fun = list(gpdf[\"name\"])\n",
        "    dmirtgfun[i] = fun\n",
        "dtargfkegg = pd.Series(dmirtgfun).to_frame('Target functions')"
      ],
      "metadata": {
        "id": "We5p-MRjOwK_"
      },
      "execution_count": null,
      "outputs": []
    },
    {
      "cell_type": "code",
      "source": [
        "dtargfkegg"
      ],
      "metadata": {
        "id": "BXqQpGGJO7Pi"
      },
      "execution_count": null,
      "outputs": []
    },
    {
      "cell_type": "code",
      "source": [
        "### Save to excel file\n",
        "with pd.ExcelWriter('downregulated_targets_GO_KEGG.xlsx') as writer:  \n",
        "    dtargfgo.to_excel(writer, sheet_name='GO')\n",
        "    dtargfkegg.to_excel(writer, sheet_name='KEGG')\n",
        "\n",
        "from google.colab import files\n",
        "files.download('downregulated_targets_GO_KEGG.xlsx')"
      ],
      "metadata": {
        "id": "rBRWT8XZPS_I"
      },
      "execution_count": null,
      "outputs": []
    },
    {
      "cell_type": "markdown",
      "source": [
        "##Upregulated annotation"
      ],
      "metadata": {
        "id": "XcWjJZ2HVXh9"
      }
    },
    {
      "cell_type": "code",
      "source": [
        "### GO\n",
        "umirtgfun = {}\n",
        "for i in upcrar:\n",
        "    targets = unique_ufinal.loc[i, \"all targets\"]\n",
        "    gp = GProfiler(return_dataframe=True)\n",
        "    gpdf = gp.profile(organism='hsapiens',\n",
        "                      query=targets,\n",
        "                      no_evidences=False,\n",
        "                      sources = [\"GO:BP\"])\n",
        "    fun = list(gpdf[\"name\"])\n",
        "    umirtgfun[i] = fun\n",
        "utargfgo = pd.Series(umirtgfun).to_frame('Target functions')"
      ],
      "metadata": {
        "id": "L20d4B2FVkey"
      },
      "execution_count": null,
      "outputs": []
    },
    {
      "cell_type": "code",
      "source": [
        "### KEGG\n",
        "umirtgfun = {}\n",
        "for i in upcrar:\n",
        "    targets = unique_ufinal.loc[i, \"all targets\"]\n",
        "    gp = GProfiler(return_dataframe=True)\n",
        "    gpdf = gp.profile(organism='hsapiens',\n",
        "                      query=targets,\n",
        "                      no_evidences=False,\n",
        "                      sources = [\"KEGG\"])\n",
        "    fun = list(gpdf[\"name\"])\n",
        "    umirtgfun[i] = fun\n",
        "utargfkegg = pd.Series(umirtgfun).to_frame('Target functions')"
      ],
      "metadata": {
        "id": "gTUTOceBV14D"
      },
      "execution_count": null,
      "outputs": []
    },
    {
      "cell_type": "code",
      "source": [
        "### Save to excel file\n",
        "with pd.ExcelWriter('upregulated_targets_GO_KEGG.xlsx') as writer:  \n",
        "    utargfgo.to_excel(writer, sheet_name='GO')\n",
        "    utargfkegg.to_excel(writer, sheet_name='KEGG')\n",
        "\n",
        "from google.colab import files\n",
        "files.download('upregulated_targets_GO_KEGG.xlsx')"
      ],
      "metadata": {
        "colab": {
          "base_uri": "https://localhost:8080/",
          "height": 17
        },
        "id": "BV6hyWreWWJL",
        "outputId": "6c0b3b9a-8ddb-46d3-eced-cba9970a1c1b"
      },
      "execution_count": null,
      "outputs": [
        {
          "output_type": "display_data",
          "data": {
            "text/plain": [
              "<IPython.core.display.Javascript object>"
            ],
            "application/javascript": [
              "\n",
              "    async function download(id, filename, size) {\n",
              "      if (!google.colab.kernel.accessAllowed) {\n",
              "        return;\n",
              "      }\n",
              "      const div = document.createElement('div');\n",
              "      const label = document.createElement('label');\n",
              "      label.textContent = `Downloading \"${filename}\": `;\n",
              "      div.appendChild(label);\n",
              "      const progress = document.createElement('progress');\n",
              "      progress.max = size;\n",
              "      div.appendChild(progress);\n",
              "      document.body.appendChild(div);\n",
              "\n",
              "      const buffers = [];\n",
              "      let downloaded = 0;\n",
              "\n",
              "      const channel = await google.colab.kernel.comms.open(id);\n",
              "      // Send a message to notify the kernel that we're ready.\n",
              "      channel.send({})\n",
              "\n",
              "      for await (const message of channel.messages) {\n",
              "        // Send a message to notify the kernel that we're ready.\n",
              "        channel.send({})\n",
              "        if (message.buffers) {\n",
              "          for (const buffer of message.buffers) {\n",
              "            buffers.push(buffer);\n",
              "            downloaded += buffer.byteLength;\n",
              "            progress.value = downloaded;\n",
              "          }\n",
              "        }\n",
              "      }\n",
              "      const blob = new Blob(buffers, {type: 'application/binary'});\n",
              "      const a = document.createElement('a');\n",
              "      a.href = window.URL.createObjectURL(blob);\n",
              "      a.download = filename;\n",
              "      div.appendChild(a);\n",
              "      a.click();\n",
              "      div.remove();\n",
              "    }\n",
              "  "
            ]
          },
          "metadata": {}
        },
        {
          "output_type": "display_data",
          "data": {
            "text/plain": [
              "<IPython.core.display.Javascript object>"
            ],
            "application/javascript": [
              "download(\"download_9e1e929c-33c7-4c39-8273-e30fdd76de28\", \"upregulated_targets_GO_KEGG.xlsx\", 10707)"
            ]
          },
          "metadata": {}
        }
      ]
    },
    {
      "cell_type": "markdown",
      "source": [
        "##Overlapped"
      ],
      "metadata": {
        "id": "7_kRMEJBZlfS"
      }
    },
    {
      "cell_type": "code",
      "source": [
        "### GO f\n",
        "omirtgfun = {}\n",
        "for i in opcrar:\n",
        "    targets = crossfinal.loc[i, \"all targets\"]\n",
        "    gp = GProfiler(return_dataframe=True)\n",
        "    gpdf = gp.profile(organism='hsapiens',\n",
        "                      query=targets,\n",
        "                      no_evidences=False,\n",
        "                      sources = [\"GO:BP\"])\n",
        "    fun = list(gpdf[\"name\"])\n",
        "    omirtgfun[i] = fun\n",
        "otargfgo = pd.Series(omirtgfun).to_frame('Target functions')"
      ],
      "metadata": {
        "id": "5zEMJqWUZnqw"
      },
      "execution_count": null,
      "outputs": []
    },
    {
      "cell_type": "code",
      "source": [
        "### KEGG \n",
        "omirtgfun = {}\n",
        "for i in opcrar:\n",
        "    targets = crossfinal.loc[i, \"all targets\"]\n",
        "    gp = GProfiler(return_dataframe=True)\n",
        "    gpdf = gp.profile(organism='hsapiens',\n",
        "                      query=targets,\n",
        "                      no_evidences=False,\n",
        "                      sources = [\"KEGG\"])\n",
        "    fun = list(gpdf[\"name\"])\n",
        "    omirtgfun[i] = fun\n",
        "otargfkegg = pd.Series(omirtgfun).to_frame('Target functions')"
      ],
      "metadata": {
        "id": "f5oAVjtgbEUT"
      },
      "execution_count": null,
      "outputs": []
    },
    {
      "cell_type": "code",
      "source": [
        "### Save to excel file\n",
        "with pd.ExcelWriter('overlapped_targets_GO_KEGG.xlsx') as writer:  \n",
        "    otargfgo.to_excel(writer, sheet_name='GO')\n",
        "    otargfkegg.to_excel(writer, sheet_name='KEGG')\n",
        "\n",
        "from google.colab import files\n",
        "files.download('overlapped_targets_GO_KEGG.xlsx')"
      ],
      "metadata": {
        "colab": {
          "base_uri": "https://localhost:8080/",
          "height": 17
        },
        "id": "pSQreWWPbsuw",
        "outputId": "fa3e1fb7-85fd-4ce9-8df2-506b72a21438"
      },
      "execution_count": null,
      "outputs": [
        {
          "output_type": "display_data",
          "data": {
            "text/plain": [
              "<IPython.core.display.Javascript object>"
            ],
            "application/javascript": [
              "\n",
              "    async function download(id, filename, size) {\n",
              "      if (!google.colab.kernel.accessAllowed) {\n",
              "        return;\n",
              "      }\n",
              "      const div = document.createElement('div');\n",
              "      const label = document.createElement('label');\n",
              "      label.textContent = `Downloading \"${filename}\": `;\n",
              "      div.appendChild(label);\n",
              "      const progress = document.createElement('progress');\n",
              "      progress.max = size;\n",
              "      div.appendChild(progress);\n",
              "      document.body.appendChild(div);\n",
              "\n",
              "      const buffers = [];\n",
              "      let downloaded = 0;\n",
              "\n",
              "      const channel = await google.colab.kernel.comms.open(id);\n",
              "      // Send a message to notify the kernel that we're ready.\n",
              "      channel.send({})\n",
              "\n",
              "      for await (const message of channel.messages) {\n",
              "        // Send a message to notify the kernel that we're ready.\n",
              "        channel.send({})\n",
              "        if (message.buffers) {\n",
              "          for (const buffer of message.buffers) {\n",
              "            buffers.push(buffer);\n",
              "            downloaded += buffer.byteLength;\n",
              "            progress.value = downloaded;\n",
              "          }\n",
              "        }\n",
              "      }\n",
              "      const blob = new Blob(buffers, {type: 'application/binary'});\n",
              "      const a = document.createElement('a');\n",
              "      a.href = window.URL.createObjectURL(blob);\n",
              "      a.download = filename;\n",
              "      div.appendChild(a);\n",
              "      a.click();\n",
              "      div.remove();\n",
              "    }\n",
              "  "
            ]
          },
          "metadata": {}
        },
        {
          "output_type": "display_data",
          "data": {
            "text/plain": [
              "<IPython.core.display.Javascript object>"
            ],
            "application/javascript": [
              "download(\"download_657cd439-5c45-44f7-b6df-f92d92e65ef1\", \"overlapped_targets_GO_KEGG.xlsx\", 21444)"
            ]
          },
          "metadata": {}
        }
      ]
    },
    {
      "cell_type": "markdown",
      "source": [
        "## Term enrichment"
      ],
      "metadata": {
        "id": "vhbyqDJOf9Jy"
      }
    },
    {
      "cell_type": "code",
      "source": [
        "### GO\n",
        "terms = [' stem', \"fibrosis\", 'wound', 'differentitation', \n",
        "         'actin', 'matrix', 'fibroblast', 'myofibroblast',\n",
        "         'aging', 'senescence', 'apoptosis', 'wounding',\n",
        "         'muscle', 'programmed', 'extracellular', 'encapsulating',\n",
        "         'proliferation', 'mesenchymal']\n",
        "enrich_terms = {}\n",
        "for mir in list(otargfgo.index):\n",
        "    group = otargfgo.loc[mir, \"Target functions\"]\n",
        "    lst = []\n",
        "    for t in terms:\n",
        "      for name in group:\n",
        "        if t in name:\n",
        "          lst.append(name)\n",
        "    enrich_terms[mir] = lst\n",
        "enrichgo = pd.Series(enrich_terms).to_frame('Enriched functions')"
      ],
      "metadata": {
        "id": "k3ikGODngBW8"
      },
      "execution_count": null,
      "outputs": []
    },
    {
      "cell_type": "code",
      "source": [
        "### KEGG\n",
        "terms = [' stem', 'fibrosis', 'wound', 'differentitation', \n",
        "         'actin', 'matrix', 'fibroblast', 'myofibroblast',\n",
        "         'aging', 'senescence', 'apoptosis', 'wounding',\n",
        "         'muscle', 'programmed', 'extracellular', 'encapsulating',\n",
        "         'proliferation', 'mesenchymal']\n",
        "enrich_terms = {}\n",
        "for mir in list(otargfkegg.index):\n",
        "    group = otargfkegg.loc[mir, \"Target functions\"]\n",
        "    lst = []\n",
        "    for t in terms:\n",
        "      for name in group:\n",
        "        if t in name:\n",
        "          lst.append(name)\n",
        "    enrich_terms[mir] = lst\n",
        "enrichkegg = pd.Series(enrich_terms).to_frame('Enriched functions')"
      ],
      "metadata": {
        "id": "j3H0dTl96YdI"
      },
      "execution_count": null,
      "outputs": []
    },
    {
      "cell_type": "code",
      "source": [
        "### Save to excel file\n",
        "with pd.ExcelWriter('overlapped_enriched_terms_GO_KEGG.xlsx') as writer:  \n",
        "    enrichgo.to_excel(writer, sheet_name='GO')\n",
        "    enrichkegg.to_excel(writer, sheet_name='KEGG')\n",
        "\n",
        "from google.colab import files\n",
        "files.download('overlapped_enriched_terms_GO_KEGG.xlsx')"
      ],
      "metadata": {
        "colab": {
          "base_uri": "https://localhost:8080/",
          "height": 17
        },
        "id": "kRj9n0RC31ce",
        "outputId": "c5882bd6-c41c-48e3-ac9e-177cce21d215"
      },
      "execution_count": null,
      "outputs": [
        {
          "output_type": "display_data",
          "data": {
            "text/plain": [
              "<IPython.core.display.Javascript object>"
            ],
            "application/javascript": [
              "\n",
              "    async function download(id, filename, size) {\n",
              "      if (!google.colab.kernel.accessAllowed) {\n",
              "        return;\n",
              "      }\n",
              "      const div = document.createElement('div');\n",
              "      const label = document.createElement('label');\n",
              "      label.textContent = `Downloading \"${filename}\": `;\n",
              "      div.appendChild(label);\n",
              "      const progress = document.createElement('progress');\n",
              "      progress.max = size;\n",
              "      div.appendChild(progress);\n",
              "      document.body.appendChild(div);\n",
              "\n",
              "      const buffers = [];\n",
              "      let downloaded = 0;\n",
              "\n",
              "      const channel = await google.colab.kernel.comms.open(id);\n",
              "      // Send a message to notify the kernel that we're ready.\n",
              "      channel.send({})\n",
              "\n",
              "      for await (const message of channel.messages) {\n",
              "        // Send a message to notify the kernel that we're ready.\n",
              "        channel.send({})\n",
              "        if (message.buffers) {\n",
              "          for (const buffer of message.buffers) {\n",
              "            buffers.push(buffer);\n",
              "            downloaded += buffer.byteLength;\n",
              "            progress.value = downloaded;\n",
              "          }\n",
              "        }\n",
              "      }\n",
              "      const blob = new Blob(buffers, {type: 'application/binary'});\n",
              "      const a = document.createElement('a');\n",
              "      a.href = window.URL.createObjectURL(blob);\n",
              "      a.download = filename;\n",
              "      div.appendChild(a);\n",
              "      a.click();\n",
              "      div.remove();\n",
              "    }\n",
              "  "
            ]
          },
          "metadata": {}
        },
        {
          "output_type": "display_data",
          "data": {
            "text/plain": [
              "<IPython.core.display.Javascript object>"
            ],
            "application/javascript": [
              "download(\"download_73db8845-fd41-440f-b056-6db204c71501\", \"overlapped_enriched_terms_GO_KEGG.xlsx\", 6602)"
            ]
          },
          "metadata": {}
        }
      ]
    },
    {
      "cell_type": "markdown",
      "metadata": {
        "id": "PRutYfZBZvhb"
      },
      "source": [
        "# Analyzing bulk RNA-seq expression data for mirnas in question "
      ]
    },
    {
      "cell_type": "code",
      "execution_count": null,
      "metadata": {
        "id": "-lRrodA02RBX"
      },
      "outputs": [],
      "source": [
        "### upload RNA-seq data. Please, make sure to change all capital \"R\" letters to \"r\" in the file beforehand\n",
        "pcr = pd.read_csv(\"/content/drive/MyDrive/Colab Notebooks/1_2_3_K.csv\", sep=';')\n",
        "pcr = pcr.set_index(\"mirNA\")\n",
        "#pcr = pcr.drop([\"Unnamed: 5\", \"Unnamed: 6\", \"Unnamed: 7\", \"Unnamed: 8\"], axis = 1)"
      ]
    },
    {
      "cell_type": "code",
      "execution_count": null,
      "metadata": {
        "colab": {
          "base_uri": "https://localhost:8080/",
          "height": 237
        },
        "id": "bavInsLZ2mKn",
        "outputId": "f0532536-9af2-4be0-d14c-ec907f802cf6"
      },
      "outputs": [
        {
          "data": {
            "text/html": [
              "\n",
              "  <div id=\"df-af1e1dd7-e5cc-4eb6-bdae-b3df2b7179ca\">\n",
              "    <div class=\"colab-df-container\">\n",
              "      <div>\n",
              "<style scoped>\n",
              "    .dataframe tbody tr th:only-of-type {\n",
              "        vertical-align: middle;\n",
              "    }\n",
              "\n",
              "    .dataframe tbody tr th {\n",
              "        vertical-align: top;\n",
              "    }\n",
              "\n",
              "    .dataframe thead th {\n",
              "        text-align: right;\n",
              "    }\n",
              "</style>\n",
              "<table border=\"1\" class=\"dataframe\">\n",
              "  <thead>\n",
              "    <tr style=\"text-align: right;\">\n",
              "      <th></th>\n",
              "      <th>1K</th>\n",
              "      <th>2K</th>\n",
              "      <th>3K</th>\n",
              "      <th>Average</th>\n",
              "    </tr>\n",
              "    <tr>\n",
              "      <th>mirNA</th>\n",
              "      <th></th>\n",
              "      <th></th>\n",
              "      <th></th>\n",
              "      <th></th>\n",
              "    </tr>\n",
              "  </thead>\n",
              "  <tbody>\n",
              "    <tr>\n",
              "      <th>hsa-mir-21-5p</th>\n",
              "      <td>244373</td>\n",
              "      <td>22399</td>\n",
              "      <td>18527</td>\n",
              "      <td>95099.666670</td>\n",
              "    </tr>\n",
              "    <tr>\n",
              "      <th>hsa-let-7i-5p</th>\n",
              "      <td>69102</td>\n",
              "      <td>12904</td>\n",
              "      <td>3477</td>\n",
              "      <td>28494.333330</td>\n",
              "    </tr>\n",
              "    <tr>\n",
              "      <th>hsa-mir-100-5p</th>\n",
              "      <td>41378</td>\n",
              "      <td>4036</td>\n",
              "      <td>3113</td>\n",
              "      <td>16175.666670</td>\n",
              "    </tr>\n",
              "    <tr>\n",
              "      <th>hsa-mir-143-3p</th>\n",
              "      <td>35256</td>\n",
              "      <td>3801</td>\n",
              "      <td>2903</td>\n",
              "      <td>13986.666670</td>\n",
              "    </tr>\n",
              "    <tr>\n",
              "      <th>hsa-let-7g-5p</th>\n",
              "      <td>10167</td>\n",
              "      <td>2971</td>\n",
              "      <td>1819</td>\n",
              "      <td>4985.666667</td>\n",
              "    </tr>\n",
              "  </tbody>\n",
              "</table>\n",
              "</div>\n",
              "      <button class=\"colab-df-convert\" onclick=\"convertToInteractive('df-af1e1dd7-e5cc-4eb6-bdae-b3df2b7179ca')\"\n",
              "              title=\"Convert this dataframe to an interactive table.\"\n",
              "              style=\"display:none;\">\n",
              "        \n",
              "  <svg xmlns=\"http://www.w3.org/2000/svg\" height=\"24px\"viewBox=\"0 0 24 24\"\n",
              "       width=\"24px\">\n",
              "    <path d=\"M0 0h24v24H0V0z\" fill=\"none\"/>\n",
              "    <path d=\"M18.56 5.44l.94 2.06.94-2.06 2.06-.94-2.06-.94-.94-2.06-.94 2.06-2.06.94zm-11 1L8.5 8.5l.94-2.06 2.06-.94-2.06-.94L8.5 2.5l-.94 2.06-2.06.94zm10 10l.94 2.06.94-2.06 2.06-.94-2.06-.94-.94-2.06-.94 2.06-2.06.94z\"/><path d=\"M17.41 7.96l-1.37-1.37c-.4-.4-.92-.59-1.43-.59-.52 0-1.04.2-1.43.59L10.3 9.45l-7.72 7.72c-.78.78-.78 2.05 0 2.83L4 21.41c.39.39.9.59 1.41.59.51 0 1.02-.2 1.41-.59l7.78-7.78 2.81-2.81c.8-.78.8-2.07 0-2.86zM5.41 20L4 18.59l7.72-7.72 1.47 1.35L5.41 20z\"/>\n",
              "  </svg>\n",
              "      </button>\n",
              "      \n",
              "  <style>\n",
              "    .colab-df-container {\n",
              "      display:flex;\n",
              "      flex-wrap:wrap;\n",
              "      gap: 12px;\n",
              "    }\n",
              "\n",
              "    .colab-df-convert {\n",
              "      background-color: #E8F0FE;\n",
              "      border: none;\n",
              "      border-radius: 50%;\n",
              "      cursor: pointer;\n",
              "      display: none;\n",
              "      fill: #1967D2;\n",
              "      height: 32px;\n",
              "      padding: 0 0 0 0;\n",
              "      width: 32px;\n",
              "    }\n",
              "\n",
              "    .colab-df-convert:hover {\n",
              "      background-color: #E2EBFA;\n",
              "      box-shadow: 0px 1px 2px rgba(60, 64, 67, 0.3), 0px 1px 3px 1px rgba(60, 64, 67, 0.15);\n",
              "      fill: #174EA6;\n",
              "    }\n",
              "\n",
              "    [theme=dark] .colab-df-convert {\n",
              "      background-color: #3B4455;\n",
              "      fill: #D2E3FC;\n",
              "    }\n",
              "\n",
              "    [theme=dark] .colab-df-convert:hover {\n",
              "      background-color: #434B5C;\n",
              "      box-shadow: 0px 1px 3px 1px rgba(0, 0, 0, 0.15);\n",
              "      filter: drop-shadow(0px 1px 2px rgba(0, 0, 0, 0.3));\n",
              "      fill: #FFFFFF;\n",
              "    }\n",
              "  </style>\n",
              "\n",
              "      <script>\n",
              "        const buttonEl =\n",
              "          document.querySelector('#df-af1e1dd7-e5cc-4eb6-bdae-b3df2b7179ca button.colab-df-convert');\n",
              "        buttonEl.style.display =\n",
              "          google.colab.kernel.accessAllowed ? 'block' : 'none';\n",
              "\n",
              "        async function convertToInteractive(key) {\n",
              "          const element = document.querySelector('#df-af1e1dd7-e5cc-4eb6-bdae-b3df2b7179ca');\n",
              "          const dataTable =\n",
              "            await google.colab.kernel.invokeFunction('convertToInteractive',\n",
              "                                                     [key], {});\n",
              "          if (!dataTable) return;\n",
              "\n",
              "          const docLinkHtml = 'Like what you see? Visit the ' +\n",
              "            '<a target=\"_blank\" href=https://colab.research.google.com/notebooks/data_table.ipynb>data table notebook</a>'\n",
              "            + ' to learn more about interactive tables.';\n",
              "          element.innerHTML = '';\n",
              "          dataTable['output_type'] = 'display_data';\n",
              "          await google.colab.output.renderOutput(dataTable, element);\n",
              "          const docLink = document.createElement('div');\n",
              "          docLink.innerHTML = docLinkHtml;\n",
              "          element.appendChild(docLink);\n",
              "        }\n",
              "      </script>\n",
              "    </div>\n",
              "  </div>\n",
              "  "
            ],
            "text/plain": [
              "                    1K     2K     3K       Average\n",
              "mirNA                                             \n",
              "hsa-mir-21-5p   244373  22399  18527  95099.666670\n",
              "hsa-let-7i-5p    69102  12904   3477  28494.333330\n",
              "hsa-mir-100-5p   41378   4036   3113  16175.666670\n",
              "hsa-mir-143-3p   35256   3801   2903  13986.666670\n",
              "hsa-let-7g-5p    10167   2971   1819   4985.666667"
            ]
          },
          "execution_count": 56,
          "metadata": {},
          "output_type": "execute_result"
        }
      ],
      "source": [
        "pcr[0:5]"
      ]
    },
    {
      "cell_type": "markdown",
      "metadata": {
        "id": "FhziUXYICnO_"
      },
      "source": [
        "### Downregulated"
      ]
    },
    {
      "cell_type": "code",
      "execution_count": null,
      "metadata": {
        "id": "ktMjXVn41eXm"
      },
      "outputs": [],
      "source": [
        ""
      ]
    },
    {
      "cell_type": "code",
      "execution_count": null,
      "metadata": {
        "id": "eKWQrZdo1dBm"
      },
      "outputs": [],
      "source": [
        ""
      ]
    },
    {
      "cell_type": "code",
      "execution_count": null,
      "metadata": {
        "id": "BbEuTwIC3xEY"
      },
      "outputs": [],
      "source": [
        "### get data for downregulated genes\n",
        "pcrmirs = list(pcr.index)\n",
        "dmirs = list(dfinal.index)\n",
        "dmirav = {}\n",
        "for i in dmirs:\n",
        "    if i not in pcrmirs:\n",
        "      dmirav[i] = \"-\"\n",
        "    else:\n",
        "      av = pcr.loc[i, \"Average\"]\n",
        "      dmirav[i] = av\n",
        "dmiravdf = pd.Series(dmirav).to_frame('Average expression in pcr array file (1_2_3_K.csv)')\n",
        "dfinalav = pd.concat([dfinal, dmiravdf], axis=1)\n",
        "#dfinalav\n"
      ]
    },
    {
      "cell_type": "code",
      "execution_count": null,
      "metadata": {
        "colab": {
          "base_uri": "https://localhost:8080/",
          "height": 17
        },
        "id": "_QbJ9JPA7oNV",
        "outputId": "c0190031-7ff9-4553-d59a-3d68040e1445"
      },
      "outputs": [
        {
          "data": {
            "application/javascript": [
              "\n",
              "    async function download(id, filename, size) {\n",
              "      if (!google.colab.kernel.accessAllowed) {\n",
              "        return;\n",
              "      }\n",
              "      const div = document.createElement('div');\n",
              "      const label = document.createElement('label');\n",
              "      label.textContent = `Downloading \"${filename}\": `;\n",
              "      div.appendChild(label);\n",
              "      const progress = document.createElement('progress');\n",
              "      progress.max = size;\n",
              "      div.appendChild(progress);\n",
              "      document.body.appendChild(div);\n",
              "\n",
              "      const buffers = [];\n",
              "      let downloaded = 0;\n",
              "\n",
              "      const channel = await google.colab.kernel.comms.open(id);\n",
              "      // Send a message to notify the kernel that we're ready.\n",
              "      channel.send({})\n",
              "\n",
              "      for await (const message of channel.messages) {\n",
              "        // Send a message to notify the kernel that we're ready.\n",
              "        channel.send({})\n",
              "        if (message.buffers) {\n",
              "          for (const buffer of message.buffers) {\n",
              "            buffers.push(buffer);\n",
              "            downloaded += buffer.byteLength;\n",
              "            progress.value = downloaded;\n",
              "          }\n",
              "        }\n",
              "      }\n",
              "      const blob = new Blob(buffers, {type: 'application/binary'});\n",
              "      const a = document.createElement('a');\n",
              "      a.href = window.URL.createObjectURL(blob);\n",
              "      a.download = filename;\n",
              "      div.appendChild(a);\n",
              "      a.click();\n",
              "      div.remove();\n",
              "    }\n",
              "  "
            ],
            "text/plain": [
              "<IPython.core.display.Javascript object>"
            ]
          },
          "metadata": {},
          "output_type": "display_data"
        },
        {
          "data": {
            "application/javascript": [
              "download(\"download_1f581415-a6dd-4088-9c6c-cb8db2146304\", \"downregulated_pcrav_no_enrichment.csv\", 1888408)"
            ],
            "text/plain": [
              "<IPython.core.display.Javascript object>"
            ]
          },
          "metadata": {},
          "output_type": "display_data"
        }
      ],
      "source": [
        "### save to csv file\n",
        "#dfinalav.to_csv('downregulated_pcrav_no_enrichment.csv', sep=';')\n",
        "#from google.colab import files\n",
        "#files.download('downregulated_pcrav_no_enrichment.csv')"
      ]
    },
    {
      "cell_type": "markdown",
      "metadata": {
        "id": "MN7CjZdcCtPi"
      },
      "source": [
        "### Upregulated"
      ]
    },
    {
      "cell_type": "code",
      "execution_count": null,
      "metadata": {
        "colab": {
          "base_uri": "https://localhost:8080/",
          "height": 235
        },
        "id": "765G2BY6Cq4f",
        "outputId": "7d75017a-accb-426f-837d-5932486cc588"
      },
      "outputs": [
        {
          "ename": "NameError",
          "evalue": "ignored",
          "output_type": "error",
          "traceback": [
            "\u001b[0;31m---------------------------------------------------------------------------\u001b[0m",
            "\u001b[0;31mNameError\u001b[0m                                 Traceback (most recent call last)",
            "\u001b[0;32m<ipython-input-20-36d124439600>\u001b[0m in \u001b[0;36m<module>\u001b[0;34m()\u001b[0m\n\u001b[1;32m      1\u001b[0m \u001b[0;31m### get data for upregulated genes\u001b[0m\u001b[0;34m\u001b[0m\u001b[0;34m\u001b[0m\u001b[0;34m\u001b[0m\u001b[0m\n\u001b[0;32m----> 2\u001b[0;31m \u001b[0mpcrmirs\u001b[0m \u001b[0;34m=\u001b[0m \u001b[0mlist\u001b[0m\u001b[0;34m(\u001b[0m\u001b[0mpcr\u001b[0m\u001b[0;34m.\u001b[0m\u001b[0mindex\u001b[0m\u001b[0;34m)\u001b[0m\u001b[0;34m\u001b[0m\u001b[0;34m\u001b[0m\u001b[0m\n\u001b[0m\u001b[1;32m      3\u001b[0m \u001b[0mumirs\u001b[0m \u001b[0;34m=\u001b[0m \u001b[0mlist\u001b[0m\u001b[0;34m(\u001b[0m\u001b[0mufinal\u001b[0m\u001b[0;34m.\u001b[0m\u001b[0mindex\u001b[0m\u001b[0;34m)\u001b[0m\u001b[0;34m\u001b[0m\u001b[0;34m\u001b[0m\u001b[0m\n\u001b[1;32m      4\u001b[0m \u001b[0mumirav\u001b[0m \u001b[0;34m=\u001b[0m \u001b[0;34m{\u001b[0m\u001b[0;34m}\u001b[0m\u001b[0;34m\u001b[0m\u001b[0;34m\u001b[0m\u001b[0m\n\u001b[1;32m      5\u001b[0m \u001b[0;32mfor\u001b[0m \u001b[0mi\u001b[0m \u001b[0;32min\u001b[0m \u001b[0mumirs\u001b[0m\u001b[0;34m:\u001b[0m\u001b[0;34m\u001b[0m\u001b[0;34m\u001b[0m\u001b[0m\n",
            "\u001b[0;31mNameError\u001b[0m: name 'pcr' is not defined"
          ]
        }
      ],
      "source": [
        "### get data for upregulated genes\n",
        "pcrmirs = list(pcr.index)\n",
        "umirs = list(ufinal.index)\n",
        "umirav = {}\n",
        "for i in umirs:\n",
        "    if i not in pcrmirs:\n",
        "      umirav[i] = \"-\"\n",
        "    else:\n",
        "      av = pcr.loc[i, \"Average\"]\n",
        "      umirav[i] = av\n",
        "umiravdf = pd.Series(umirav).to_frame('Average expression in pcr array file (1_2_3_K.csv)')\n",
        "ufinalav = pd.concat([ufinal, umiravdf], axis=1)\n",
        "#ufinalav"
      ]
    },
    {
      "cell_type": "code",
      "execution_count": null,
      "metadata": {
        "colab": {
          "base_uri": "https://localhost:8080/",
          "height": 17
        },
        "id": "oMhXn1epDGVG",
        "outputId": "587c5ba9-c539-4528-a047-5200b10097ca"
      },
      "outputs": [
        {
          "data": {
            "application/javascript": [
              "\n",
              "    async function download(id, filename, size) {\n",
              "      if (!google.colab.kernel.accessAllowed) {\n",
              "        return;\n",
              "      }\n",
              "      const div = document.createElement('div');\n",
              "      const label = document.createElement('label');\n",
              "      label.textContent = `Downloading \"${filename}\": `;\n",
              "      div.appendChild(label);\n",
              "      const progress = document.createElement('progress');\n",
              "      progress.max = size;\n",
              "      div.appendChild(progress);\n",
              "      document.body.appendChild(div);\n",
              "\n",
              "      const buffers = [];\n",
              "      let downloaded = 0;\n",
              "\n",
              "      const channel = await google.colab.kernel.comms.open(id);\n",
              "      // Send a message to notify the kernel that we're ready.\n",
              "      channel.send({})\n",
              "\n",
              "      for await (const message of channel.messages) {\n",
              "        // Send a message to notify the kernel that we're ready.\n",
              "        channel.send({})\n",
              "        if (message.buffers) {\n",
              "          for (const buffer of message.buffers) {\n",
              "            buffers.push(buffer);\n",
              "            downloaded += buffer.byteLength;\n",
              "            progress.value = downloaded;\n",
              "          }\n",
              "        }\n",
              "      }\n",
              "      const blob = new Blob(buffers, {type: 'application/binary'});\n",
              "      const a = document.createElement('a');\n",
              "      a.href = window.URL.createObjectURL(blob);\n",
              "      a.download = filename;\n",
              "      div.appendChild(a);\n",
              "      a.click();\n",
              "      div.remove();\n",
              "    }\n",
              "  "
            ],
            "text/plain": [
              "<IPython.core.display.Javascript object>"
            ]
          },
          "metadata": {},
          "output_type": "display_data"
        },
        {
          "data": {
            "application/javascript": [
              "download(\"download_80a81dc3-3e33-45b1-95fa-998dd4b87847\", \"upregulated_pcrav_no_enrichment.csv\", 2311367)"
            ],
            "text/plain": [
              "<IPython.core.display.Javascript object>"
            ]
          },
          "metadata": {},
          "output_type": "display_data"
        }
      ],
      "source": [
        "### save to csv file\n",
        "#ufinalav.to_csv('upregulated_pcrav_no_enrichment.csv', sep=';')\n",
        "#from google.colab import files\n",
        "#files.download('regulated_pcrav_no_enrichment.csv')"
      ]
    },
    {
      "cell_type": "code",
      "execution_count": null,
      "metadata": {
        "colab": {
          "base_uri": "https://localhost:8080/",
          "height": 17
        },
        "id": "QDJcl7Q1WEaQ",
        "outputId": "795b9d4f-b747-40a9-e679-a9d3a938e78a"
      },
      "outputs": [
        {
          "data": {
            "application/javascript": [
              "\n",
              "    async function download(id, filename, size) {\n",
              "      if (!google.colab.kernel.accessAllowed) {\n",
              "        return;\n",
              "      }\n",
              "      const div = document.createElement('div');\n",
              "      const label = document.createElement('label');\n",
              "      label.textContent = `Downloading \"${filename}\": `;\n",
              "      div.appendChild(label);\n",
              "      const progress = document.createElement('progress');\n",
              "      progress.max = size;\n",
              "      div.appendChild(progress);\n",
              "      document.body.appendChild(div);\n",
              "\n",
              "      const buffers = [];\n",
              "      let downloaded = 0;\n",
              "\n",
              "      const channel = await google.colab.kernel.comms.open(id);\n",
              "      // Send a message to notify the kernel that we're ready.\n",
              "      channel.send({})\n",
              "\n",
              "      for await (const message of channel.messages) {\n",
              "        // Send a message to notify the kernel that we're ready.\n",
              "        channel.send({})\n",
              "        if (message.buffers) {\n",
              "          for (const buffer of message.buffers) {\n",
              "            buffers.push(buffer);\n",
              "            downloaded += buffer.byteLength;\n",
              "            progress.value = downloaded;\n",
              "          }\n",
              "        }\n",
              "      }\n",
              "      const blob = new Blob(buffers, {type: 'application/binary'});\n",
              "      const a = document.createElement('a');\n",
              "      a.href = window.URL.createObjectURL(blob);\n",
              "      a.download = filename;\n",
              "      div.appendChild(a);\n",
              "      a.click();\n",
              "      div.remove();\n",
              "    }\n",
              "  "
            ],
            "text/plain": [
              "<IPython.core.display.Javascript object>"
            ]
          },
          "metadata": {},
          "output_type": "display_data"
        },
        {
          "data": {
            "application/javascript": [
              "download(\"download_745f0653-15aa-47ac-bd36-7b446d65c706\", \"no_enrichment_av.xlsx\", 1536400)"
            ],
            "text/plain": [
              "<IPython.core.display.Javascript object>"
            ]
          },
          "metadata": {},
          "output_type": "display_data"
        }
      ],
      "source": [
        "### save to one excel file\n",
        "with pd.ExcelWriter('no_enrichment_av.xlsx') as writer:  \n",
        "    ufinalav.to_excel(writer, sheet_name='Upregulated')\n",
        "    dfinalav.to_excel(writer, sheet_name='Downregulated')\n",
        "\n",
        "from google.colab import files\n",
        "files.download('no_enrichment_av.xlsx')\n"
      ]
    },
    {
      "cell_type": "code",
      "execution_count": null,
      "metadata": {
        "id": "jsGfvZr1YhpA"
      },
      "outputs": [],
      "source": [
        ""
      ]
    },
    {
      "cell_type": "markdown",
      "metadata": {
        "id": "kXPiw_yzYc67"
      },
      "source": [
        "### Analyses for unique mirnas"
      ]
    },
    {
      "cell_type": "code",
      "execution_count": null,
      "metadata": {
        "colab": {
          "base_uri": "https://localhost:8080/",
          "height": 17
        },
        "id": "xj6kcZN0YnYZ",
        "outputId": "f1eb5d02-516a-4658-efbc-89bb8e4a080f"
      },
      "outputs": [
        {
          "data": {
            "application/javascript": [
              "\n",
              "    async function download(id, filename, size) {\n",
              "      if (!google.colab.kernel.accessAllowed) {\n",
              "        return;\n",
              "      }\n",
              "      const div = document.createElement('div');\n",
              "      const label = document.createElement('label');\n",
              "      label.textContent = `Downloading \"${filename}\": `;\n",
              "      div.appendChild(label);\n",
              "      const progress = document.createElement('progress');\n",
              "      progress.max = size;\n",
              "      div.appendChild(progress);\n",
              "      document.body.appendChild(div);\n",
              "\n",
              "      const buffers = [];\n",
              "      let downloaded = 0;\n",
              "\n",
              "      const channel = await google.colab.kernel.comms.open(id);\n",
              "      // Send a message to notify the kernel that we're ready.\n",
              "      channel.send({})\n",
              "\n",
              "      for await (const message of channel.messages) {\n",
              "        // Send a message to notify the kernel that we're ready.\n",
              "        channel.send({})\n",
              "        if (message.buffers) {\n",
              "          for (const buffer of message.buffers) {\n",
              "            buffers.push(buffer);\n",
              "            downloaded += buffer.byteLength;\n",
              "            progress.value = downloaded;\n",
              "          }\n",
              "        }\n",
              "      }\n",
              "      const blob = new Blob(buffers, {type: 'application/binary'});\n",
              "      const a = document.createElement('a');\n",
              "      a.href = window.URL.createObjectURL(blob);\n",
              "      a.download = filename;\n",
              "      div.appendChild(a);\n",
              "      a.click();\n",
              "      div.remove();\n",
              "    }\n",
              "  "
            ],
            "text/plain": [
              "<IPython.core.display.Javascript object>"
            ]
          },
          "metadata": {},
          "output_type": "display_data"
        },
        {
          "data": {
            "application/javascript": [
              "download(\"download_2d6f4fb5-100b-4dcb-8276-cd958a88b280\", \"unique_no_enrichment_av.xlsx\", 1011628)"
            ],
            "text/plain": [
              "<IPython.core.display.Javascript object>"
            ]
          },
          "metadata": {},
          "output_type": "display_data"
        }
      ],
      "source": [
        "### from table above we'll find out which mirnas target only up or downregulated genes, \n",
        "### and which have targets in both lists. Save to one excel file\n",
        "\n",
        "cross = [x for x in dmirs if x in umirs]\n",
        "#len(cross)\n",
        "ucross = ufinalav.loc[cross].drop(\"Average expression in pcr array file (1_2_3_K.csv)\", axis=1)\n",
        "dcross = dfinalav.loc[cross].drop(\"all targets\", axis=1)\n",
        "crossfinalav = pd.concat([ucross, dcross], axis=1)\n",
        "\n",
        "unique_dfinalav = dfinalav.drop(cross)\n",
        "unique_ufinalav = ufinalav.drop(cross)\n",
        "\n"
      ]
    },
    {
      "cell_type": "code",
      "execution_count": null,
      "metadata": {
        "id": "vlnV8qIXBSoo"
      },
      "outputs": [],
      "source": [
        "### write all the three tables in one excel file\n",
        "\n",
        "with pd.ExcelWriter('unique_no_enrichment_av.xlsx') as writer:  \n",
        "    unique_ufinalav.to_excel(writer, sheet_name='Upregulated')\n",
        "    unique_dfinalav.to_excel(writer, sheet_name='Downregulated')\n",
        "    crossfinalav.to_excel(writer, sheet_name='Overlaped')\n",
        "\n",
        "from google.colab import files\n",
        "files.download('unique_no_enrichment_av.xlsx')"
      ]
    },
    {
      "cell_type": "markdown",
      "metadata": {
        "id": "tESCIlKd5glJ"
      },
      "source": [
        "# Enrichment"
      ]
    },
    {
      "cell_type": "markdown",
      "metadata": {
        "id": "iuitLsWu31tT"
      },
      "source": [
        "##Get microRNAs "
      ]
    },
    {
      "cell_type": "markdown",
      "metadata": {
        "id": "eClkm6GF4Bd2"
      },
      "source": [
        "###Downregulated"
      ]
    },
    {
      "cell_type": "code",
      "execution_count": null,
      "metadata": {
        "colab": {
          "base_uri": "https://localhost:8080/"
        },
        "id": "tBW0_Cgga4ci",
        "outputId": "e9e97fb8-8743-4fad-e4bf-7b84dc198e92"
      },
      "outputs": [
        {
          "data": {
            "text/plain": [
              "57"
            ]
          },
          "execution_count": 9,
          "metadata": {},
          "output_type": "execute_result"
        }
      ],
      "source": [
        "### file containing downregulated genes selected after enrichment\n",
        "denr = pd.read_csv(\"/content/drive/MyDrive/Colab Notebooks/down_enrich.csv\", sep=';', header=None)\n",
        "denrg = list(denr[0])\n",
        "denrg = list(set(denrg))\n",
        "len(denrg)\n"
      ]
    },
    {
      "cell_type": "code",
      "execution_count": null,
      "metadata": {
        "colab": {
          "base_uri": "https://localhost:8080/"
        },
        "id": "wEmfoCC4ZEoA",
        "outputId": "f34a7b48-fa54-40dc-fcfa-0a4613eaf58b"
      },
      "outputs": [
        {
          "data": {
            "text/plain": [
              "682"
            ]
          },
          "execution_count": 10,
          "metadata": {},
          "output_type": "execute_result"
        }
      ],
      "source": [
        "### search for mirnas against downregulated genes\n",
        "dmir = []\n",
        "for i in denrg:\n",
        "    if i not in gmirind:\n",
        "      next\n",
        "    else:\n",
        "      a = list(gmirnet.loc[i, \"mir_id\"])\n",
        "      dmir = dmir + a\n",
        "\n",
        "dmir = set(dmir)\n",
        "dmir = list(dmir)\n",
        "len(dmir)"
      ]
    },
    {
      "cell_type": "code",
      "execution_count": null,
      "metadata": {
        "id": "G1mY4xRNYs3j"
      },
      "outputs": [],
      "source": [
        "### get all targets of mirnas against downregulated genes\n",
        "dtargets = {}\n",
        "for i in dmir:\n",
        "    if i not in mmirind:\n",
        "      next\n",
        "    else:\n",
        "      a = list(mmirnet.loc[i, \"symbol\"])\n",
        "      dtargets[i] = a\n",
        "dtg = pd.Series(dtargets).to_frame('all targets')"
      ]
    },
    {
      "cell_type": "code",
      "execution_count": null,
      "metadata": {
        "colab": {
          "base_uri": "https://localhost:8080/",
          "height": 797
        },
        "id": "RXvX8QhQZWbo",
        "outputId": "52616c27-1c42-4164-9b2a-785d0e83d252"
      },
      "outputs": [
        {
          "data": {
            "text/html": [
              "\n",
              "  <div id=\"df-c6e8e580-1ffb-4e98-bb62-957d7393dcad\">\n",
              "    <div class=\"colab-df-container\">\n",
              "      <div>\n",
              "<style scoped>\n",
              "    .dataframe tbody tr th:only-of-type {\n",
              "        vertical-align: middle;\n",
              "    }\n",
              "\n",
              "    .dataframe tbody tr th {\n",
              "        vertical-align: top;\n",
              "    }\n",
              "\n",
              "    .dataframe thead th {\n",
              "        text-align: right;\n",
              "    }\n",
              "</style>\n",
              "<table border=\"1\" class=\"dataframe\">\n",
              "  <thead>\n",
              "    <tr style=\"text-align: right;\">\n",
              "      <th></th>\n",
              "      <th>all targets</th>\n",
              "      <th>downregulated</th>\n",
              "      <th>number of all targets</th>\n",
              "      <th>number of downregulated targets</th>\n",
              "      <th>percent of downregulated among all, %</th>\n",
              "    </tr>\n",
              "  </thead>\n",
              "  <tbody>\n",
              "    <tr>\n",
              "      <th>hsa-mir-664b-3p</th>\n",
              "      <td>[APP, BTD, CALM1, TNFSF8, CD44, CHD4, COX6A1, ...</td>\n",
              "      <td>[SYNM, CYFIP2]</td>\n",
              "      <td>162</td>\n",
              "      <td>2</td>\n",
              "      <td>1.234568</td>\n",
              "    </tr>\n",
              "    <tr>\n",
              "      <th>hsa-mir-367-5p</th>\n",
              "      <td>[ABCF1, ALOX5AP, ATP5F1, BTD, SIGLEC6, CDH13, ...</td>\n",
              "      <td>[MYH11]</td>\n",
              "      <td>162</td>\n",
              "      <td>1</td>\n",
              "      <td>0.617284</td>\n",
              "    </tr>\n",
              "    <tr>\n",
              "      <th>hsa-mir-587</th>\n",
              "      <td>[AK2, BCL2L1, RUNX1T1, SEPT7, CDH2, CSRP1, CYP...</td>\n",
              "      <td>[CSRP1, MYLK]</td>\n",
              "      <td>105</td>\n",
              "      <td>2</td>\n",
              "      <td>1.904762</td>\n",
              "    </tr>\n",
              "    <tr>\n",
              "      <th>hsa-mir-6805-5p</th>\n",
              "      <td>[ALDOA, APEX1, ZFHX3, RUNX3, CDKN1A, CFL1, AP1...</td>\n",
              "      <td>[PRELP]</td>\n",
              "      <td>102</td>\n",
              "      <td>1</td>\n",
              "      <td>0.980392</td>\n",
              "    </tr>\n",
              "    <tr>\n",
              "      <th>hsa-mir-4481</th>\n",
              "      <td>[ALDOA, ALPI, ANG, CLDN4, ECE1, EFNA3, EIF5A, ...</td>\n",
              "      <td>[MYH11]</td>\n",
              "      <td>127</td>\n",
              "      <td>1</td>\n",
              "      <td>0.787402</td>\n",
              "    </tr>\n",
              "    <tr>\n",
              "      <th>...</th>\n",
              "      <td>...</td>\n",
              "      <td>...</td>\n",
              "      <td>...</td>\n",
              "      <td>...</td>\n",
              "      <td>...</td>\n",
              "    </tr>\n",
              "    <tr>\n",
              "      <th>hsa-mir-3158-5p</th>\n",
              "      <td>[ADD1, APOA1, PHOX2A, BTG1, CAPN1, CLDN4, CRKL...</td>\n",
              "      <td>[VWA1]</td>\n",
              "      <td>102</td>\n",
              "      <td>1</td>\n",
              "      <td>0.980392</td>\n",
              "    </tr>\n",
              "    <tr>\n",
              "      <th>hsa-mir-181d-5p</th>\n",
              "      <td>[ACYP1, ADCY9, GRK2, ALDH9A1, ARF6, RHOG, ARRB...</td>\n",
              "      <td>[SORT1]</td>\n",
              "      <td>288</td>\n",
              "      <td>1</td>\n",
              "      <td>0.347222</td>\n",
              "    </tr>\n",
              "    <tr>\n",
              "      <th>hsa-mir-6747-3p</th>\n",
              "      <td>[ABL2, ACO1, ADD1, GRK3, ABCD2, ALDOA, XIAP, A...</td>\n",
              "      <td>[KCNMB1]</td>\n",
              "      <td>501</td>\n",
              "      <td>1</td>\n",
              "      <td>0.199601</td>\n",
              "    </tr>\n",
              "    <tr>\n",
              "      <th>hsa-mir-4433a-3p</th>\n",
              "      <td>[ACOX1, AMH, APAF1, CA6, CBFA2T3, ENTPD5, CDC5...</td>\n",
              "      <td>[KCNMB1]</td>\n",
              "      <td>373</td>\n",
              "      <td>1</td>\n",
              "      <td>0.268097</td>\n",
              "    </tr>\n",
              "    <tr>\n",
              "      <th>hsa-mir-1269b</th>\n",
              "      <td>[ACACA, CMKLR1, E2F6, EN2, KCNMB1, MGAT5, OPHN...</td>\n",
              "      <td>[KCNMB1]</td>\n",
              "      <td>36</td>\n",
              "      <td>1</td>\n",
              "      <td>2.777778</td>\n",
              "    </tr>\n",
              "  </tbody>\n",
              "</table>\n",
              "<p>670 rows × 5 columns</p>\n",
              "</div>\n",
              "      <button class=\"colab-df-convert\" onclick=\"convertToInteractive('df-c6e8e580-1ffb-4e98-bb62-957d7393dcad')\"\n",
              "              title=\"Convert this dataframe to an interactive table.\"\n",
              "              style=\"display:none;\">\n",
              "        \n",
              "  <svg xmlns=\"http://www.w3.org/2000/svg\" height=\"24px\"viewBox=\"0 0 24 24\"\n",
              "       width=\"24px\">\n",
              "    <path d=\"M0 0h24v24H0V0z\" fill=\"none\"/>\n",
              "    <path d=\"M18.56 5.44l.94 2.06.94-2.06 2.06-.94-2.06-.94-.94-2.06-.94 2.06-2.06.94zm-11 1L8.5 8.5l.94-2.06 2.06-.94-2.06-.94L8.5 2.5l-.94 2.06-2.06.94zm10 10l.94 2.06.94-2.06 2.06-.94-2.06-.94-.94-2.06-.94 2.06-2.06.94z\"/><path d=\"M17.41 7.96l-1.37-1.37c-.4-.4-.92-.59-1.43-.59-.52 0-1.04.2-1.43.59L10.3 9.45l-7.72 7.72c-.78.78-.78 2.05 0 2.83L4 21.41c.39.39.9.59 1.41.59.51 0 1.02-.2 1.41-.59l7.78-7.78 2.81-2.81c.8-.78.8-2.07 0-2.86zM5.41 20L4 18.59l7.72-7.72 1.47 1.35L5.41 20z\"/>\n",
              "  </svg>\n",
              "      </button>\n",
              "      \n",
              "  <style>\n",
              "    .colab-df-container {\n",
              "      display:flex;\n",
              "      flex-wrap:wrap;\n",
              "      gap: 12px;\n",
              "    }\n",
              "\n",
              "    .colab-df-convert {\n",
              "      background-color: #E8F0FE;\n",
              "      border: none;\n",
              "      border-radius: 50%;\n",
              "      cursor: pointer;\n",
              "      display: none;\n",
              "      fill: #1967D2;\n",
              "      height: 32px;\n",
              "      padding: 0 0 0 0;\n",
              "      width: 32px;\n",
              "    }\n",
              "\n",
              "    .colab-df-convert:hover {\n",
              "      background-color: #E2EBFA;\n",
              "      box-shadow: 0px 1px 2px rgba(60, 64, 67, 0.3), 0px 1px 3px 1px rgba(60, 64, 67, 0.15);\n",
              "      fill: #174EA6;\n",
              "    }\n",
              "\n",
              "    [theme=dark] .colab-df-convert {\n",
              "      background-color: #3B4455;\n",
              "      fill: #D2E3FC;\n",
              "    }\n",
              "\n",
              "    [theme=dark] .colab-df-convert:hover {\n",
              "      background-color: #434B5C;\n",
              "      box-shadow: 0px 1px 3px 1px rgba(0, 0, 0, 0.15);\n",
              "      filter: drop-shadow(0px 1px 2px rgba(0, 0, 0, 0.3));\n",
              "      fill: #FFFFFF;\n",
              "    }\n",
              "  </style>\n",
              "\n",
              "      <script>\n",
              "        const buttonEl =\n",
              "          document.querySelector('#df-c6e8e580-1ffb-4e98-bb62-957d7393dcad button.colab-df-convert');\n",
              "        buttonEl.style.display =\n",
              "          google.colab.kernel.accessAllowed ? 'block' : 'none';\n",
              "\n",
              "        async function convertToInteractive(key) {\n",
              "          const element = document.querySelector('#df-c6e8e580-1ffb-4e98-bb62-957d7393dcad');\n",
              "          const dataTable =\n",
              "            await google.colab.kernel.invokeFunction('convertToInteractive',\n",
              "                                                     [key], {});\n",
              "          if (!dataTable) return;\n",
              "\n",
              "          const docLinkHtml = 'Like what you see? Visit the ' +\n",
              "            '<a target=\"_blank\" href=https://colab.research.google.com/notebooks/data_table.ipynb>data table notebook</a>'\n",
              "            + ' to learn more about interactive tables.';\n",
              "          element.innerHTML = '';\n",
              "          dataTable['output_type'] = 'display_data';\n",
              "          await google.colab.output.renderOutput(dataTable, element);\n",
              "          const docLink = document.createElement('div');\n",
              "          docLink.innerHTML = docLinkHtml;\n",
              "          element.appendChild(docLink);\n",
              "        }\n",
              "      </script>\n",
              "    </div>\n",
              "  </div>\n",
              "  "
            ],
            "text/plain": [
              "                                                        all targets  \\\n",
              "hsa-mir-664b-3p   [APP, BTD, CALM1, TNFSF8, CD44, CHD4, COX6A1, ...   \n",
              "hsa-mir-367-5p    [ABCF1, ALOX5AP, ATP5F1, BTD, SIGLEC6, CDH13, ...   \n",
              "hsa-mir-587       [AK2, BCL2L1, RUNX1T1, SEPT7, CDH2, CSRP1, CYP...   \n",
              "hsa-mir-6805-5p   [ALDOA, APEX1, ZFHX3, RUNX3, CDKN1A, CFL1, AP1...   \n",
              "hsa-mir-4481      [ALDOA, ALPI, ANG, CLDN4, ECE1, EFNA3, EIF5A, ...   \n",
              "...                                                             ...   \n",
              "hsa-mir-3158-5p   [ADD1, APOA1, PHOX2A, BTG1, CAPN1, CLDN4, CRKL...   \n",
              "hsa-mir-181d-5p   [ACYP1, ADCY9, GRK2, ALDH9A1, ARF6, RHOG, ARRB...   \n",
              "hsa-mir-6747-3p   [ABL2, ACO1, ADD1, GRK3, ABCD2, ALDOA, XIAP, A...   \n",
              "hsa-mir-4433a-3p  [ACOX1, AMH, APAF1, CA6, CBFA2T3, ENTPD5, CDC5...   \n",
              "hsa-mir-1269b     [ACACA, CMKLR1, E2F6, EN2, KCNMB1, MGAT5, OPHN...   \n",
              "\n",
              "                   downregulated  number of all targets  \\\n",
              "hsa-mir-664b-3p   [SYNM, CYFIP2]                    162   \n",
              "hsa-mir-367-5p           [MYH11]                    162   \n",
              "hsa-mir-587        [CSRP1, MYLK]                    105   \n",
              "hsa-mir-6805-5p          [PRELP]                    102   \n",
              "hsa-mir-4481             [MYH11]                    127   \n",
              "...                          ...                    ...   \n",
              "hsa-mir-3158-5p           [VWA1]                    102   \n",
              "hsa-mir-181d-5p          [SORT1]                    288   \n",
              "hsa-mir-6747-3p         [KCNMB1]                    501   \n",
              "hsa-mir-4433a-3p        [KCNMB1]                    373   \n",
              "hsa-mir-1269b           [KCNMB1]                     36   \n",
              "\n",
              "                  number of downregulated targets  \\\n",
              "hsa-mir-664b-3p                                 2   \n",
              "hsa-mir-367-5p                                  1   \n",
              "hsa-mir-587                                     2   \n",
              "hsa-mir-6805-5p                                 1   \n",
              "hsa-mir-4481                                    1   \n",
              "...                                           ...   \n",
              "hsa-mir-3158-5p                                 1   \n",
              "hsa-mir-181d-5p                                 1   \n",
              "hsa-mir-6747-3p                                 1   \n",
              "hsa-mir-4433a-3p                                1   \n",
              "hsa-mir-1269b                                   1   \n",
              "\n",
              "                  percent of downregulated among all, %  \n",
              "hsa-mir-664b-3p                                1.234568  \n",
              "hsa-mir-367-5p                                 0.617284  \n",
              "hsa-mir-587                                    1.904762  \n",
              "hsa-mir-6805-5p                                0.980392  \n",
              "hsa-mir-4481                                   0.787402  \n",
              "...                                                 ...  \n",
              "hsa-mir-3158-5p                                0.980392  \n",
              "hsa-mir-181d-5p                                0.347222  \n",
              "hsa-mir-6747-3p                                0.199601  \n",
              "hsa-mir-4433a-3p                               0.268097  \n",
              "hsa-mir-1269b                                  2.777778  \n",
              "\n",
              "[670 rows x 5 columns]"
            ]
          },
          "execution_count": 12,
          "metadata": {},
          "output_type": "execute_result"
        }
      ],
      "source": [
        "### count downregulated genes among all targets of a particular microrna\n",
        "dtgind = list(dtg.index)\n",
        "dpercent = {}\n",
        "dcross = {}\n",
        "dallnum = {}\n",
        "dcrossnum = {}\n",
        "for i in dtgind:\n",
        "  allgenes = list(dtg.loc[i])[0]\n",
        "  dallnum[i] = len(allgenes)\n",
        "  cross = [x for x in allgenes if x in denrg]\n",
        "  dcross[i] = cross\n",
        "  dcrossnum[i] = len(cross)\n",
        "  percent = (len(cross)/len(allgenes)) * 100\n",
        "  dpercent[i] = percent\n",
        "\n",
        "dprc = pd.Series(dpercent).to_frame('percent of downregulated among all, %')\n",
        "dcr = pd.Series(dcross).to_frame('downregulated')\n",
        "dan = pd.Series(dallnum).to_frame('number of all targets')\n",
        "dcn = pd.Series(dcrossnum).to_frame('number of downregulated targets')\n",
        "dfinal = pd.concat([dtg, dcr, dan, dcn, dprc], axis=1)\n",
        "dfinal"
      ]
    },
    {
      "cell_type": "markdown",
      "metadata": {
        "id": "9GxnPzaZ5ctm"
      },
      "source": [
        "###Upregulated"
      ]
    },
    {
      "cell_type": "code",
      "execution_count": null,
      "metadata": {
        "colab": {
          "base_uri": "https://localhost:8080/"
        },
        "id": "eEYolT1x5f-c",
        "outputId": "59142be2-e566-485d-c86e-dbd0d510ccdd"
      },
      "outputs": [
        {
          "data": {
            "text/plain": [
              "64"
            ]
          },
          "execution_count": 13,
          "metadata": {},
          "output_type": "execute_result"
        }
      ],
      "source": [
        "### file containing upregulated genes selected after enrichment\n",
        "uenr = pd.read_csv(\"/content/drive/MyDrive/Colab Notebooks/up_enrich.csv\", sep=';', header=None)\n",
        "uenrg = list(uenr[0])\n",
        "uenrg = list(set(uenrg))\n",
        "len(uenrg)"
      ]
    },
    {
      "cell_type": "code",
      "execution_count": null,
      "metadata": {
        "colab": {
          "base_uri": "https://localhost:8080/"
        },
        "id": "LbCEutG-546Z",
        "outputId": "54becb86-58aa-496f-911b-e6e166b64fe9"
      },
      "outputs": [
        {
          "data": {
            "text/plain": [
              "747"
            ]
          },
          "execution_count": 14,
          "metadata": {},
          "output_type": "execute_result"
        }
      ],
      "source": [
        "### search for mirnas against upregulated genes\n",
        "umir = []\n",
        "for i in uenrg:\n",
        "    if i not in gmirind:\n",
        "      next\n",
        "    else:\n",
        "      a = list(gmirnet.loc[i, \"mir_id\"])\n",
        "      umir = umir + a\n",
        "\n",
        "umir = set(umir)\n",
        "umir = list(umir)\n",
        "len(umir)"
      ]
    },
    {
      "cell_type": "code",
      "execution_count": null,
      "metadata": {
        "id": "tMTt2YRf6MOF"
      },
      "outputs": [],
      "source": [
        "### get all targets of mirnas against upregulated genes\n",
        "utargets = {}\n",
        "for i in umir:\n",
        "    if i not in mmirind:\n",
        "      next\n",
        "    else:\n",
        "      a = list(mmirnet.loc[i, \"symbol\"])\n",
        "      utargets[i] = a\n",
        "utg = pd.Series(utargets).to_frame('all targets')"
      ]
    },
    {
      "cell_type": "code",
      "execution_count": null,
      "metadata": {
        "colab": {
          "base_uri": "https://localhost:8080/"
        },
        "id": "79ZNK-jo6fPn",
        "outputId": "1d8b4d8b-671c-45b4-ff4e-478606f3f186"
      },
      "outputs": [
        {
          "data": {
            "text/html": [
              "\n",
              "  <div id=\"df-9571176b-037e-4823-9150-f0bd76c613a4\">\n",
              "    <div class=\"colab-df-container\">\n",
              "      <div>\n",
              "<style scoped>\n",
              "    .dataframe tbody tr th:only-of-type {\n",
              "        vertical-align: middle;\n",
              "    }\n",
              "\n",
              "    .dataframe tbody tr th {\n",
              "        vertical-align: top;\n",
              "    }\n",
              "\n",
              "    .dataframe thead th {\n",
              "        text-align: right;\n",
              "    }\n",
              "</style>\n",
              "<table border=\"1\" class=\"dataframe\">\n",
              "  <thead>\n",
              "    <tr style=\"text-align: right;\">\n",
              "      <th></th>\n",
              "      <th>all targets</th>\n",
              "      <th>upregulated</th>\n",
              "      <th>number of all targets</th>\n",
              "      <th>number of upregulated targets</th>\n",
              "      <th>percent of upregulated among all, %</th>\n",
              "    </tr>\n",
              "  </thead>\n",
              "  <tbody>\n",
              "    <tr>\n",
              "      <th>hsa-mir-664b-3p</th>\n",
              "      <td>[APP, BTD, CALM1, TNFSF8, CD44, CHD4, COX6A1, ...</td>\n",
              "      <td>[HLA-DRB1]</td>\n",
              "      <td>162</td>\n",
              "      <td>1</td>\n",
              "      <td>0.617284</td>\n",
              "    </tr>\n",
              "    <tr>\n",
              "      <th>hsa-mir-367-5p</th>\n",
              "      <td>[ABCF1, ALOX5AP, ATP5F1, BTD, SIGLEC6, CDH13, ...</td>\n",
              "      <td>[COL13A1]</td>\n",
              "      <td>162</td>\n",
              "      <td>1</td>\n",
              "      <td>0.617284</td>\n",
              "    </tr>\n",
              "    <tr>\n",
              "      <th>hsa-mir-190b</th>\n",
              "      <td>[ADCYAP1R1, BCL2, KLF6, DAB2, GPC5, FOXN2, IGF...</td>\n",
              "      <td>[IGF1]</td>\n",
              "      <td>62</td>\n",
              "      <td>1</td>\n",
              "      <td>1.612903</td>\n",
              "    </tr>\n",
              "    <tr>\n",
              "      <th>hsa-mir-6805-5p</th>\n",
              "      <td>[ALDOA, APEX1, ZFHX3, RUNX3, CDKN1A, CFL1, AP1...</td>\n",
              "      <td>[HMCN1]</td>\n",
              "      <td>102</td>\n",
              "      <td>1</td>\n",
              "      <td>0.980392</td>\n",
              "    </tr>\n",
              "    <tr>\n",
              "      <th>hsa-mir-4518</th>\n",
              "      <td>[ASCL2, CALM3, CALR, CAPZB, EEF2, GABRA5, GNA1...</td>\n",
              "      <td>[MARCKSL1]</td>\n",
              "      <td>94</td>\n",
              "      <td>1</td>\n",
              "      <td>1.063830</td>\n",
              "    </tr>\n",
              "    <tr>\n",
              "      <th>...</th>\n",
              "      <td>...</td>\n",
              "      <td>...</td>\n",
              "      <td>...</td>\n",
              "      <td>...</td>\n",
              "      <td>...</td>\n",
              "    </tr>\n",
              "    <tr>\n",
              "      <th>hsa-mir-186-5p</th>\n",
              "      <td>[ACVR1, ACVR2A, AP1G1, ALDH1B1, AMD1, APC, APE...</td>\n",
              "      <td>[GJA1, BHLHE41]</td>\n",
              "      <td>753</td>\n",
              "      <td>2</td>\n",
              "      <td>0.265604</td>\n",
              "    </tr>\n",
              "    <tr>\n",
              "      <th>hsa-mir-6126</th>\n",
              "      <td>[ARRB1, MRPL49, CANX, CD81, NKX2-5, FTH1, NR6A...</td>\n",
              "      <td>[CLDN11]</td>\n",
              "      <td>70</td>\n",
              "      <td>1</td>\n",
              "      <td>1.428571</td>\n",
              "    </tr>\n",
              "    <tr>\n",
              "      <th>hsa-mir-4492</th>\n",
              "      <td>[ABL1, CACNA1C, SERPINH1, CCNF, CDK2, COL1A1, ...</td>\n",
              "      <td>[HMOX1]</td>\n",
              "      <td>119</td>\n",
              "      <td>1</td>\n",
              "      <td>0.840336</td>\n",
              "    </tr>\n",
              "    <tr>\n",
              "      <th>hsa-mir-4433a-3p</th>\n",
              "      <td>[ACOX1, AMH, APAF1, CA6, CBFA2T3, ENTPD5, CDC5...</td>\n",
              "      <td>[CTSS, LPXN]</td>\n",
              "      <td>373</td>\n",
              "      <td>2</td>\n",
              "      <td>0.536193</td>\n",
              "    </tr>\n",
              "    <tr>\n",
              "      <th>hsa-mir-155-5p</th>\n",
              "      <td>[ACOX1, ADAM10, ADD3, ADH5, AP1G1, AGL, AGTR1,...</td>\n",
              "      <td>[RUNX2, CDKN2A]</td>\n",
              "      <td>904</td>\n",
              "      <td>2</td>\n",
              "      <td>0.221239</td>\n",
              "    </tr>\n",
              "  </tbody>\n",
              "</table>\n",
              "<p>730 rows × 5 columns</p>\n",
              "</div>\n",
              "      <button class=\"colab-df-convert\" onclick=\"convertToInteractive('df-9571176b-037e-4823-9150-f0bd76c613a4')\"\n",
              "              title=\"Convert this dataframe to an interactive table.\"\n",
              "              style=\"display:none;\">\n",
              "        \n",
              "  <svg xmlns=\"http://www.w3.org/2000/svg\" height=\"24px\"viewBox=\"0 0 24 24\"\n",
              "       width=\"24px\">\n",
              "    <path d=\"M0 0h24v24H0V0z\" fill=\"none\"/>\n",
              "    <path d=\"M18.56 5.44l.94 2.06.94-2.06 2.06-.94-2.06-.94-.94-2.06-.94 2.06-2.06.94zm-11 1L8.5 8.5l.94-2.06 2.06-.94-2.06-.94L8.5 2.5l-.94 2.06-2.06.94zm10 10l.94 2.06.94-2.06 2.06-.94-2.06-.94-.94-2.06-.94 2.06-2.06.94z\"/><path d=\"M17.41 7.96l-1.37-1.37c-.4-.4-.92-.59-1.43-.59-.52 0-1.04.2-1.43.59L10.3 9.45l-7.72 7.72c-.78.78-.78 2.05 0 2.83L4 21.41c.39.39.9.59 1.41.59.51 0 1.02-.2 1.41-.59l7.78-7.78 2.81-2.81c.8-.78.8-2.07 0-2.86zM5.41 20L4 18.59l7.72-7.72 1.47 1.35L5.41 20z\"/>\n",
              "  </svg>\n",
              "      </button>\n",
              "      \n",
              "  <style>\n",
              "    .colab-df-container {\n",
              "      display:flex;\n",
              "      flex-wrap:wrap;\n",
              "      gap: 12px;\n",
              "    }\n",
              "\n",
              "    .colab-df-convert {\n",
              "      background-color: #E8F0FE;\n",
              "      border: none;\n",
              "      border-radius: 50%;\n",
              "      cursor: pointer;\n",
              "      display: none;\n",
              "      fill: #1967D2;\n",
              "      height: 32px;\n",
              "      padding: 0 0 0 0;\n",
              "      width: 32px;\n",
              "    }\n",
              "\n",
              "    .colab-df-convert:hover {\n",
              "      background-color: #E2EBFA;\n",
              "      box-shadow: 0px 1px 2px rgba(60, 64, 67, 0.3), 0px 1px 3px 1px rgba(60, 64, 67, 0.15);\n",
              "      fill: #174EA6;\n",
              "    }\n",
              "\n",
              "    [theme=dark] .colab-df-convert {\n",
              "      background-color: #3B4455;\n",
              "      fill: #D2E3FC;\n",
              "    }\n",
              "\n",
              "    [theme=dark] .colab-df-convert:hover {\n",
              "      background-color: #434B5C;\n",
              "      box-shadow: 0px 1px 3px 1px rgba(0, 0, 0, 0.15);\n",
              "      filter: drop-shadow(0px 1px 2px rgba(0, 0, 0, 0.3));\n",
              "      fill: #FFFFFF;\n",
              "    }\n",
              "  </style>\n",
              "\n",
              "      <script>\n",
              "        const buttonEl =\n",
              "          document.querySelector('#df-9571176b-037e-4823-9150-f0bd76c613a4 button.colab-df-convert');\n",
              "        buttonEl.style.display =\n",
              "          google.colab.kernel.accessAllowed ? 'block' : 'none';\n",
              "\n",
              "        async function convertToInteractive(key) {\n",
              "          const element = document.querySelector('#df-9571176b-037e-4823-9150-f0bd76c613a4');\n",
              "          const dataTable =\n",
              "            await google.colab.kernel.invokeFunction('convertToInteractive',\n",
              "                                                     [key], {});\n",
              "          if (!dataTable) return;\n",
              "\n",
              "          const docLinkHtml = 'Like what you see? Visit the ' +\n",
              "            '<a target=\"_blank\" href=https://colab.research.google.com/notebooks/data_table.ipynb>data table notebook</a>'\n",
              "            + ' to learn more about interactive tables.';\n",
              "          element.innerHTML = '';\n",
              "          dataTable['output_type'] = 'display_data';\n",
              "          await google.colab.output.renderOutput(dataTable, element);\n",
              "          const docLink = document.createElement('div');\n",
              "          docLink.innerHTML = docLinkHtml;\n",
              "          element.appendChild(docLink);\n",
              "        }\n",
              "      </script>\n",
              "    </div>\n",
              "  </div>\n",
              "  "
            ],
            "text/plain": [
              "                                                        all targets  \\\n",
              "hsa-mir-664b-3p   [APP, BTD, CALM1, TNFSF8, CD44, CHD4, COX6A1, ...   \n",
              "hsa-mir-367-5p    [ABCF1, ALOX5AP, ATP5F1, BTD, SIGLEC6, CDH13, ...   \n",
              "hsa-mir-190b      [ADCYAP1R1, BCL2, KLF6, DAB2, GPC5, FOXN2, IGF...   \n",
              "hsa-mir-6805-5p   [ALDOA, APEX1, ZFHX3, RUNX3, CDKN1A, CFL1, AP1...   \n",
              "hsa-mir-4518      [ASCL2, CALM3, CALR, CAPZB, EEF2, GABRA5, GNA1...   \n",
              "...                                                             ...   \n",
              "hsa-mir-186-5p    [ACVR1, ACVR2A, AP1G1, ALDH1B1, AMD1, APC, APE...   \n",
              "hsa-mir-6126      [ARRB1, MRPL49, CANX, CD81, NKX2-5, FTH1, NR6A...   \n",
              "hsa-mir-4492      [ABL1, CACNA1C, SERPINH1, CCNF, CDK2, COL1A1, ...   \n",
              "hsa-mir-4433a-3p  [ACOX1, AMH, APAF1, CA6, CBFA2T3, ENTPD5, CDC5...   \n",
              "hsa-mir-155-5p    [ACOX1, ADAM10, ADD3, ADH5, AP1G1, AGL, AGTR1,...   \n",
              "\n",
              "                      upregulated  number of all targets  \\\n",
              "hsa-mir-664b-3p        [HLA-DRB1]                    162   \n",
              "hsa-mir-367-5p          [COL13A1]                    162   \n",
              "hsa-mir-190b               [IGF1]                     62   \n",
              "hsa-mir-6805-5p           [HMCN1]                    102   \n",
              "hsa-mir-4518           [MARCKSL1]                     94   \n",
              "...                           ...                    ...   \n",
              "hsa-mir-186-5p    [GJA1, BHLHE41]                    753   \n",
              "hsa-mir-6126             [CLDN11]                     70   \n",
              "hsa-mir-4492              [HMOX1]                    119   \n",
              "hsa-mir-4433a-3p     [CTSS, LPXN]                    373   \n",
              "hsa-mir-155-5p    [RUNX2, CDKN2A]                    904   \n",
              "\n",
              "                  number of upregulated targets  \\\n",
              "hsa-mir-664b-3p                               1   \n",
              "hsa-mir-367-5p                                1   \n",
              "hsa-mir-190b                                  1   \n",
              "hsa-mir-6805-5p                               1   \n",
              "hsa-mir-4518                                  1   \n",
              "...                                         ...   \n",
              "hsa-mir-186-5p                                2   \n",
              "hsa-mir-6126                                  1   \n",
              "hsa-mir-4492                                  1   \n",
              "hsa-mir-4433a-3p                              2   \n",
              "hsa-mir-155-5p                                2   \n",
              "\n",
              "                  percent of upregulated among all, %  \n",
              "hsa-mir-664b-3p                              0.617284  \n",
              "hsa-mir-367-5p                               0.617284  \n",
              "hsa-mir-190b                                 1.612903  \n",
              "hsa-mir-6805-5p                              0.980392  \n",
              "hsa-mir-4518                                 1.063830  \n",
              "...                                               ...  \n",
              "hsa-mir-186-5p                               0.265604  \n",
              "hsa-mir-6126                                 1.428571  \n",
              "hsa-mir-4492                                 0.840336  \n",
              "hsa-mir-4433a-3p                             0.536193  \n",
              "hsa-mir-155-5p                               0.221239  \n",
              "\n",
              "[730 rows x 5 columns]"
            ]
          },
          "execution_count": 16,
          "metadata": {},
          "output_type": "execute_result"
        }
      ],
      "source": [
        "### count upregulated genes among all targets of a particular microrna\n",
        "utgind = list(utg.index)\n",
        "upercent = {}\n",
        "ucross = {}\n",
        "uallnum = {}\n",
        "ucrossnum = {}\n",
        "for i in utgind:\n",
        "  allgenes = list(utg.loc[i])[0]\n",
        "  uallnum[i] = len(allgenes)\n",
        "  cross = [x for x in allgenes if x in uenrg]\n",
        "  ucross[i] = cross\n",
        "  ucrossnum[i] = len(cross)\n",
        "  percent = (len(cross)/len(allgenes)) * 100\n",
        "  upercent[i] = percent\n",
        "\n",
        "uprc = pd.Series(upercent).to_frame('percent of upregulated among all, %')\n",
        "ucr = pd.Series(ucross).to_frame('upregulated')\n",
        "uan = pd.Series(uallnum).to_frame('number of all targets')\n",
        "ucn = pd.Series(ucrossnum).to_frame('number of upregulated targets')\n",
        "ufinal = pd.concat([utg, ucr, uan, ucn, uprc], axis=1)\n",
        "ufinal"
      ]
    },
    {
      "cell_type": "markdown",
      "metadata": {
        "id": "jaDL50lh7MG8"
      },
      "source": [
        "###Overlapping and unique microRNAs"
      ]
    },
    {
      "cell_type": "code",
      "execution_count": null,
      "metadata": {
        "colab": {
          "base_uri": "https://localhost:8080/"
        },
        "id": "nBp7dRsk7VcY",
        "outputId": "009f4473-e59d-467f-bce7-0f46762e8d47"
      },
      "outputs": [
        {
          "name": "stdout",
          "output_type": "stream",
          "text": [
            "289\n"
          ]
        }
      ],
      "source": [
        "### from table above we'll find out which mirnas target only up or downregulated genes, \n",
        "### and which have targets in both lists\n",
        "\n",
        "cross = [x for x in dmir if x in umir and x in mmirind]\n",
        "print(len(cross))\n",
        "ucross = ufinal.loc[cross]\n",
        "dcross = dfinal.loc[cross].drop(\"all targets\", axis=1)\n",
        "crossfinal = pd.concat([ucross, dcross], axis=1)\n",
        "\n",
        "unique_dfinal = dfinal.drop(cross)\n",
        "unique_ufinal = ufinal.drop(cross)"
      ]
    },
    {
      "cell_type": "code",
      "execution_count": null,
      "metadata": {
        "colab": {
          "base_uri": "https://localhost:8080/"
        },
        "id": "nW7gC4r0Cas1",
        "outputId": "f6da281e-cc21-463e-d09c-5fdfb52be5fe"
      },
      "outputs": [
        {
          "data": {
            "application/javascript": [
              "\n",
              "    async function download(id, filename, size) {\n",
              "      if (!google.colab.kernel.accessAllowed) {\n",
              "        return;\n",
              "      }\n",
              "      const div = document.createElement('div');\n",
              "      const label = document.createElement('label');\n",
              "      label.textContent = `Downloading \"${filename}\": `;\n",
              "      div.appendChild(label);\n",
              "      const progress = document.createElement('progress');\n",
              "      progress.max = size;\n",
              "      div.appendChild(progress);\n",
              "      document.body.appendChild(div);\n",
              "\n",
              "      const buffers = [];\n",
              "      let downloaded = 0;\n",
              "\n",
              "      const channel = await google.colab.kernel.comms.open(id);\n",
              "      // Send a message to notify the kernel that we're ready.\n",
              "      channel.send({})\n",
              "\n",
              "      for await (const message of channel.messages) {\n",
              "        // Send a message to notify the kernel that we're ready.\n",
              "        channel.send({})\n",
              "        if (message.buffers) {\n",
              "          for (const buffer of message.buffers) {\n",
              "            buffers.push(buffer);\n",
              "            downloaded += buffer.byteLength;\n",
              "            progress.value = downloaded;\n",
              "          }\n",
              "        }\n",
              "      }\n",
              "      const blob = new Blob(buffers, {type: 'application/binary'});\n",
              "      const a = document.createElement('a');\n",
              "      a.href = window.URL.createObjectURL(blob);\n",
              "      a.download = filename;\n",
              "      div.appendChild(a);\n",
              "      a.click();\n",
              "      div.remove();\n",
              "    }\n",
              "  "
            ],
            "text/plain": [
              "<IPython.core.display.Javascript object>"
            ]
          },
          "metadata": {},
          "output_type": "display_data"
        },
        {
          "data": {
            "application/javascript": [
              "download(\"download_41bf6e3f-739f-41db-8fe3-888929a6dad6\", \"mirnas_enrichment.xlsx\", 899708)"
            ],
            "text/plain": [
              "<IPython.core.display.Javascript object>"
            ]
          },
          "metadata": {},
          "output_type": "display_data"
        }
      ],
      "source": [
        "### write all the three tables in one excel file\n",
        "\n",
        "with pd.ExcelWriter('mirnas_enrichment.xlsx') as writer:  \n",
        "    unique_ufinal.to_excel(writer, sheet_name='Upregulated')\n",
        "    unique_dfinal.to_excel(writer, sheet_name='Downregulated')\n",
        "    crossfinal.to_excel(writer, sheet_name='Overlapping')\n",
        "\n",
        "from google.colab import files\n",
        "files.download('mirnas_enrichment.xlsx')"
      ]
    },
    {
      "cell_type": "markdown",
      "metadata": {
        "id": "X_VQjNDqyJ2P"
      },
      "source": [
        "##Bulk RNA-seq expression"
      ]
    },
    {
      "cell_type": "code",
      "execution_count": null,
      "metadata": {
        "colab": {
          "base_uri": "https://localhost:8080/"
        },
        "id": "jjlLy26iV-rW",
        "outputId": "016ce39a-5d93-4c9b-ccf9-195714475236"
      },
      "outputs": [
        {
          "name": "stdout",
          "output_type": "stream",
          "text": [
            "104\n",
            "84\n",
            "24\n"
          ]
        }
      ],
      "source": [
        "### Get microRNAs with specificity > 1,5%\n",
        "\n",
        "### Downregulated:\n",
        "specd = unique_dfinal.loc[lambda df: df['percent of downregulated among all, %'] >= 1.5]\n",
        "downspec = list(specd.index)\n",
        "print(len(downspec))\n",
        "\n",
        "### Upregulated:\n",
        "specu = unique_ufinal.loc[lambda df: df['percent of upregulated among all, %'] >= 1.5]\n",
        "upspec = list(specu.index)\n",
        "print(len(upspec))\n",
        "\n",
        "### Overlapped\n",
        "specod = crossfinal.loc[lambda df: df['percent of downregulated among all, %'] >= 1.5]\n",
        "specou = crossfinal.loc[lambda df: df['percent of upregulated among all, %'] >= 1.5]\n",
        "ov = pd.concat([specod, specou], axis=1)\n",
        "ovspec = list(ov.index)\n",
        "print(len(ovspec))"
      ]
    },
    {
      "cell_type": "code",
      "execution_count": null,
      "metadata": {
        "id": "Gq19pwLerM0j"
      },
      "outputs": [],
      "source": [
        "### upload RNA-seq data. Please, make sure to change all capital \"R\" letters to \"r\" in the file beforehand\n",
        "pcr = pd.read_csv(\"/content/drive/MyDrive/Colab Notebooks/1_2_3_K.csv\", sep=';')\n",
        "pcr = pcr.set_index(\"mirNA\")\n",
        "#pcr = pcr.drop([\"Unnamed: 5\", \"Unnamed: 6\", \"Unnamed: 7\", \"Unnamed: 8\"], axis = 1)"
      ]
    },
    {
      "cell_type": "code",
      "execution_count": null,
      "metadata": {
        "colab": {
          "base_uri": "https://localhost:8080/"
        },
        "id": "T5fNGaXPryCD",
        "outputId": "5cbcc9a1-6447-4799-a0dd-d48de5fe2c03"
      },
      "outputs": [
        {
          "name": "stdout",
          "output_type": "stream",
          "text": [
            "Downregulated: 15\n",
            "Upregulated: 16\n",
            "Overlapped: 6\n"
          ]
        }
      ],
      "source": [
        "### Analysis of bulk RNA-seq data \n",
        "\n",
        "### get data for downregulated genes\n",
        "pcrmirs = list(pcr.index)\n",
        "dmirs = downspec\n",
        "dmirav = {}\n",
        "dmirlst = []\n",
        "for i in dmirs:\n",
        "    if i not in pcrmirs:\n",
        "      dmirav[i] = \"-\"\n",
        "    else:\n",
        "      if pcr.loc[i, \"Average\"] > 0:\n",
        "        av = pcr.loc[i, \"Average\"]\n",
        "        dmirav[i] = av\n",
        "        dmirlst.append(i)\n",
        "      else:\n",
        "        av = pcr.loc[i, \"Average\"]\n",
        "        dmirav[i] = av\n",
        "dmiravdf = pd.Series(dmirav).to_frame('Average expression in pcr array file (1_2_3_K.csv)')\n",
        "print(\"Downregulated:\", len(dmirlst))\n",
        "#dmiravdf\n",
        "\n",
        "### get data for upregulated genes\n",
        "pcrmirs = list(pcr.index)\n",
        "umirs = upspec\n",
        "umirav = {}\n",
        "umirlst = []\n",
        "for i in umirs:\n",
        "    if i not in pcrmirs:\n",
        "      umirav[i] = \"-\"\n",
        "    else:\n",
        "      if pcr.loc[i, \"Average\"] > 0:\n",
        "        av = pcr.loc[i, \"Average\"]\n",
        "        umirav[i] = av\n",
        "        umirlst.append(i)\n",
        "      else:\n",
        "        av = pcr.loc[i, \"Average\"]\n",
        "        umirav[i] = av\n",
        "umiravdf = pd.Series(umirav).to_frame('Average expression in pcr array file (1_2_3_K.csv)')\n",
        "print(\"Upregulated:\", len(umirlst))\n",
        "#umiravdf\n",
        "\n",
        "### get data for overlapping genes\n",
        "pcrmirs = list(pcr.index)\n",
        "omirs = ovspec\n",
        "omirav = {}\n",
        "omirlst = []\n",
        "for i in omirs:\n",
        "    if i not in pcrmirs:\n",
        "      omirav[i] = \"-\"\n",
        "    else:\n",
        "      if pcr.loc[i, \"Average\"] > 0:\n",
        "        av = pcr.loc[i, \"Average\"]\n",
        "        omirav[i] = av\n",
        "        omirlst.append(i)\n",
        "      else:\n",
        "        av = pcr.loc[i, \"Average\"]\n",
        "        omirav[i] = av\n",
        "omiravdf = pd.Series(omirav).to_frame('Average expression in pcr array file (1_2_3_K.csv)')\n",
        "print(\"Overlapped:\", len(omirlst))\n",
        "#omiravdf"
      ]
    },
    {
      "cell_type": "code",
      "execution_count": null,
      "metadata": {
        "colab": {
          "base_uri": "https://localhost:8080/",
          "height": 17
        },
        "id": "yZkO8dwh3DUL",
        "outputId": "85c74f12-41c5-45f8-d003-dadd8c2c599d"
      },
      "outputs": [
        {
          "data": {
            "application/javascript": [
              "\n",
              "    async function download(id, filename, size) {\n",
              "      if (!google.colab.kernel.accessAllowed) {\n",
              "        return;\n",
              "      }\n",
              "      const div = document.createElement('div');\n",
              "      const label = document.createElement('label');\n",
              "      label.textContent = `Downloading \"${filename}\": `;\n",
              "      div.appendChild(label);\n",
              "      const progress = document.createElement('progress');\n",
              "      progress.max = size;\n",
              "      div.appendChild(progress);\n",
              "      document.body.appendChild(div);\n",
              "\n",
              "      const buffers = [];\n",
              "      let downloaded = 0;\n",
              "\n",
              "      const channel = await google.colab.kernel.comms.open(id);\n",
              "      // Send a message to notify the kernel that we're ready.\n",
              "      channel.send({})\n",
              "\n",
              "      for await (const message of channel.messages) {\n",
              "        // Send a message to notify the kernel that we're ready.\n",
              "        channel.send({})\n",
              "        if (message.buffers) {\n",
              "          for (const buffer of message.buffers) {\n",
              "            buffers.push(buffer);\n",
              "            downloaded += buffer.byteLength;\n",
              "            progress.value = downloaded;\n",
              "          }\n",
              "        }\n",
              "      }\n",
              "      const blob = new Blob(buffers, {type: 'application/binary'});\n",
              "      const a = document.createElement('a');\n",
              "      a.href = window.URL.createObjectURL(blob);\n",
              "      a.download = filename;\n",
              "      div.appendChild(a);\n",
              "      a.click();\n",
              "      div.remove();\n",
              "    }\n",
              "  "
            ],
            "text/plain": [
              "<IPython.core.display.Javascript object>"
            ]
          },
          "metadata": {},
          "output_type": "display_data"
        },
        {
          "data": {
            "application/javascript": [
              "download(\"download_8306ae2d-d134-48c2-a7af-52aefc09f522\", \"enrichment_bulk_RNA_seq.xlsx\", 8865)"
            ],
            "text/plain": [
              "<IPython.core.display.Javascript object>"
            ]
          },
          "metadata": {},
          "output_type": "display_data"
        }
      ],
      "source": [
        "### save to one excel file\n",
        "with pd.ExcelWriter('enrichment_bulk_RNA_seq.xlsx') as writer:  \n",
        "    dmiravdf.to_excel(writer, sheet_name='Downregulated')\n",
        "    umiravdf.to_excel(writer, sheet_name='Upregulated')\n",
        "    omiravdf.to_excel(writer, sheet_name='Overlapped')\n",
        "\n",
        "from google.colab import files\n",
        "files.download('enrichment_bulk_RNA_seq.xlsx')"
      ]
    },
    {
      "cell_type": "markdown",
      "metadata": {
        "id": "fIhztU3fvsP2"
      },
      "source": [
        "##PCR array validation"
      ]
    },
    {
      "cell_type": "markdown",
      "metadata": {
        "id": "bIHCdm_h1_w7"
      },
      "source": [
        "NB! Before uploading pcr array file, make sure that microRNAs there are named in the following format: hsa-mir-@-@ or hsa-let-@-@. If it lacks hsa-, for example, or have r written as capital letter R, it will cause mistakes"
      ]
    },
    {
      "cell_type": "code",
      "execution_count": null,
      "metadata": {
        "colab": {
          "base_uri": "https://localhost:8080/"
        },
        "id": "AIDkuIGkv3GG",
        "outputId": "d8596783-16e5-4afd-ec35-9f935ac99989"
      },
      "outputs": [
        {
          "data": {
            "text/plain": [
              "['hsa-mir-194-5p',\n",
              " 'hsa-mir-378a-3p',\n",
              " 'hsa-mir-192-5p',\n",
              " 'hsa-mir-148a-3p',\n",
              " 'hsa-mir-449a',\n",
              " 'hsa-mir-146a-5p',\n",
              " 'hsa-mir-503-5p',\n",
              " 'hsa-mir-874-3p',\n",
              " 'hsa-mir-10a-5p']"
            ]
          },
          "execution_count": 43,
          "metadata": {},
          "output_type": "execute_result"
        }
      ],
      "source": [
        "### upload file with selected from PCR array microRNAs (upregulated in profibro, Fold-change > 1,6)\n",
        "pcrar = pd.read_csv(\"/content/drive/MyDrive/Colab Notebooks/pcr_array_fibrotic.csv\", header=None)\n",
        "pcrar = list(pcrar[0])\n",
        "pcrar[0:9]"
      ]
    },
    {
      "cell_type": "code",
      "execution_count": null,
      "metadata": {
        "colab": {
          "base_uri": "https://localhost:8080/"
        },
        "id": "t9uzuPRqxqs6",
        "outputId": "4a92f3da-0699-4682-f2ca-96d2ac11fcb0"
      },
      "outputs": [
        {
          "name": "stdout",
          "output_type": "stream",
          "text": [
            "3\n",
            "0\n",
            "2\n"
          ]
        }
      ],
      "source": [
        "### validate microRNAs for downregulated genes:\n",
        "dpcrar = [x for x in dmirlst if x in pcrar]\n",
        "print(len(dpcrar))\n",
        "\n",
        "### validate microRNAs for upregulated genes:\n",
        "upcrar = [x for x in umirlst if x in pcrar]\n",
        "print(len(upcrar))\n",
        "\n",
        "### validate microRNAs for upregulated genes:\n",
        "opcrar = [x for x in omirlst if x in pcrar]\n",
        "print(len(opcrar))"
      ]
    },
    {
      "cell_type": "code",
      "execution_count": null,
      "metadata": {
        "colab": {
          "base_uri": "https://localhost:8080/"
        },
        "id": "o6w4sGUezbvh",
        "outputId": "c644464a-53e1-4a9e-bb4c-efd26f6ccc43"
      },
      "outputs": [
        {
          "name": "stdout",
          "output_type": "stream",
          "text": [
            "Downregulated: ['hsa-mir-126-3p', 'hsa-mir-18a-5p', 'hsa-mir-451a']\n",
            "Overlapped: ['hsa-mir-29b-3p', 'hsa-mir-29c-3p']\n"
          ]
        }
      ],
      "source": [
        "print(\"Downregulated:\", dpcrar)\n",
        "print(\"Overlapped:\", opcrar)"
      ]
    },
    {
      "cell_type": "code",
      "execution_count": null,
      "metadata": {
        "colab": {
          "base_uri": "https://localhost:8080/"
        },
        "id": "RayybIXcwaCm",
        "outputId": "2b08ad7d-dba4-4811-88a6-dd4ee0d820a1"
      },
      "outputs": [
        {
          "data": {
            "text/plain": [
              "10"
            ]
          },
          "execution_count": 46,
          "metadata": {},
          "output_type": "execute_result"
        }
      ],
      "source": [
        "### upload file with selected from PCR array microRNAs (downregulated in profibro, Fold-change < 0,5)\n",
        "pcrar = pd.read_csv(\"/content/drive/MyDrive/Colab Notebooks/pcr_array_plastic.csv\", header=None)\n",
        "pcrar = list(pcrar[0])\n",
        "pcrar[0:9]"
      ]
    },
    {
      "cell_type": "code",
      "execution_count": null,
      "metadata": {
        "colab": {
          "base_uri": "https://localhost:8080/"
        },
        "id": "jhYE3tmj3HT3",
        "outputId": "cbfdae1e-8110-4ce0-e12e-bd2e341098f5"
      },
      "outputs": [
        {
          "name": "stdout",
          "output_type": "stream",
          "text": [
            "0\n"
          ]
        }
      ],
      "source": [
        "### validate microRNAs for upregulated genes:\n",
        "upcrar = [x for x in umirlst if x in pcrar]\n",
        "print(len(upcrar))"
      ]
    },
    {
      "cell_type": "markdown",
      "metadata": {
        "id": "eNi76PorqQe3"
      },
      "source": [
        "## miRNAs in vesicles"
      ]
    },
    {
      "cell_type": "code",
      "execution_count": null,
      "metadata": {
        "colab": {
          "base_uri": "https://localhost:8080/",
          "height": 455
        },
        "id": "G-XK6mbgqUrM",
        "outputId": "62fa6885-e255-445a-f928-712dbf36e8ba"
      },
      "outputs": [
        {
          "data": {
            "text/html": [
              "\n",
              "  <div id=\"df-e60519fe-a08c-4efc-9c9b-eaa30815c51d\">\n",
              "    <div class=\"colab-df-container\">\n",
              "      <div>\n",
              "<style scoped>\n",
              "    .dataframe tbody tr th:only-of-type {\n",
              "        vertical-align: middle;\n",
              "    }\n",
              "\n",
              "    .dataframe tbody tr th {\n",
              "        vertical-align: top;\n",
              "    }\n",
              "\n",
              "    .dataframe thead th {\n",
              "        text-align: right;\n",
              "    }\n",
              "</style>\n",
              "<table border=\"1\" class=\"dataframe\">\n",
              "  <thead>\n",
              "    <tr style=\"text-align: right;\">\n",
              "      <th></th>\n",
              "      <th>fold-change</th>\n",
              "    </tr>\n",
              "    <tr>\n",
              "      <th>mirna</th>\n",
              "      <th></th>\n",
              "    </tr>\n",
              "  </thead>\n",
              "  <tbody>\n",
              "    <tr>\n",
              "      <th>hsa-mir-133a-3p</th>\n",
              "      <td>0.064686</td>\n",
              "    </tr>\n",
              "    <tr>\n",
              "      <th>hsa-mir-335-5p</th>\n",
              "      <td>0.066838</td>\n",
              "    </tr>\n",
              "    <tr>\n",
              "      <th>hsa-mir-338-5p</th>\n",
              "      <td>0.096099</td>\n",
              "    </tr>\n",
              "    <tr>\n",
              "      <th>hsa-mir-195-5p</th>\n",
              "      <td>0.118490</td>\n",
              "    </tr>\n",
              "    <tr>\n",
              "      <th>hsa-mir-25-3p</th>\n",
              "      <td>0.213195</td>\n",
              "    </tr>\n",
              "    <tr>\n",
              "      <th>...</th>\n",
              "      <td>...</td>\n",
              "    </tr>\n",
              "    <tr>\n",
              "      <th>hsa-mir-377-3p</th>\n",
              "      <td>NaN</td>\n",
              "    </tr>\n",
              "    <tr>\n",
              "      <th>hsa-mir-451a</th>\n",
              "      <td>NaN</td>\n",
              "    </tr>\n",
              "    <tr>\n",
              "      <th>hsa-mir-5692a</th>\n",
              "      <td>NaN</td>\n",
              "    </tr>\n",
              "    <tr>\n",
              "      <th>hsa-mir-590-5p</th>\n",
              "      <td>NaN</td>\n",
              "    </tr>\n",
              "    <tr>\n",
              "      <th>hsa-mir-7-5p</th>\n",
              "      <td>NaN</td>\n",
              "    </tr>\n",
              "  </tbody>\n",
              "</table>\n",
              "<p>85 rows × 1 columns</p>\n",
              "</div>\n",
              "      <button class=\"colab-df-convert\" onclick=\"convertToInteractive('df-e60519fe-a08c-4efc-9c9b-eaa30815c51d')\"\n",
              "              title=\"Convert this dataframe to an interactive table.\"\n",
              "              style=\"display:none;\">\n",
              "        \n",
              "  <svg xmlns=\"http://www.w3.org/2000/svg\" height=\"24px\"viewBox=\"0 0 24 24\"\n",
              "       width=\"24px\">\n",
              "    <path d=\"M0 0h24v24H0V0z\" fill=\"none\"/>\n",
              "    <path d=\"M18.56 5.44l.94 2.06.94-2.06 2.06-.94-2.06-.94-.94-2.06-.94 2.06-2.06.94zm-11 1L8.5 8.5l.94-2.06 2.06-.94-2.06-.94L8.5 2.5l-.94 2.06-2.06.94zm10 10l.94 2.06.94-2.06 2.06-.94-2.06-.94-.94-2.06-.94 2.06-2.06.94z\"/><path d=\"M17.41 7.96l-1.37-1.37c-.4-.4-.92-.59-1.43-.59-.52 0-1.04.2-1.43.59L10.3 9.45l-7.72 7.72c-.78.78-.78 2.05 0 2.83L4 21.41c.39.39.9.59 1.41.59.51 0 1.02-.2 1.41-.59l7.78-7.78 2.81-2.81c.8-.78.8-2.07 0-2.86zM5.41 20L4 18.59l7.72-7.72 1.47 1.35L5.41 20z\"/>\n",
              "  </svg>\n",
              "      </button>\n",
              "      \n",
              "  <style>\n",
              "    .colab-df-container {\n",
              "      display:flex;\n",
              "      flex-wrap:wrap;\n",
              "      gap: 12px;\n",
              "    }\n",
              "\n",
              "    .colab-df-convert {\n",
              "      background-color: #E8F0FE;\n",
              "      border: none;\n",
              "      border-radius: 50%;\n",
              "      cursor: pointer;\n",
              "      display: none;\n",
              "      fill: #1967D2;\n",
              "      height: 32px;\n",
              "      padding: 0 0 0 0;\n",
              "      width: 32px;\n",
              "    }\n",
              "\n",
              "    .colab-df-convert:hover {\n",
              "      background-color: #E2EBFA;\n",
              "      box-shadow: 0px 1px 2px rgba(60, 64, 67, 0.3), 0px 1px 3px 1px rgba(60, 64, 67, 0.15);\n",
              "      fill: #174EA6;\n",
              "    }\n",
              "\n",
              "    [theme=dark] .colab-df-convert {\n",
              "      background-color: #3B4455;\n",
              "      fill: #D2E3FC;\n",
              "    }\n",
              "\n",
              "    [theme=dark] .colab-df-convert:hover {\n",
              "      background-color: #434B5C;\n",
              "      box-shadow: 0px 1px 3px 1px rgba(0, 0, 0, 0.15);\n",
              "      filter: drop-shadow(0px 1px 2px rgba(0, 0, 0, 0.3));\n",
              "      fill: #FFFFFF;\n",
              "    }\n",
              "  </style>\n",
              "\n",
              "      <script>\n",
              "        const buttonEl =\n",
              "          document.querySelector('#df-e60519fe-a08c-4efc-9c9b-eaa30815c51d button.colab-df-convert');\n",
              "        buttonEl.style.display =\n",
              "          google.colab.kernel.accessAllowed ? 'block' : 'none';\n",
              "\n",
              "        async function convertToInteractive(key) {\n",
              "          const element = document.querySelector('#df-e60519fe-a08c-4efc-9c9b-eaa30815c51d');\n",
              "          const dataTable =\n",
              "            await google.colab.kernel.invokeFunction('convertToInteractive',\n",
              "                                                     [key], {});\n",
              "          if (!dataTable) return;\n",
              "\n",
              "          const docLinkHtml = 'Like what you see? Visit the ' +\n",
              "            '<a target=\"_blank\" href=https://colab.research.google.com/notebooks/data_table.ipynb>data table notebook</a>'\n",
              "            + ' to learn more about interactive tables.';\n",
              "          element.innerHTML = '';\n",
              "          dataTable['output_type'] = 'display_data';\n",
              "          await google.colab.output.renderOutput(dataTable, element);\n",
              "          const docLink = document.createElement('div');\n",
              "          docLink.innerHTML = docLinkHtml;\n",
              "          element.appendChild(docLink);\n",
              "        }\n",
              "      </script>\n",
              "    </div>\n",
              "  </div>\n",
              "  "
            ],
            "text/plain": [
              "                 fold-change\n",
              "mirna                       \n",
              "hsa-mir-133a-3p     0.064686\n",
              "hsa-mir-335-5p      0.066838\n",
              "hsa-mir-338-5p      0.096099\n",
              "hsa-mir-195-5p      0.118490\n",
              "hsa-mir-25-3p       0.213195\n",
              "...                      ...\n",
              "hsa-mir-377-3p           NaN\n",
              "hsa-mir-451a             NaN\n",
              "hsa-mir-5692a            NaN\n",
              "hsa-mir-590-5p           NaN\n",
              "hsa-mir-7-5p             NaN\n",
              "\n",
              "[85 rows x 1 columns]"
            ]
          },
          "execution_count": 55,
          "metadata": {},
          "output_type": "execute_result"
        }
      ],
      "source": [
        "### upload file with vesicle miRNA expression data\n",
        "ves = pd.read_csv(\"/content/drive/MyDrive/Colab Notebooks/vesicles.csv\", delimiter = \";\")\n",
        "ves = ves.set_index(\"mirna\")\n",
        "mirs = list(ves.index)\n",
        "ves"
      ]
    },
    {
      "cell_type": "code",
      "execution_count": null,
      "metadata": {
        "colab": {
          "base_uri": "https://localhost:8080/",
          "height": 143
        },
        "id": "RV0NFTHevYL5",
        "outputId": "d06acb60-7c23-4dd8-f4e2-1a82322bb965"
      },
      "outputs": [
        {
          "data": {
            "text/html": [
              "\n",
              "  <div id=\"df-2af2d2b5-8e7e-48b6-b563-0e6e954029da\">\n",
              "    <div class=\"colab-df-container\">\n",
              "      <div>\n",
              "<style scoped>\n",
              "    .dataframe tbody tr th:only-of-type {\n",
              "        vertical-align: middle;\n",
              "    }\n",
              "\n",
              "    .dataframe tbody tr th {\n",
              "        vertical-align: top;\n",
              "    }\n",
              "\n",
              "    .dataframe thead th {\n",
              "        text-align: right;\n",
              "    }\n",
              "</style>\n",
              "<table border=\"1\" class=\"dataframe\">\n",
              "  <thead>\n",
              "    <tr style=\"text-align: right;\">\n",
              "      <th></th>\n",
              "      <th>fold-change</th>\n",
              "    </tr>\n",
              "  </thead>\n",
              "  <tbody>\n",
              "    <tr>\n",
              "      <th>hsa-mir-18a-5p</th>\n",
              "      <td>NaN</td>\n",
              "    </tr>\n",
              "    <tr>\n",
              "      <th>hsa-mir-126-3p</th>\n",
              "      <td>NaN</td>\n",
              "    </tr>\n",
              "    <tr>\n",
              "      <th>hsa-mir-451a</th>\n",
              "      <td>NaN</td>\n",
              "    </tr>\n",
              "  </tbody>\n",
              "</table>\n",
              "</div>\n",
              "      <button class=\"colab-df-convert\" onclick=\"convertToInteractive('df-2af2d2b5-8e7e-48b6-b563-0e6e954029da')\"\n",
              "              title=\"Convert this dataframe to an interactive table.\"\n",
              "              style=\"display:none;\">\n",
              "        \n",
              "  <svg xmlns=\"http://www.w3.org/2000/svg\" height=\"24px\"viewBox=\"0 0 24 24\"\n",
              "       width=\"24px\">\n",
              "    <path d=\"M0 0h24v24H0V0z\" fill=\"none\"/>\n",
              "    <path d=\"M18.56 5.44l.94 2.06.94-2.06 2.06-.94-2.06-.94-.94-2.06-.94 2.06-2.06.94zm-11 1L8.5 8.5l.94-2.06 2.06-.94-2.06-.94L8.5 2.5l-.94 2.06-2.06.94zm10 10l.94 2.06.94-2.06 2.06-.94-2.06-.94-.94-2.06-.94 2.06-2.06.94z\"/><path d=\"M17.41 7.96l-1.37-1.37c-.4-.4-.92-.59-1.43-.59-.52 0-1.04.2-1.43.59L10.3 9.45l-7.72 7.72c-.78.78-.78 2.05 0 2.83L4 21.41c.39.39.9.59 1.41.59.51 0 1.02-.2 1.41-.59l7.78-7.78 2.81-2.81c.8-.78.8-2.07 0-2.86zM5.41 20L4 18.59l7.72-7.72 1.47 1.35L5.41 20z\"/>\n",
              "  </svg>\n",
              "      </button>\n",
              "      \n",
              "  <style>\n",
              "    .colab-df-container {\n",
              "      display:flex;\n",
              "      flex-wrap:wrap;\n",
              "      gap: 12px;\n",
              "    }\n",
              "\n",
              "    .colab-df-convert {\n",
              "      background-color: #E8F0FE;\n",
              "      border: none;\n",
              "      border-radius: 50%;\n",
              "      cursor: pointer;\n",
              "      display: none;\n",
              "      fill: #1967D2;\n",
              "      height: 32px;\n",
              "      padding: 0 0 0 0;\n",
              "      width: 32px;\n",
              "    }\n",
              "\n",
              "    .colab-df-convert:hover {\n",
              "      background-color: #E2EBFA;\n",
              "      box-shadow: 0px 1px 2px rgba(60, 64, 67, 0.3), 0px 1px 3px 1px rgba(60, 64, 67, 0.15);\n",
              "      fill: #174EA6;\n",
              "    }\n",
              "\n",
              "    [theme=dark] .colab-df-convert {\n",
              "      background-color: #3B4455;\n",
              "      fill: #D2E3FC;\n",
              "    }\n",
              "\n",
              "    [theme=dark] .colab-df-convert:hover {\n",
              "      background-color: #434B5C;\n",
              "      box-shadow: 0px 1px 3px 1px rgba(0, 0, 0, 0.15);\n",
              "      filter: drop-shadow(0px 1px 2px rgba(0, 0, 0, 0.3));\n",
              "      fill: #FFFFFF;\n",
              "    }\n",
              "  </style>\n",
              "\n",
              "      <script>\n",
              "        const buttonEl =\n",
              "          document.querySelector('#df-2af2d2b5-8e7e-48b6-b563-0e6e954029da button.colab-df-convert');\n",
              "        buttonEl.style.display =\n",
              "          google.colab.kernel.accessAllowed ? 'block' : 'none';\n",
              "\n",
              "        async function convertToInteractive(key) {\n",
              "          const element = document.querySelector('#df-2af2d2b5-8e7e-48b6-b563-0e6e954029da');\n",
              "          const dataTable =\n",
              "            await google.colab.kernel.invokeFunction('convertToInteractive',\n",
              "                                                     [key], {});\n",
              "          if (!dataTable) return;\n",
              "\n",
              "          const docLinkHtml = 'Like what you see? Visit the ' +\n",
              "            '<a target=\"_blank\" href=https://colab.research.google.com/notebooks/data_table.ipynb>data table notebook</a>'\n",
              "            + ' to learn more about interactive tables.';\n",
              "          element.innerHTML = '';\n",
              "          dataTable['output_type'] = 'display_data';\n",
              "          await google.colab.output.renderOutput(dataTable, element);\n",
              "          const docLink = document.createElement('div');\n",
              "          docLink.innerHTML = docLinkHtml;\n",
              "          element.appendChild(docLink);\n",
              "        }\n",
              "      </script>\n",
              "    </div>\n",
              "  </div>\n",
              "  "
            ],
            "text/plain": [
              "                fold-change\n",
              "hsa-mir-18a-5p          NaN\n",
              "hsa-mir-126-3p          NaN\n",
              "hsa-mir-451a            NaN"
            ]
          },
          "execution_count": 63,
          "metadata": {},
          "output_type": "execute_result"
        }
      ],
      "source": [
        "### search for downregulated\n",
        "dves = {}\n",
        "for i in dmirlst:\n",
        "  if i in mirs:\n",
        "    v = ves.loc[i, \"fold-change\"]\n",
        "    dves[i] = v\n",
        "dvesdf = pd.Series(dves).to_frame(\"fold-change\")\n",
        "dvesdf\n",
        "\n"
      ]
    },
    {
      "cell_type": "code",
      "execution_count": null,
      "metadata": {
        "colab": {
          "base_uri": "https://localhost:8080/",
          "height": 104
        },
        "id": "XqmpaM3FAaHW",
        "outputId": "59f2f622-7afc-43ea-ad36-0ef0a241485d"
      },
      "outputs": [
        {
          "name": "stderr",
          "output_type": "stream",
          "text": [
            "/usr/local/lib/python3.7/dist-packages/ipykernel_launcher.py:7: DeprecationWarning: The default dtype for empty Series will be 'object' instead of 'float64' in a future version. Specify a dtype explicitly to silence this warning.\n",
            "  import sys\n"
          ]
        },
        {
          "data": {
            "text/html": [
              "\n",
              "  <div id=\"df-16bc5d98-0bdb-41c5-97e6-ccf986758f30\">\n",
              "    <div class=\"colab-df-container\">\n",
              "      <div>\n",
              "<style scoped>\n",
              "    .dataframe tbody tr th:only-of-type {\n",
              "        vertical-align: middle;\n",
              "    }\n",
              "\n",
              "    .dataframe tbody tr th {\n",
              "        vertical-align: top;\n",
              "    }\n",
              "\n",
              "    .dataframe thead th {\n",
              "        text-align: right;\n",
              "    }\n",
              "</style>\n",
              "<table border=\"1\" class=\"dataframe\">\n",
              "  <thead>\n",
              "    <tr style=\"text-align: right;\">\n",
              "      <th></th>\n",
              "      <th>fold-change</th>\n",
              "    </tr>\n",
              "  </thead>\n",
              "  <tbody>\n",
              "  </tbody>\n",
              "</table>\n",
              "</div>\n",
              "      <button class=\"colab-df-convert\" onclick=\"convertToInteractive('df-16bc5d98-0bdb-41c5-97e6-ccf986758f30')\"\n",
              "              title=\"Convert this dataframe to an interactive table.\"\n",
              "              style=\"display:none;\">\n",
              "        \n",
              "  <svg xmlns=\"http://www.w3.org/2000/svg\" height=\"24px\"viewBox=\"0 0 24 24\"\n",
              "       width=\"24px\">\n",
              "    <path d=\"M0 0h24v24H0V0z\" fill=\"none\"/>\n",
              "    <path d=\"M18.56 5.44l.94 2.06.94-2.06 2.06-.94-2.06-.94-.94-2.06-.94 2.06-2.06.94zm-11 1L8.5 8.5l.94-2.06 2.06-.94-2.06-.94L8.5 2.5l-.94 2.06-2.06.94zm10 10l.94 2.06.94-2.06 2.06-.94-2.06-.94-.94-2.06-.94 2.06-2.06.94z\"/><path d=\"M17.41 7.96l-1.37-1.37c-.4-.4-.92-.59-1.43-.59-.52 0-1.04.2-1.43.59L10.3 9.45l-7.72 7.72c-.78.78-.78 2.05 0 2.83L4 21.41c.39.39.9.59 1.41.59.51 0 1.02-.2 1.41-.59l7.78-7.78 2.81-2.81c.8-.78.8-2.07 0-2.86zM5.41 20L4 18.59l7.72-7.72 1.47 1.35L5.41 20z\"/>\n",
              "  </svg>\n",
              "      </button>\n",
              "      \n",
              "  <style>\n",
              "    .colab-df-container {\n",
              "      display:flex;\n",
              "      flex-wrap:wrap;\n",
              "      gap: 12px;\n",
              "    }\n",
              "\n",
              "    .colab-df-convert {\n",
              "      background-color: #E8F0FE;\n",
              "      border: none;\n",
              "      border-radius: 50%;\n",
              "      cursor: pointer;\n",
              "      display: none;\n",
              "      fill: #1967D2;\n",
              "      height: 32px;\n",
              "      padding: 0 0 0 0;\n",
              "      width: 32px;\n",
              "    }\n",
              "\n",
              "    .colab-df-convert:hover {\n",
              "      background-color: #E2EBFA;\n",
              "      box-shadow: 0px 1px 2px rgba(60, 64, 67, 0.3), 0px 1px 3px 1px rgba(60, 64, 67, 0.15);\n",
              "      fill: #174EA6;\n",
              "    }\n",
              "\n",
              "    [theme=dark] .colab-df-convert {\n",
              "      background-color: #3B4455;\n",
              "      fill: #D2E3FC;\n",
              "    }\n",
              "\n",
              "    [theme=dark] .colab-df-convert:hover {\n",
              "      background-color: #434B5C;\n",
              "      box-shadow: 0px 1px 3px 1px rgba(0, 0, 0, 0.15);\n",
              "      filter: drop-shadow(0px 1px 2px rgba(0, 0, 0, 0.3));\n",
              "      fill: #FFFFFF;\n",
              "    }\n",
              "  </style>\n",
              "\n",
              "      <script>\n",
              "        const buttonEl =\n",
              "          document.querySelector('#df-16bc5d98-0bdb-41c5-97e6-ccf986758f30 button.colab-df-convert');\n",
              "        buttonEl.style.display =\n",
              "          google.colab.kernel.accessAllowed ? 'block' : 'none';\n",
              "\n",
              "        async function convertToInteractive(key) {\n",
              "          const element = document.querySelector('#df-16bc5d98-0bdb-41c5-97e6-ccf986758f30');\n",
              "          const dataTable =\n",
              "            await google.colab.kernel.invokeFunction('convertToInteractive',\n",
              "                                                     [key], {});\n",
              "          if (!dataTable) return;\n",
              "\n",
              "          const docLinkHtml = 'Like what you see? Visit the ' +\n",
              "            '<a target=\"_blank\" href=https://colab.research.google.com/notebooks/data_table.ipynb>data table notebook</a>'\n",
              "            + ' to learn more about interactive tables.';\n",
              "          element.innerHTML = '';\n",
              "          dataTable['output_type'] = 'display_data';\n",
              "          await google.colab.output.renderOutput(dataTable, element);\n",
              "          const docLink = document.createElement('div');\n",
              "          docLink.innerHTML = docLinkHtml;\n",
              "          element.appendChild(docLink);\n",
              "        }\n",
              "      </script>\n",
              "    </div>\n",
              "  </div>\n",
              "  "
            ],
            "text/plain": [
              "Empty DataFrame\n",
              "Columns: [fold-change]\n",
              "Index: []"
            ]
          },
          "execution_count": 64,
          "metadata": {},
          "output_type": "execute_result"
        }
      ],
      "source": [
        "### search for upregulated\n",
        "uves = {}\n",
        "for i in umirlst:\n",
        "  if i in mirs:\n",
        "    v = ves.loc[i, \"fold-change\"]\n",
        "    uves[i] = v\n",
        "uvesdf = pd.Series(uves).to_frame(\"fold-change\")\n",
        "uvesdf"
      ]
    },
    {
      "cell_type": "code",
      "execution_count": null,
      "metadata": {
        "colab": {
          "base_uri": "https://localhost:8080/",
          "height": 143
        },
        "id": "DuQljQGbAcnB",
        "outputId": "f3a2edd4-b2a4-46f9-d13d-2972b456fbae"
      },
      "outputs": [
        {
          "data": {
            "text/html": [
              "\n",
              "  <div id=\"df-7fc7be4a-0434-4b6d-a743-a72d4806c13b\">\n",
              "    <div class=\"colab-df-container\">\n",
              "      <div>\n",
              "<style scoped>\n",
              "    .dataframe tbody tr th:only-of-type {\n",
              "        vertical-align: middle;\n",
              "    }\n",
              "\n",
              "    .dataframe tbody tr th {\n",
              "        vertical-align: top;\n",
              "    }\n",
              "\n",
              "    .dataframe thead th {\n",
              "        text-align: right;\n",
              "    }\n",
              "</style>\n",
              "<table border=\"1\" class=\"dataframe\">\n",
              "  <thead>\n",
              "    <tr style=\"text-align: right;\">\n",
              "      <th></th>\n",
              "      <th>fold-change</th>\n",
              "    </tr>\n",
              "  </thead>\n",
              "  <tbody>\n",
              "    <tr>\n",
              "      <th>hsa-mir-29c-3p</th>\n",
              "      <td>0.757490</td>\n",
              "    </tr>\n",
              "    <tr>\n",
              "      <th>hsa-mir-223-3p</th>\n",
              "      <td>128.961259</td>\n",
              "    </tr>\n",
              "    <tr>\n",
              "      <th>hsa-mir-146b-5p</th>\n",
              "      <td>NaN</td>\n",
              "    </tr>\n",
              "  </tbody>\n",
              "</table>\n",
              "</div>\n",
              "      <button class=\"colab-df-convert\" onclick=\"convertToInteractive('df-7fc7be4a-0434-4b6d-a743-a72d4806c13b')\"\n",
              "              title=\"Convert this dataframe to an interactive table.\"\n",
              "              style=\"display:none;\">\n",
              "        \n",
              "  <svg xmlns=\"http://www.w3.org/2000/svg\" height=\"24px\"viewBox=\"0 0 24 24\"\n",
              "       width=\"24px\">\n",
              "    <path d=\"M0 0h24v24H0V0z\" fill=\"none\"/>\n",
              "    <path d=\"M18.56 5.44l.94 2.06.94-2.06 2.06-.94-2.06-.94-.94-2.06-.94 2.06-2.06.94zm-11 1L8.5 8.5l.94-2.06 2.06-.94-2.06-.94L8.5 2.5l-.94 2.06-2.06.94zm10 10l.94 2.06.94-2.06 2.06-.94-2.06-.94-.94-2.06-.94 2.06-2.06.94z\"/><path d=\"M17.41 7.96l-1.37-1.37c-.4-.4-.92-.59-1.43-.59-.52 0-1.04.2-1.43.59L10.3 9.45l-7.72 7.72c-.78.78-.78 2.05 0 2.83L4 21.41c.39.39.9.59 1.41.59.51 0 1.02-.2 1.41-.59l7.78-7.78 2.81-2.81c.8-.78.8-2.07 0-2.86zM5.41 20L4 18.59l7.72-7.72 1.47 1.35L5.41 20z\"/>\n",
              "  </svg>\n",
              "      </button>\n",
              "      \n",
              "  <style>\n",
              "    .colab-df-container {\n",
              "      display:flex;\n",
              "      flex-wrap:wrap;\n",
              "      gap: 12px;\n",
              "    }\n",
              "\n",
              "    .colab-df-convert {\n",
              "      background-color: #E8F0FE;\n",
              "      border: none;\n",
              "      border-radius: 50%;\n",
              "      cursor: pointer;\n",
              "      display: none;\n",
              "      fill: #1967D2;\n",
              "      height: 32px;\n",
              "      padding: 0 0 0 0;\n",
              "      width: 32px;\n",
              "    }\n",
              "\n",
              "    .colab-df-convert:hover {\n",
              "      background-color: #E2EBFA;\n",
              "      box-shadow: 0px 1px 2px rgba(60, 64, 67, 0.3), 0px 1px 3px 1px rgba(60, 64, 67, 0.15);\n",
              "      fill: #174EA6;\n",
              "    }\n",
              "\n",
              "    [theme=dark] .colab-df-convert {\n",
              "      background-color: #3B4455;\n",
              "      fill: #D2E3FC;\n",
              "    }\n",
              "\n",
              "    [theme=dark] .colab-df-convert:hover {\n",
              "      background-color: #434B5C;\n",
              "      box-shadow: 0px 1px 3px 1px rgba(0, 0, 0, 0.15);\n",
              "      filter: drop-shadow(0px 1px 2px rgba(0, 0, 0, 0.3));\n",
              "      fill: #FFFFFF;\n",
              "    }\n",
              "  </style>\n",
              "\n",
              "      <script>\n",
              "        const buttonEl =\n",
              "          document.querySelector('#df-7fc7be4a-0434-4b6d-a743-a72d4806c13b button.colab-df-convert');\n",
              "        buttonEl.style.display =\n",
              "          google.colab.kernel.accessAllowed ? 'block' : 'none';\n",
              "\n",
              "        async function convertToInteractive(key) {\n",
              "          const element = document.querySelector('#df-7fc7be4a-0434-4b6d-a743-a72d4806c13b');\n",
              "          const dataTable =\n",
              "            await google.colab.kernel.invokeFunction('convertToInteractive',\n",
              "                                                     [key], {});\n",
              "          if (!dataTable) return;\n",
              "\n",
              "          const docLinkHtml = 'Like what you see? Visit the ' +\n",
              "            '<a target=\"_blank\" href=https://colab.research.google.com/notebooks/data_table.ipynb>data table notebook</a>'\n",
              "            + ' to learn more about interactive tables.';\n",
              "          element.innerHTML = '';\n",
              "          dataTable['output_type'] = 'display_data';\n",
              "          await google.colab.output.renderOutput(dataTable, element);\n",
              "          const docLink = document.createElement('div');\n",
              "          docLink.innerHTML = docLinkHtml;\n",
              "          element.appendChild(docLink);\n",
              "        }\n",
              "      </script>\n",
              "    </div>\n",
              "  </div>\n",
              "  "
            ],
            "text/plain": [
              "                 fold-change\n",
              "hsa-mir-29c-3p      0.757490\n",
              "hsa-mir-223-3p    128.961259\n",
              "hsa-mir-146b-5p          NaN"
            ]
          },
          "execution_count": 65,
          "metadata": {},
          "output_type": "execute_result"
        }
      ],
      "source": [
        "### search for overlapped\n",
        "oves = {}\n",
        "for i in omirlst:\n",
        "  if i in mirs:\n",
        "    v = ves.loc[i, \"fold-change\"]\n",
        "    oves[i] = v\n",
        "ovesdf = pd.Series(oves).to_frame(\"fold-change\")\n",
        "ovesdf"
      ]
    },
    {
      "cell_type": "code",
      "execution_count": null,
      "metadata": {
        "colab": {
          "base_uri": "https://localhost:8080/"
        },
        "id": "4C67bopM8Lxy",
        "outputId": "5de808fe-e076-4d96-8ab3-1304f2e75e0c"
      },
      "outputs": [
        {
          "data": {
            "text/plain": [
              "mirna          hsa-mir-335-5p\n",
              "fold-change          0.066838\n",
              "Name: 1, dtype: object"
            ]
          },
          "execution_count": 49,
          "metadata": {},
          "output_type": "execute_result"
        }
      ],
      "source": [
        "ves.loc[1, \"\"]"
      ]
    },
    {
      "cell_type": "code",
      "execution_count": null,
      "metadata": {
        "colab": {
          "base_uri": "https://localhost:8080/",
          "height": 423
        },
        "id": "n3rvvK138y3W",
        "outputId": "0e1f53c9-7e2b-45d3-ff8d-478a088b00fb"
      },
      "outputs": [
        {
          "data": {
            "text/html": [
              "\n",
              "  <div id=\"df-ab406fdf-eb90-4388-abc8-4f9da010c50a\">\n",
              "    <div class=\"colab-df-container\">\n",
              "      <div>\n",
              "<style scoped>\n",
              "    .dataframe tbody tr th:only-of-type {\n",
              "        vertical-align: middle;\n",
              "    }\n",
              "\n",
              "    .dataframe tbody tr th {\n",
              "        vertical-align: top;\n",
              "    }\n",
              "\n",
              "    .dataframe thead th {\n",
              "        text-align: right;\n",
              "    }\n",
              "</style>\n",
              "<table border=\"1\" class=\"dataframe\">\n",
              "  <thead>\n",
              "    <tr style=\"text-align: right;\">\n",
              "      <th></th>\n",
              "      <th>mirna</th>\n",
              "      <th>fold-change</th>\n",
              "    </tr>\n",
              "  </thead>\n",
              "  <tbody>\n",
              "    <tr>\n",
              "      <th>0</th>\n",
              "      <td>hsa-mir-133a-3p</td>\n",
              "      <td>0.064686</td>\n",
              "    </tr>\n",
              "    <tr>\n",
              "      <th>1</th>\n",
              "      <td>hsa-mir-335-5p</td>\n",
              "      <td>0.066838</td>\n",
              "    </tr>\n",
              "    <tr>\n",
              "      <th>2</th>\n",
              "      <td>hsa-mir-338-5p</td>\n",
              "      <td>0.096099</td>\n",
              "    </tr>\n",
              "    <tr>\n",
              "      <th>3</th>\n",
              "      <td>hsa-mir-195-5p</td>\n",
              "      <td>0.118490</td>\n",
              "    </tr>\n",
              "    <tr>\n",
              "      <th>4</th>\n",
              "      <td>hsa-mir-25-3p</td>\n",
              "      <td>0.213195</td>\n",
              "    </tr>\n",
              "    <tr>\n",
              "      <th>...</th>\n",
              "      <td>...</td>\n",
              "      <td>...</td>\n",
              "    </tr>\n",
              "    <tr>\n",
              "      <th>80</th>\n",
              "      <td>hsa-mir-377-3p</td>\n",
              "      <td>NaN</td>\n",
              "    </tr>\n",
              "    <tr>\n",
              "      <th>81</th>\n",
              "      <td>hsa-mir-451a</td>\n",
              "      <td>NaN</td>\n",
              "    </tr>\n",
              "    <tr>\n",
              "      <th>82</th>\n",
              "      <td>hsa-mir-5692a</td>\n",
              "      <td>NaN</td>\n",
              "    </tr>\n",
              "    <tr>\n",
              "      <th>83</th>\n",
              "      <td>hsa-mir-590-5p</td>\n",
              "      <td>NaN</td>\n",
              "    </tr>\n",
              "    <tr>\n",
              "      <th>84</th>\n",
              "      <td>hsa-mir-7-5p</td>\n",
              "      <td>NaN</td>\n",
              "    </tr>\n",
              "  </tbody>\n",
              "</table>\n",
              "<p>85 rows × 2 columns</p>\n",
              "</div>\n",
              "      <button class=\"colab-df-convert\" onclick=\"convertToInteractive('df-ab406fdf-eb90-4388-abc8-4f9da010c50a')\"\n",
              "              title=\"Convert this dataframe to an interactive table.\"\n",
              "              style=\"display:none;\">\n",
              "        \n",
              "  <svg xmlns=\"http://www.w3.org/2000/svg\" height=\"24px\"viewBox=\"0 0 24 24\"\n",
              "       width=\"24px\">\n",
              "    <path d=\"M0 0h24v24H0V0z\" fill=\"none\"/>\n",
              "    <path d=\"M18.56 5.44l.94 2.06.94-2.06 2.06-.94-2.06-.94-.94-2.06-.94 2.06-2.06.94zm-11 1L8.5 8.5l.94-2.06 2.06-.94-2.06-.94L8.5 2.5l-.94 2.06-2.06.94zm10 10l.94 2.06.94-2.06 2.06-.94-2.06-.94-.94-2.06-.94 2.06-2.06.94z\"/><path d=\"M17.41 7.96l-1.37-1.37c-.4-.4-.92-.59-1.43-.59-.52 0-1.04.2-1.43.59L10.3 9.45l-7.72 7.72c-.78.78-.78 2.05 0 2.83L4 21.41c.39.39.9.59 1.41.59.51 0 1.02-.2 1.41-.59l7.78-7.78 2.81-2.81c.8-.78.8-2.07 0-2.86zM5.41 20L4 18.59l7.72-7.72 1.47 1.35L5.41 20z\"/>\n",
              "  </svg>\n",
              "      </button>\n",
              "      \n",
              "  <style>\n",
              "    .colab-df-container {\n",
              "      display:flex;\n",
              "      flex-wrap:wrap;\n",
              "      gap: 12px;\n",
              "    }\n",
              "\n",
              "    .colab-df-convert {\n",
              "      background-color: #E8F0FE;\n",
              "      border: none;\n",
              "      border-radius: 50%;\n",
              "      cursor: pointer;\n",
              "      display: none;\n",
              "      fill: #1967D2;\n",
              "      height: 32px;\n",
              "      padding: 0 0 0 0;\n",
              "      width: 32px;\n",
              "    }\n",
              "\n",
              "    .colab-df-convert:hover {\n",
              "      background-color: #E2EBFA;\n",
              "      box-shadow: 0px 1px 2px rgba(60, 64, 67, 0.3), 0px 1px 3px 1px rgba(60, 64, 67, 0.15);\n",
              "      fill: #174EA6;\n",
              "    }\n",
              "\n",
              "    [theme=dark] .colab-df-convert {\n",
              "      background-color: #3B4455;\n",
              "      fill: #D2E3FC;\n",
              "    }\n",
              "\n",
              "    [theme=dark] .colab-df-convert:hover {\n",
              "      background-color: #434B5C;\n",
              "      box-shadow: 0px 1px 3px 1px rgba(0, 0, 0, 0.15);\n",
              "      filter: drop-shadow(0px 1px 2px rgba(0, 0, 0, 0.3));\n",
              "      fill: #FFFFFF;\n",
              "    }\n",
              "  </style>\n",
              "\n",
              "      <script>\n",
              "        const buttonEl =\n",
              "          document.querySelector('#df-ab406fdf-eb90-4388-abc8-4f9da010c50a button.colab-df-convert');\n",
              "        buttonEl.style.display =\n",
              "          google.colab.kernel.accessAllowed ? 'block' : 'none';\n",
              "\n",
              "        async function convertToInteractive(key) {\n",
              "          const element = document.querySelector('#df-ab406fdf-eb90-4388-abc8-4f9da010c50a');\n",
              "          const dataTable =\n",
              "            await google.colab.kernel.invokeFunction('convertToInteractive',\n",
              "                                                     [key], {});\n",
              "          if (!dataTable) return;\n",
              "\n",
              "          const docLinkHtml = 'Like what you see? Visit the ' +\n",
              "            '<a target=\"_blank\" href=https://colab.research.google.com/notebooks/data_table.ipynb>data table notebook</a>'\n",
              "            + ' to learn more about interactive tables.';\n",
              "          element.innerHTML = '';\n",
              "          dataTable['output_type'] = 'display_data';\n",
              "          await google.colab.output.renderOutput(dataTable, element);\n",
              "          const docLink = document.createElement('div');\n",
              "          docLink.innerHTML = docLinkHtml;\n",
              "          element.appendChild(docLink);\n",
              "        }\n",
              "      </script>\n",
              "    </div>\n",
              "  </div>\n",
              "  "
            ],
            "text/plain": [
              "              mirna  fold-change\n",
              "0   hsa-mir-133a-3p     0.064686\n",
              "1    hsa-mir-335-5p     0.066838\n",
              "2    hsa-mir-338-5p     0.096099\n",
              "3    hsa-mir-195-5p     0.118490\n",
              "4     hsa-mir-25-3p     0.213195\n",
              "..              ...          ...\n",
              "80   hsa-mir-377-3p          NaN\n",
              "81     hsa-mir-451a          NaN\n",
              "82    hsa-mir-5692a          NaN\n",
              "83   hsa-mir-590-5p          NaN\n",
              "84     hsa-mir-7-5p          NaN\n",
              "\n",
              "[85 rows x 2 columns]"
            ]
          },
          "execution_count": 37,
          "metadata": {},
          "output_type": "execute_result"
        }
      ],
      "source": [
        "ves"
      ]
    }
  ],
  "metadata": {
    "colab": {
      "name": "Difexpression.ipynb",
      "toc_visible": true,
      "provenance": [],
      "mount_file_id": "1V-baXbnLa888wqU1WRHKsa2-ZsCjaJQV",
      "authorship_tag": "ABX9TyM74ZLufJKx9EbQbe9wdHrO",
      "include_colab_link": true
    },
    "kernelspec": {
      "display_name": "Python 3",
      "name": "python3"
    },
    "language_info": {
      "name": "python"
    }
  },
  "nbformat": 4,
  "nbformat_minor": 0
}